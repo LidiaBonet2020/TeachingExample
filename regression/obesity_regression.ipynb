{
 "cells": [
  {
   "cell_type": "markdown",
   "metadata": {},
   "source": [
    "# Fundamentals of Machine Learning"
   ]
  },
  {
   "cell_type": "markdown",
   "metadata": {},
   "source": [
    "## Machine learning regression tasks"
   ]
  },
  {
   "cell_type": "markdown",
   "metadata": {},
   "source": [
    "Importing modules"
   ]
  },
  {
   "cell_type": "code",
   "execution_count": 1,
   "metadata": {},
   "outputs": [],
   "source": [
    "import numpy as np #linear algebra\n",
    "import pandas as pd #dataframes\n",
    "import sklearn.preprocessing #raw data preprocessing\n",
    "import sklearn.model_selection #grid search + cross validation\n",
    "import sklearn.ensemble #random forest\n",
    "import sklearn.linear_model #linear regression\n",
    "import sklearn.svm #support vector machines\n",
    "import sklearn.neural_network #multilayer perceptron\n",
    "import sklearn.neighbors #k-nearest neighbors\n",
    "import sklearn.tree #decision tree\n",
    "import matplotlib.pyplot as plt #visualization"
   ]
  },
  {
   "cell_type": "markdown",
   "metadata": {},
   "source": [
    "Reading the data from a csv file and saving it into a dataframe"
   ]
  },
  {
   "cell_type": "code",
   "execution_count": 2,
   "metadata": {},
   "outputs": [],
   "source": [
    "data = pd.read_csv('../data/exampleObesityClassReg.csv')"
   ]
  },
  {
   "cell_type": "markdown",
   "metadata": {},
   "source": [
    "### Data Preprocessing"
   ]
  },
  {
   "cell_type": "markdown",
   "metadata": {},
   "source": [
    "Data exploration"
   ]
  },
  {
   "cell_type": "code",
   "execution_count": 3,
   "metadata": {},
   "outputs": [
    {
     "data": {
      "text/html": [
       "<div>\n",
       "<style scoped>\n",
       "    .dataframe tbody tr th:only-of-type {\n",
       "        vertical-align: middle;\n",
       "    }\n",
       "\n",
       "    .dataframe tbody tr th {\n",
       "        vertical-align: top;\n",
       "    }\n",
       "\n",
       "    .dataframe thead th {\n",
       "        text-align: right;\n",
       "    }\n",
       "</style>\n",
       "<table border=\"1\" class=\"dataframe\">\n",
       "  <thead>\n",
       "    <tr style=\"text-align: right;\">\n",
       "      <th></th>\n",
       "      <th>country_name</th>\n",
       "      <th>continent</th>\n",
       "      <th>prevalence</th>\n",
       "      <th>tertile</th>\n",
       "      <th>RTDs/High-Strength Premixes</th>\n",
       "      <th>Processed Fruit and Vegetables</th>\n",
       "      <th>Processed Meat and Seafood</th>\n",
       "      <th>Ready Meals</th>\n",
       "      <th>Rice, Pasta and Noodles</th>\n",
       "      <th>Sauces, Dressings and Condiments</th>\n",
       "      <th>...</th>\n",
       "      <th>Baby Food</th>\n",
       "      <th>Drinking Milk Products</th>\n",
       "      <th>Yoghurt and Sour Milk Products</th>\n",
       "      <th>Other Dairy</th>\n",
       "      <th>Ice Cream and Frozen Desserts</th>\n",
       "      <th>Cocoa Powder</th>\n",
       "      <th>Emulsifiers and Co-Emulsifiers</th>\n",
       "      <th>Fats and Oils</th>\n",
       "      <th>Flours</th>\n",
       "      <th>Milk</th>\n",
       "    </tr>\n",
       "  </thead>\n",
       "  <tbody>\n",
       "    <tr>\n",
       "      <th>66</th>\n",
       "      <td>Slovenia</td>\n",
       "      <td>Europe</td>\n",
       "      <td>0.263871</td>\n",
       "      <td>3</td>\n",
       "      <td>2454.966667</td>\n",
       "      <td>7337.333333</td>\n",
       "      <td>11419.266670</td>\n",
       "      <td>2031.900000</td>\n",
       "      <td>10990.766670</td>\n",
       "      <td>6365.633333</td>\n",
       "      <td>...</td>\n",
       "      <td>1059.166667</td>\n",
       "      <td>75184.000000</td>\n",
       "      <td>13103.766670</td>\n",
       "      <td>7001.166667</td>\n",
       "      <td>3239.900000</td>\n",
       "      <td>228.366667</td>\n",
       "      <td>353.100000</td>\n",
       "      <td>17559.200000</td>\n",
       "      <td>45317.53333</td>\n",
       "      <td>99504.333330</td>\n",
       "    </tr>\n",
       "    <tr>\n",
       "      <th>67</th>\n",
       "      <td>New Zealand</td>\n",
       "      <td>Oceania</td>\n",
       "      <td>0.269757</td>\n",
       "      <td>3</td>\n",
       "      <td>13807.166670</td>\n",
       "      <td>27303.333330</td>\n",
       "      <td>13120.166670</td>\n",
       "      <td>6621.033333</td>\n",
       "      <td>9497.566667</td>\n",
       "      <td>10763.433330</td>\n",
       "      <td>...</td>\n",
       "      <td>1018.166667</td>\n",
       "      <td>114335.400000</td>\n",
       "      <td>6150.566667</td>\n",
       "      <td>5392.400000</td>\n",
       "      <td>13494.666670</td>\n",
       "      <td>277.633333</td>\n",
       "      <td>369.966667</td>\n",
       "      <td>19198.366670</td>\n",
       "      <td>32005.36667</td>\n",
       "      <td>132800.966700</td>\n",
       "    </tr>\n",
       "    <tr>\n",
       "      <th>19</th>\n",
       "      <td>Peru</td>\n",
       "      <td>America</td>\n",
       "      <td>0.162371</td>\n",
       "      <td>1</td>\n",
       "      <td>110.533333</td>\n",
       "      <td>468.366667</td>\n",
       "      <td>1436.366667</td>\n",
       "      <td>12.333333</td>\n",
       "      <td>14236.933330</td>\n",
       "      <td>1000.733333</td>\n",
       "      <td>...</td>\n",
       "      <td>106.900000</td>\n",
       "      <td>8222.166667</td>\n",
       "      <td>3489.300000</td>\n",
       "      <td>14369.966670</td>\n",
       "      <td>793.566667</td>\n",
       "      <td>142.766667</td>\n",
       "      <td>125.500000</td>\n",
       "      <td>11110.833330</td>\n",
       "      <td>27759.66667</td>\n",
       "      <td>17815.166670</td>\n",
       "    </tr>\n",
       "    <tr>\n",
       "      <th>47</th>\n",
       "      <td>Ecuador</td>\n",
       "      <td>America</td>\n",
       "      <td>0.218376</td>\n",
       "      <td>2</td>\n",
       "      <td>133.766667</td>\n",
       "      <td>1851.133333</td>\n",
       "      <td>3227.966667</td>\n",
       "      <td>80.900000</td>\n",
       "      <td>9029.400000</td>\n",
       "      <td>1463.800000</td>\n",
       "      <td>...</td>\n",
       "      <td>419.533333</td>\n",
       "      <td>32145.366670</td>\n",
       "      <td>3687.333333</td>\n",
       "      <td>213.566667</td>\n",
       "      <td>1191.166667</td>\n",
       "      <td>83.100000</td>\n",
       "      <td>130.000000</td>\n",
       "      <td>6213.000000</td>\n",
       "      <td>20808.06667</td>\n",
       "      <td>36225.666670</td>\n",
       "    </tr>\n",
       "    <tr>\n",
       "      <th>4</th>\n",
       "      <td>Indonesia</td>\n",
       "      <td>Asia</td>\n",
       "      <td>0.046816</td>\n",
       "      <td>1</td>\n",
       "      <td>22.000000</td>\n",
       "      <td>150.466667</td>\n",
       "      <td>506.800000</td>\n",
       "      <td>3.166667</td>\n",
       "      <td>33005.633330</td>\n",
       "      <td>3054.800000</td>\n",
       "      <td>...</td>\n",
       "      <td>644.566667</td>\n",
       "      <td>1489.100000</td>\n",
       "      <td>276.300000</td>\n",
       "      <td>1462.966667</td>\n",
       "      <td>403.800000</td>\n",
       "      <td>79.166667</td>\n",
       "      <td>27.633333</td>\n",
       "      <td>5130.233333</td>\n",
       "      <td>6929.60000</td>\n",
       "      <td>2969.766667</td>\n",
       "    </tr>\n",
       "    <tr>\n",
       "      <th>7</th>\n",
       "      <td>Singapore</td>\n",
       "      <td>Asia</td>\n",
       "      <td>0.063294</td>\n",
       "      <td>1</td>\n",
       "      <td>72.133333</td>\n",
       "      <td>6534.000000</td>\n",
       "      <td>5255.333333</td>\n",
       "      <td>889.400000</td>\n",
       "      <td>42256.300000</td>\n",
       "      <td>5492.866667</td>\n",
       "      <td>...</td>\n",
       "      <td>1150.800000</td>\n",
       "      <td>21579.500000</td>\n",
       "      <td>2841.200000</td>\n",
       "      <td>4714.166667</td>\n",
       "      <td>4760.966667</td>\n",
       "      <td>280.533333</td>\n",
       "      <td>134.433333</td>\n",
       "      <td>14444.633330</td>\n",
       "      <td>17122.06667</td>\n",
       "      <td>26384.000000</td>\n",
       "    </tr>\n",
       "    <tr>\n",
       "      <th>2</th>\n",
       "      <td>Japan</td>\n",
       "      <td>Asia</td>\n",
       "      <td>0.044837</td>\n",
       "      <td>1</td>\n",
       "      <td>4773.366667</td>\n",
       "      <td>7882.000000</td>\n",
       "      <td>31266.500000</td>\n",
       "      <td>11406.533330</td>\n",
       "      <td>51489.866670</td>\n",
       "      <td>28564.600000</td>\n",
       "      <td>...</td>\n",
       "      <td>366.500000</td>\n",
       "      <td>33589.800000</td>\n",
       "      <td>9963.800000</td>\n",
       "      <td>1775.833333</td>\n",
       "      <td>5336.266667</td>\n",
       "      <td>259.100000</td>\n",
       "      <td>273.933333</td>\n",
       "      <td>14994.766670</td>\n",
       "      <td>26887.76667</td>\n",
       "      <td>47567.500000</td>\n",
       "    </tr>\n",
       "    <tr>\n",
       "      <th>60</th>\n",
       "      <td>Costa Rica</td>\n",
       "      <td>America</td>\n",
       "      <td>0.244195</td>\n",
       "      <td>3</td>\n",
       "      <td>1319.866667</td>\n",
       "      <td>2526.900000</td>\n",
       "      <td>9112.666667</td>\n",
       "      <td>92.700000</td>\n",
       "      <td>58279.066670</td>\n",
       "      <td>3943.833333</td>\n",
       "      <td>...</td>\n",
       "      <td>496.300000</td>\n",
       "      <td>32771.833330</td>\n",
       "      <td>2410.600000</td>\n",
       "      <td>3623.800000</td>\n",
       "      <td>2308.833333</td>\n",
       "      <td>167.400000</td>\n",
       "      <td>224.200000</td>\n",
       "      <td>13888.966670</td>\n",
       "      <td>21025.70000</td>\n",
       "      <td>39003.466670</td>\n",
       "    </tr>\n",
       "    <tr>\n",
       "      <th>72</th>\n",
       "      <td>Venezuela (Bolivarian Republic of)</td>\n",
       "      <td>America</td>\n",
       "      <td>0.306261</td>\n",
       "      <td>3</td>\n",
       "      <td>927.866667</td>\n",
       "      <td>3237.066667</td>\n",
       "      <td>4561.000000</td>\n",
       "      <td>231.966667</td>\n",
       "      <td>32886.966670</td>\n",
       "      <td>4903.833333</td>\n",
       "      <td>...</td>\n",
       "      <td>1441.566667</td>\n",
       "      <td>15388.100000</td>\n",
       "      <td>1643.000000</td>\n",
       "      <td>561.166667</td>\n",
       "      <td>1493.133333</td>\n",
       "      <td>117.133333</td>\n",
       "      <td>217.100000</td>\n",
       "      <td>14898.066670</td>\n",
       "      <td>28510.26667</td>\n",
       "      <td>21720.800000</td>\n",
       "    </tr>\n",
       "    <tr>\n",
       "      <th>68</th>\n",
       "      <td>Czech Republic</td>\n",
       "      <td>Europe</td>\n",
       "      <td>0.279309</td>\n",
       "      <td>3</td>\n",
       "      <td>410.500000</td>\n",
       "      <td>8943.833333</td>\n",
       "      <td>17111.433330</td>\n",
       "      <td>1814.266667</td>\n",
       "      <td>12743.133330</td>\n",
       "      <td>11062.400000</td>\n",
       "      <td>...</td>\n",
       "      <td>1141.233333</td>\n",
       "      <td>42347.366670</td>\n",
       "      <td>13655.966670</td>\n",
       "      <td>9601.600000</td>\n",
       "      <td>3062.000000</td>\n",
       "      <td>215.466667</td>\n",
       "      <td>511.833333</td>\n",
       "      <td>21927.366670</td>\n",
       "      <td>62208.33333</td>\n",
       "      <td>70163.766670</td>\n",
       "    </tr>\n",
       "  </tbody>\n",
       "</table>\n",
       "<p>10 rows × 52 columns</p>\n",
       "</div>"
      ],
      "text/plain": [
       "                          country_name continent  prevalence  tertile  \\\n",
       "66                            Slovenia    Europe    0.263871        3   \n",
       "67                         New Zealand   Oceania    0.269757        3   \n",
       "19                                Peru   America    0.162371        1   \n",
       "47                             Ecuador   America    0.218376        2   \n",
       "4                            Indonesia      Asia    0.046816        1   \n",
       "7                            Singapore      Asia    0.063294        1   \n",
       "2                                Japan      Asia    0.044837        1   \n",
       "60                          Costa Rica   America    0.244195        3   \n",
       "72  Venezuela (Bolivarian Republic of)   America    0.306261        3   \n",
       "68                      Czech Republic    Europe    0.279309        3   \n",
       "\n",
       "    RTDs/High-Strength Premixes  Processed Fruit and Vegetables  \\\n",
       "66                  2454.966667                     7337.333333   \n",
       "67                 13807.166670                    27303.333330   \n",
       "19                   110.533333                      468.366667   \n",
       "47                   133.766667                     1851.133333   \n",
       "4                     22.000000                      150.466667   \n",
       "7                     72.133333                     6534.000000   \n",
       "2                   4773.366667                     7882.000000   \n",
       "60                  1319.866667                     2526.900000   \n",
       "72                   927.866667                     3237.066667   \n",
       "68                   410.500000                     8943.833333   \n",
       "\n",
       "    Processed Meat and Seafood   Ready Meals  Rice, Pasta and Noodles  \\\n",
       "66                11419.266670   2031.900000             10990.766670   \n",
       "67                13120.166670   6621.033333              9497.566667   \n",
       "19                 1436.366667     12.333333             14236.933330   \n",
       "47                 3227.966667     80.900000              9029.400000   \n",
       "4                   506.800000      3.166667             33005.633330   \n",
       "7                  5255.333333    889.400000             42256.300000   \n",
       "2                 31266.500000  11406.533330             51489.866670   \n",
       "60                 9112.666667     92.700000             58279.066670   \n",
       "72                 4561.000000    231.966667             32886.966670   \n",
       "68                17111.433330   1814.266667             12743.133330   \n",
       "\n",
       "    Sauces, Dressings and Condiments  ...    Baby Food  \\\n",
       "66                       6365.633333  ...  1059.166667   \n",
       "67                      10763.433330  ...  1018.166667   \n",
       "19                       1000.733333  ...   106.900000   \n",
       "47                       1463.800000  ...   419.533333   \n",
       "4                        3054.800000  ...   644.566667   \n",
       "7                        5492.866667  ...  1150.800000   \n",
       "2                       28564.600000  ...   366.500000   \n",
       "60                       3943.833333  ...   496.300000   \n",
       "72                       4903.833333  ...  1441.566667   \n",
       "68                      11062.400000  ...  1141.233333   \n",
       "\n",
       "    Drinking Milk Products  Yoghurt and Sour Milk Products   Other Dairy  \\\n",
       "66            75184.000000                    13103.766670   7001.166667   \n",
       "67           114335.400000                     6150.566667   5392.400000   \n",
       "19             8222.166667                     3489.300000  14369.966670   \n",
       "47            32145.366670                     3687.333333    213.566667   \n",
       "4              1489.100000                      276.300000   1462.966667   \n",
       "7             21579.500000                     2841.200000   4714.166667   \n",
       "2             33589.800000                     9963.800000   1775.833333   \n",
       "60            32771.833330                     2410.600000   3623.800000   \n",
       "72            15388.100000                     1643.000000    561.166667   \n",
       "68            42347.366670                    13655.966670   9601.600000   \n",
       "\n",
       "    Ice Cream and Frozen Desserts  Cocoa Powder  \\\n",
       "66                    3239.900000    228.366667   \n",
       "67                   13494.666670    277.633333   \n",
       "19                     793.566667    142.766667   \n",
       "47                    1191.166667     83.100000   \n",
       "4                      403.800000     79.166667   \n",
       "7                     4760.966667    280.533333   \n",
       "2                     5336.266667    259.100000   \n",
       "60                    2308.833333    167.400000   \n",
       "72                    1493.133333    117.133333   \n",
       "68                    3062.000000    215.466667   \n",
       "\n",
       "    Emulsifiers and Co-Emulsifiers  Fats and Oils       Flours           Milk  \n",
       "66                      353.100000   17559.200000  45317.53333   99504.333330  \n",
       "67                      369.966667   19198.366670  32005.36667  132800.966700  \n",
       "19                      125.500000   11110.833330  27759.66667   17815.166670  \n",
       "47                      130.000000    6213.000000  20808.06667   36225.666670  \n",
       "4                        27.633333    5130.233333   6929.60000    2969.766667  \n",
       "7                       134.433333   14444.633330  17122.06667   26384.000000  \n",
       "2                       273.933333   14994.766670  26887.76667   47567.500000  \n",
       "60                      224.200000   13888.966670  21025.70000   39003.466670  \n",
       "72                      217.100000   14898.066670  28510.26667   21720.800000  \n",
       "68                      511.833333   21927.366670  62208.33333   70163.766670  \n",
       "\n",
       "[10 rows x 52 columns]"
      ]
     },
     "execution_count": 3,
     "metadata": {},
     "output_type": "execute_result"
    }
   ],
   "source": [
    "data.sample(10)"
   ]
  },
  {
   "cell_type": "markdown",
   "metadata": {},
   "source": [
    "Describing the prevalence"
   ]
  },
  {
   "cell_type": "code",
   "execution_count": 4,
   "metadata": {},
   "outputs": [
    {
     "data": {
      "text/plain": [
       "count    79.000000\n",
       "mean      0.195593\n",
       "std       0.080271\n",
       "min       0.016048\n",
       "25%       0.163696\n",
       "50%       0.206130\n",
       "75%       0.241439\n",
       "max       0.353288\n",
       "Name: prevalence, dtype: float64"
      ]
     },
     "execution_count": 4,
     "metadata": {},
     "output_type": "execute_result"
    }
   ],
   "source": [
    "data.prevalence.describe()"
   ]
  },
  {
   "cell_type": "markdown",
   "metadata": {},
   "source": [
    "Exploring the distribution of the labels"
   ]
  },
  {
   "cell_type": "code",
   "execution_count": 5,
   "metadata": {},
   "outputs": [
    {
     "data": {
      "image/png": "[encoded data removed]",
      "text/plain": [
       "<Figure size 432x288 with 1 Axes>"
      ]
     },
     "metadata": {
      "needs_background": "light"
     },
     "output_type": "display_data"
    }
   ],
   "source": [
    "plt.hist(data.prevalence,bins=15)\n",
    "plt.show()"
   ]
  },
  {
   "cell_type": "markdown",
   "metadata": {},
   "source": [
    "Describing the shape of the dataframe"
   ]
  },
  {
   "cell_type": "code",
   "execution_count": 6,
   "metadata": {},
   "outputs": [
    {
     "data": {
      "text/plain": [
       "(79, 52)"
      ]
     },
     "execution_count": 6,
     "metadata": {},
     "output_type": "execute_result"
    }
   ],
   "source": [
    "data.shape"
   ]
  },
  {
   "cell_type": "markdown",
   "metadata": {},
   "source": [
    "Creating a variable which only contains the predictor features"
   ]
  },
  {
   "cell_type": "code",
   "execution_count": 7,
   "metadata": {},
   "outputs": [],
   "source": [
    "features = data[data.columns.difference(['prevalence','tertile','country_name','continent'])]"
   ]
  },
  {
   "cell_type": "markdown",
   "metadata": {},
   "source": [
    "Saving the feature names into a variable"
   ]
  },
  {
   "cell_type": "code",
   "execution_count": 8,
   "metadata": {},
   "outputs": [],
   "source": [
    "feature_names = features.columns"
   ]
  },
  {
   "cell_type": "markdown",
   "metadata": {},
   "source": [
    "Visualizing the features"
   ]
  },
  {
   "cell_type": "code",
   "execution_count": 9,
   "metadata": {
    "scrolled": true
   },
   "outputs": [
    {
     "data": {
      "text/html": [
       "<div>\n",
       "<style scoped>\n",
       "    .dataframe tbody tr th:only-of-type {\n",
       "        vertical-align: middle;\n",
       "    }\n",
       "\n",
       "    .dataframe tbody tr th {\n",
       "        vertical-align: top;\n",
       "    }\n",
       "\n",
       "    .dataframe thead th {\n",
       "        text-align: right;\n",
       "    }\n",
       "</style>\n",
       "<table border=\"1\" class=\"dataframe\">\n",
       "  <thead>\n",
       "    <tr style=\"text-align: right;\">\n",
       "      <th></th>\n",
       "      <th>Baby Food</th>\n",
       "      <th>Baked Goods</th>\n",
       "      <th>Beer</th>\n",
       "      <th>Bottled Water</th>\n",
       "      <th>Breakfast Cereals</th>\n",
       "      <th>Butter and Margarine</th>\n",
       "      <th>Carbonates</th>\n",
       "      <th>Cheese</th>\n",
       "      <th>Chocolate Confectionery</th>\n",
       "      <th>Cocoa Powder</th>\n",
       "      <th>...</th>\n",
       "      <th>Sports and Energy Drinks</th>\n",
       "      <th>Spreads</th>\n",
       "      <th>Starchy Roots</th>\n",
       "      <th>Sugar Confectionery</th>\n",
       "      <th>Sugar and Sweeteners</th>\n",
       "      <th>Sweet Biscuits, Snack Bars and Fruit Snacks</th>\n",
       "      <th>Tea</th>\n",
       "      <th>Vegetables</th>\n",
       "      <th>Wine</th>\n",
       "      <th>Yoghurt and Sour Milk Products</th>\n",
       "    </tr>\n",
       "  </thead>\n",
       "  <tbody>\n",
       "    <tr>\n",
       "      <th>3</th>\n",
       "      <td>52.933333</td>\n",
       "      <td>3054.50000</td>\n",
       "      <td>11499.10000</td>\n",
       "      <td>5467.833333</td>\n",
       "      <td>174.033333</td>\n",
       "      <td>8216.500000</td>\n",
       "      <td>7951.10000</td>\n",
       "      <td>6.566667</td>\n",
       "      <td>43.166667</td>\n",
       "      <td>10.300000</td>\n",
       "      <td>...</td>\n",
       "      <td>33.066667</td>\n",
       "      <td>23.966667</td>\n",
       "      <td>3440.0000</td>\n",
       "      <td>112.366667</td>\n",
       "      <td>3960.833333</td>\n",
       "      <td>251.266667</td>\n",
       "      <td>509.633333</td>\n",
       "      <td>5028.533333</td>\n",
       "      <td>453.4000</td>\n",
       "      <td>512.733333</td>\n",
       "    </tr>\n",
       "    <tr>\n",
       "      <th>48</th>\n",
       "      <td>1079.366667</td>\n",
       "      <td>75819.73333</td>\n",
       "      <td>86080.56667</td>\n",
       "      <td>56575.100000</td>\n",
       "      <td>914.300000</td>\n",
       "      <td>8065.400000</td>\n",
       "      <td>47497.36667</td>\n",
       "      <td>4340.366667</td>\n",
       "      <td>4391.533333</td>\n",
       "      <td>160.133333</td>\n",
       "      <td>...</td>\n",
       "      <td>1532.466667</td>\n",
       "      <td>1540.033333</td>\n",
       "      <td>100107.3667</td>\n",
       "      <td>1200.066667</td>\n",
       "      <td>21013.466670</td>\n",
       "      <td>3129.766667</td>\n",
       "      <td>637.866667</td>\n",
       "      <td>116465.700000</td>\n",
       "      <td>6158.6667</td>\n",
       "      <td>10295.366670</td>\n",
       "    </tr>\n",
       "    <tr>\n",
       "      <th>44</th>\n",
       "      <td>1782.366667</td>\n",
       "      <td>54447.93333</td>\n",
       "      <td>60562.20000</td>\n",
       "      <td>98986.766670</td>\n",
       "      <td>2549.833333</td>\n",
       "      <td>6588.466667</td>\n",
       "      <td>46943.43333</td>\n",
       "      <td>11008.100000</td>\n",
       "      <td>1567.433333</td>\n",
       "      <td>329.933333</td>\n",
       "      <td>...</td>\n",
       "      <td>896.033333</td>\n",
       "      <td>1203.800000</td>\n",
       "      <td>31282.0000</td>\n",
       "      <td>1118.733333</td>\n",
       "      <td>6496.166667</td>\n",
       "      <td>5623.900000</td>\n",
       "      <td>53.900000</td>\n",
       "      <td>101521.033300</td>\n",
       "      <td>47800.1333</td>\n",
       "      <td>17166.233330</td>\n",
       "    </tr>\n",
       "  </tbody>\n",
       "</table>\n",
       "<p>3 rows × 48 columns</p>\n",
       "</div>"
      ],
      "text/plain": [
       "      Baby Food  Baked Goods         Beer  Bottled Water  Breakfast Cereals  \\\n",
       "3     52.933333   3054.50000  11499.10000    5467.833333         174.033333   \n",
       "48  1079.366667  75819.73333  86080.56667   56575.100000         914.300000   \n",
       "44  1782.366667  54447.93333  60562.20000   98986.766670        2549.833333   \n",
       "\n",
       "    Butter and Margarine   Carbonates        Cheese  Chocolate Confectionery  \\\n",
       "3            8216.500000   7951.10000      6.566667                43.166667   \n",
       "48           8065.400000  47497.36667   4340.366667              4391.533333   \n",
       "44           6588.466667  46943.43333  11008.100000              1567.433333   \n",
       "\n",
       "    Cocoa Powder  ...  Sports and Energy Drinks      Spreads  Starchy Roots  \\\n",
       "3      10.300000  ...                 33.066667    23.966667      3440.0000   \n",
       "48    160.133333  ...               1532.466667  1540.033333    100107.3667   \n",
       "44    329.933333  ...                896.033333  1203.800000     31282.0000   \n",
       "\n",
       "    Sugar Confectionery  Sugar and Sweeteners  \\\n",
       "3            112.366667           3960.833333   \n",
       "48          1200.066667          21013.466670   \n",
       "44          1118.733333           6496.166667   \n",
       "\n",
       "    Sweet Biscuits, Snack Bars and Fruit Snacks         Tea     Vegetables  \\\n",
       "3                                    251.266667  509.633333    5028.533333   \n",
       "48                                  3129.766667  637.866667  116465.700000   \n",
       "44                                  5623.900000   53.900000  101521.033300   \n",
       "\n",
       "          Wine  Yoghurt and Sour Milk Products  \n",
       "3     453.4000                      512.733333  \n",
       "48   6158.6667                    10295.366670  \n",
       "44  47800.1333                    17166.233330  \n",
       "\n",
       "[3 rows x 48 columns]"
      ]
     },
     "execution_count": 9,
     "metadata": {},
     "output_type": "execute_result"
    }
   ],
   "source": [
    "features.sample(3)"
   ]
  },
  {
   "cell_type": "markdown",
   "metadata": {},
   "source": [
    "Creating a variable of the numerical labels of the dataset"
   ]
  },
  {
   "cell_type": "code",
   "execution_count": 10,
   "metadata": {},
   "outputs": [],
   "source": [
    "labels_numerical = data.prevalence"
   ]
  },
  {
   "cell_type": "markdown",
   "metadata": {},
   "source": [
    "Normalizing the numerical variables into a min max scaler where the maximum value is transformed into a 1 and the minimum value is 0"
   ]
  },
  {
   "cell_type": "code",
   "execution_count": 11,
   "metadata": {},
   "outputs": [],
   "source": [
    "minMaxScaler = sklearn.preprocessing.MinMaxScaler()\n",
    "features = minMaxScaler.fit_transform(features)"
   ]
  },
  {
   "cell_type": "markdown",
   "metadata": {},
   "source": [
    "Checking if the range of the values is between 0 and 1"
   ]
  },
  {
   "cell_type": "code",
   "execution_count": 12,
   "metadata": {},
   "outputs": [
    {
     "data": {
      "text/plain": [
       "array([[1.03185572e-01, 1.33818127e-03, 1.09283215e-01, 1.49233599e-02,\n",
       "        0.00000000e+00, 3.05246906e-03, 1.69307795e-02, 1.84287043e-03,\n",
       "        3.35912234e-03, 3.22430631e-02, 6.25161770e-02, 1.95383271e-04,\n",
       "        2.40807285e-02, 1.34124650e-01, 8.86528758e-02, 1.42828672e-03,\n",
       "        9.25111471e-02, 2.12577881e-01, 1.51973811e-02, 3.83042097e-01,\n",
       "        1.02277989e-01, 1.04349473e-02, 8.94231364e-03, 3.92787984e-01,\n",
       "        2.35873654e-02, 8.23362026e-01, 4.57720111e-02, 1.29546406e-02,\n",
       "        1.79410705e-03, 1.01928756e-02, 1.15803603e-01, 0.00000000e+00,\n",
       "        3.52686069e-03, 5.51678163e-02, 1.21884279e-01, 3.08558548e-02,\n",
       "        0.00000000e+00, 8.63255982e-03, 8.28225925e-02, 0.00000000e+00,\n",
       "        3.55299793e-01, 5.99909253e-02, 1.22368333e-01, 3.11179893e-02,\n",
       "        5.75844010e-02, 6.57770121e-01, 6.06134921e-03, 2.39244174e-02]])"
      ]
     },
     "execution_count": 12,
     "metadata": {},
     "output_type": "execute_result"
    }
   ],
   "source": [
    "features[:1,:]"
   ]
  },
  {
   "cell_type": "markdown",
   "metadata": {},
   "source": [
    "Splitting the data into training and testing subsets"
   ]
  },
  {
   "cell_type": "code",
   "execution_count": 13,
   "metadata": {},
   "outputs": [],
   "source": [
    "features_train, features_test, labels_numerical_train, labels_numerical_test = sklearn.model_selection.train_test_split(\n",
    "    features,\n",
    "    labels_numerical,\n",
    "    test_size=0.30,\n",
    "    random_state = 55\n",
    ")"
   ]
  },
  {
   "cell_type": "code",
   "execution_count": 14,
   "metadata": {},
   "outputs": [
    {
     "data": {
      "text/plain": [
       "array([[3.10005874e-02, 1.98881520e-01, 3.32067154e-02, ...,\n",
       "        1.42468362e-01, 1.20271631e-02, 1.56250255e-01],\n",
       "       [5.87793249e-02, 5.59400214e-01, 4.36056485e-01, ...,\n",
       "        9.76227321e-01, 1.39791102e-01, 4.99897972e-01],\n",
       "       [4.12362229e-02, 5.49619709e-02, 2.59055740e-01, ...,\n",
       "        1.55432033e-01, 1.23388777e-02, 1.46251479e-02],\n",
       "       ...,\n",
       "       [3.42880835e-01, 3.97060010e-01, 5.14808573e-01, ...,\n",
       "        2.50535117e-01, 4.33482751e-01, 3.20884790e-01],\n",
       "       [8.27315759e-02, 6.62700246e-01, 1.37732071e-02, ...,\n",
       "        5.41375111e-01, 2.70145690e-02, 1.88936049e-01],\n",
       "       [2.40299900e-02, 4.09165363e-01, 7.62634182e-03, ...,\n",
       "        8.41336885e-01, 9.33748442e-04, 7.06493082e-02]])"
      ]
     },
     "execution_count": 14,
     "metadata": {},
     "output_type": "execute_result"
    }
   ],
   "source": [
    "features_train"
   ]
  },
  {
   "cell_type": "markdown",
   "metadata": {},
   "source": [
    "### Machine Learning Data Analysis"
   ]
  },
  {
   "cell_type": "markdown",
   "metadata": {},
   "source": [
    "Training a linear regression model"
   ]
  },
  {
   "cell_type": "code",
   "execution_count": 15,
   "metadata": {},
   "outputs": [],
   "source": [
    "regressor = sklearn.linear_model.LinearRegression()"
   ]
  },
  {
   "cell_type": "code",
   "execution_count": 16,
   "metadata": {},
   "outputs": [
    {
     "data": {
      "text/plain": [
       "LinearRegression()"
      ]
     },
     "execution_count": 16,
     "metadata": {},
     "output_type": "execute_result"
    }
   ],
   "source": [
    "regressor.fit(features_train,labels_numerical_train)"
   ]
  },
  {
   "cell_type": "markdown",
   "metadata": {},
   "source": [
    "Printing the coefficients of each feature"
   ]
  },
  {
   "cell_type": "code",
   "execution_count": 17,
   "metadata": {},
   "outputs": [
    {
     "data": {
      "text/plain": [
       "array([ 0.16677324, -0.35906334,  0.03765829, -0.00785051, -0.04918158,\n",
       "        0.06337703,  0.16007784, -0.18941514,  0.06405334, -0.30994365,\n",
       "       -0.070123  , -0.07786633, -0.52686665, -0.16103048, -0.10058087,\n",
       "        0.04266822,  0.31223977,  0.01970688,  0.24363222, -0.21940706,\n",
       "        0.00305268,  0.0564445 , -0.05077532,  0.25046921,  0.85479572,\n",
       "       -0.14173477, -0.04803398, -0.0340297 , -0.36134998,  0.14881112,\n",
       "        0.44305301, -0.10840107, -0.07486004, -0.02140524, -0.03044997,\n",
       "        0.04409911,  0.32655928, -0.05034695, -0.05027414,  0.08651873,\n",
       "       -0.13958739,  0.12765063, -0.00630166, -0.12305165,  0.08047724,\n",
       "       -0.04569768,  0.18668161, -0.27430608])"
      ]
     },
     "execution_count": 17,
     "metadata": {},
     "output_type": "execute_result"
    }
   ],
   "source": [
    "regressor.coef_"
   ]
  },
  {
   "cell_type": "markdown",
   "metadata": {},
   "source": [
    "Printing the intercept of the linear model"
   ]
  },
  {
   "cell_type": "code",
   "execution_count": 18,
   "metadata": {},
   "outputs": [
    {
     "data": {
      "text/plain": [
       "0.124519239066125"
      ]
     },
     "execution_count": 18,
     "metadata": {},
     "output_type": "execute_result"
    }
   ],
   "source": [
    "regressor.intercept_"
   ]
  },
  {
   "cell_type": "markdown",
   "metadata": {},
   "source": [
    "Making predictions over the testing subset"
   ]
  },
  {
   "cell_type": "code",
   "execution_count": 19,
   "metadata": {},
   "outputs": [],
   "source": [
    "predictions = regressor.predict(features_test)"
   ]
  },
  {
   "cell_type": "code",
   "execution_count": 20,
   "metadata": {},
   "outputs": [
    {
     "data": {
      "text/html": [
       "<div>\n",
       "<style scoped>\n",
       "    .dataframe tbody tr th:only-of-type {\n",
       "        vertical-align: middle;\n",
       "    }\n",
       "\n",
       "    .dataframe tbody tr th {\n",
       "        vertical-align: top;\n",
       "    }\n",
       "\n",
       "    .dataframe thead th {\n",
       "        text-align: right;\n",
       "    }\n",
       "</style>\n",
       "<table border=\"1\" class=\"dataframe\">\n",
       "  <thead>\n",
       "    <tr style=\"text-align: right;\">\n",
       "      <th></th>\n",
       "      <th>true</th>\n",
       "      <th>predicted</th>\n",
       "    </tr>\n",
       "  </thead>\n",
       "  <tbody>\n",
       "    <tr>\n",
       "      <th>21</th>\n",
       "      <td>0.263871</td>\n",
       "      <td>0.270861</td>\n",
       "    </tr>\n",
       "    <tr>\n",
       "      <th>22</th>\n",
       "      <td>0.245770</td>\n",
       "      <td>0.498653</td>\n",
       "    </tr>\n",
       "    <tr>\n",
       "      <th>12</th>\n",
       "      <td>0.169666</td>\n",
       "      <td>0.098764</td>\n",
       "    </tr>\n",
       "    <tr>\n",
       "      <th>13</th>\n",
       "      <td>0.353288</td>\n",
       "      <td>0.132477</td>\n",
       "    </tr>\n",
       "    <tr>\n",
       "      <th>5</th>\n",
       "      <td>0.054962</td>\n",
       "      <td>-0.107278</td>\n",
       "    </tr>\n",
       "  </tbody>\n",
       "</table>\n",
       "</div>"
      ],
      "text/plain": [
       "        true  predicted\n",
       "21  0.263871   0.270861\n",
       "22  0.245770   0.498653\n",
       "12  0.169666   0.098764\n",
       "13  0.353288   0.132477\n",
       "5   0.054962  -0.107278"
      ]
     },
     "execution_count": 20,
     "metadata": {},
     "output_type": "execute_result"
    }
   ],
   "source": [
    "pd.DataFrame(list(zip(labels_numerical_test,predictions)),columns=['true','predicted']).sample(5)"
   ]
  },
  {
   "cell_type": "markdown",
   "metadata": {},
   "source": [
    "Calculating the mean absolute error (MAE)\n",
    "$$MAE = \\frac{1}{n}\\sum_{i=1}^{n}\\left | y_{i} - \\hat{y}_{i} \\right |$$"
   ]
  },
  {
   "cell_type": "code",
   "execution_count": 21,
   "metadata": {},
   "outputs": [
    {
     "data": {
      "text/plain": [
       "0.12506414047167172"
      ]
     },
     "execution_count": 21,
     "metadata": {},
     "output_type": "execute_result"
    }
   ],
   "source": [
    "sklearn.metrics.mean_absolute_error(labels_numerical_test,predictions)"
   ]
  },
  {
   "cell_type": "markdown",
   "metadata": {},
   "source": [
    "Calculating the root mean squared error\n",
    "$$RMSE = \\sqrt {\\frac{1}{n}\\sum_{j=1}^{n}\\left ( y_{i} - \\hat{y}_{i} \\right )^{2}}$$"
   ]
  },
  {
   "cell_type": "code",
   "execution_count": 22,
   "metadata": {},
   "outputs": [
    {
     "data": {
      "text/plain": [
       "0.1515130610958789"
      ]
     },
     "execution_count": 22,
     "metadata": {},
     "output_type": "execute_result"
    }
   ],
   "source": [
    "sklearn.metrics.mean_squared_error(labels_numerical_test,predictions)**0.5"
   ]
  },
  {
   "cell_type": "markdown",
   "metadata": {},
   "source": [
    "Calculating the r-squared statistic"
   ]
  },
  {
   "cell_type": "code",
   "execution_count": 23,
   "metadata": {},
   "outputs": [
    {
     "data": {
      "text/plain": [
       "-1.8306388392558417"
      ]
     },
     "execution_count": 23,
     "metadata": {},
     "output_type": "execute_result"
    }
   ],
   "source": [
    "sklearn.metrics.r2_score(labels_numerical_test,predictions)"
   ]
  },
  {
   "cell_type": "markdown",
   "metadata": {},
   "source": [
    "### Random Forest Regressor"
   ]
  },
  {
   "cell_type": "markdown",
   "metadata": {},
   "source": [
    "Training a random forest regressor with 100 trees"
   ]
  },
  {
   "cell_type": "code",
   "execution_count": 24,
   "metadata": {},
   "outputs": [],
   "source": [
    "regressor = sklearn.ensemble.RandomForestRegressor(n_estimators=100, random_state=15)"
   ]
  },
  {
   "cell_type": "code",
   "execution_count": 25,
   "metadata": {},
   "outputs": [
    {
     "data": {
      "text/plain": [
       "RandomForestRegressor(random_state=15)"
      ]
     },
     "execution_count": 25,
     "metadata": {},
     "output_type": "execute_result"
    }
   ],
   "source": [
    "regressor.fit(features_train,labels_numerical_train)"
   ]
  },
  {
   "cell_type": "markdown",
   "metadata": {},
   "source": [
    "Predicting the labels from the test features subset"
   ]
  },
  {
   "cell_type": "code",
   "execution_count": 26,
   "metadata": {},
   "outputs": [],
   "source": [
    "predictions = regressor.predict(features_test)"
   ]
  },
  {
   "cell_type": "code",
   "execution_count": 27,
   "metadata": {},
   "outputs": [],
   "source": [
    "summary = pd.DataFrame(list(zip(data.country_name,labels_numerical_test,predictions)),columns=['country','true','predicted'])\n",
    "summary['AE'] = abs(summary.true - summary.predicted)\n",
    "summary = summary.sort_values(by='AE',ascending=True)"
   ]
  },
  {
   "cell_type": "markdown",
   "metadata": {},
   "source": [
    "Calculating MAE"
   ]
  },
  {
   "cell_type": "code",
   "execution_count": 28,
   "metadata": {},
   "outputs": [
    {
     "data": {
      "text/plain": [
       "0.04739467970833331"
      ]
     },
     "execution_count": 28,
     "metadata": {},
     "output_type": "execute_result"
    }
   ],
   "source": [
    "sklearn.metrics.mean_absolute_error(labels_numerical_test,predictions)"
   ]
  },
  {
   "cell_type": "markdown",
   "metadata": {},
   "source": [
    "Calculating RMSE"
   ]
  },
  {
   "cell_type": "code",
   "execution_count": 29,
   "metadata": {},
   "outputs": [
    {
     "data": {
      "text/plain": [
       "0.0623159277148924"
      ]
     },
     "execution_count": 29,
     "metadata": {},
     "output_type": "execute_result"
    }
   ],
   "source": [
    "sklearn.metrics.mean_squared_error(labels_numerical_test,predictions)**0.5"
   ]
  },
  {
   "cell_type": "markdown",
   "metadata": {},
   "source": [
    "Calculating r-squared"
   ]
  },
  {
   "cell_type": "code",
   "execution_count": 30,
   "metadata": {},
   "outputs": [
    {
     "data": {
      "text/plain": [
       "0.5211687941975336"
      ]
     },
     "execution_count": 30,
     "metadata": {},
     "output_type": "execute_result"
    }
   ],
   "source": [
    "sklearn.metrics.r2_score(labels_numerical_test,predictions)"
   ]
  },
  {
   "cell_type": "markdown",
   "metadata": {},
   "source": [
    "Exploring the absolute errors by country that are in the testing dataset"
   ]
  },
  {
   "cell_type": "code",
   "execution_count": 31,
   "metadata": {},
   "outputs": [
    {
     "data": {
      "text/html": [
       "<div>\n",
       "<style scoped>\n",
       "    .dataframe tbody tr th:only-of-type {\n",
       "        vertical-align: middle;\n",
       "    }\n",
       "\n",
       "    .dataframe tbody tr th {\n",
       "        vertical-align: top;\n",
       "    }\n",
       "\n",
       "    .dataframe thead th {\n",
       "        text-align: right;\n",
       "    }\n",
       "</style>\n",
       "<table border=\"1\" class=\"dataframe\">\n",
       "  <thead>\n",
       "    <tr style=\"text-align: right;\">\n",
       "      <th></th>\n",
       "      <th>country</th>\n",
       "      <th>true</th>\n",
       "      <th>predicted</th>\n",
       "      <th>AE</th>\n",
       "    </tr>\n",
       "  </thead>\n",
       "  <tbody>\n",
       "    <tr>\n",
       "      <th>11</th>\n",
       "      <td>Taiwan</td>\n",
       "      <td>0.083790</td>\n",
       "      <td>0.083671</td>\n",
       "      <td>0.000119</td>\n",
       "    </tr>\n",
       "    <tr>\n",
       "      <th>6</th>\n",
       "      <td>Pakistan</td>\n",
       "      <td>0.254970</td>\n",
       "      <td>0.252866</td>\n",
       "      <td>0.002104</td>\n",
       "    </tr>\n",
       "    <tr>\n",
       "      <th>22</th>\n",
       "      <td>Uzbekistan</td>\n",
       "      <td>0.245770</td>\n",
       "      <td>0.249052</td>\n",
       "      <td>0.003282</td>\n",
       "    </tr>\n",
       "    <tr>\n",
       "      <th>7</th>\n",
       "      <td>Singapore</td>\n",
       "      <td>0.212405</td>\n",
       "      <td>0.220360</td>\n",
       "      <td>0.007955</td>\n",
       "    </tr>\n",
       "    <tr>\n",
       "      <th>2</th>\n",
       "      <td>Japan</td>\n",
       "      <td>0.241884</td>\n",
       "      <td>0.253848</td>\n",
       "      <td>0.011964</td>\n",
       "    </tr>\n",
       "    <tr>\n",
       "      <th>4</th>\n",
       "      <td>Indonesia</td>\n",
       "      <td>0.046816</td>\n",
       "      <td>0.063987</td>\n",
       "      <td>0.017170</td>\n",
       "    </tr>\n",
       "    <tr>\n",
       "      <th>15</th>\n",
       "      <td>Malaysia</td>\n",
       "      <td>0.240199</td>\n",
       "      <td>0.219912</td>\n",
       "      <td>0.020287</td>\n",
       "    </tr>\n",
       "    <tr>\n",
       "      <th>1</th>\n",
       "      <td>India</td>\n",
       "      <td>0.070481</td>\n",
       "      <td>0.100898</td>\n",
       "      <td>0.030417</td>\n",
       "    </tr>\n",
       "    <tr>\n",
       "      <th>9</th>\n",
       "      <td>Nigeria</td>\n",
       "      <td>0.165021</td>\n",
       "      <td>0.196188</td>\n",
       "      <td>0.031167</td>\n",
       "    </tr>\n",
       "    <tr>\n",
       "      <th>10</th>\n",
       "      <td>Republic of Korea</td>\n",
       "      <td>0.197482</td>\n",
       "      <td>0.231662</td>\n",
       "      <td>0.034180</td>\n",
       "    </tr>\n",
       "    <tr>\n",
       "      <th>18</th>\n",
       "      <td>Denmark</td>\n",
       "      <td>0.291443</td>\n",
       "      <td>0.247683</td>\n",
       "      <td>0.043760</td>\n",
       "    </tr>\n",
       "    <tr>\n",
       "      <th>5</th>\n",
       "      <td>China</td>\n",
       "      <td>0.054962</td>\n",
       "      <td>0.101498</td>\n",
       "      <td>0.046536</td>\n",
       "    </tr>\n",
       "    <tr>\n",
       "      <th>19</th>\n",
       "      <td>Peru</td>\n",
       "      <td>0.162371</td>\n",
       "      <td>0.211961</td>\n",
       "      <td>0.049590</td>\n",
       "    </tr>\n",
       "    <tr>\n",
       "      <th>12</th>\n",
       "      <td>Thailand</td>\n",
       "      <td>0.169666</td>\n",
       "      <td>0.220043</td>\n",
       "      <td>0.050377</td>\n",
       "    </tr>\n",
       "    <tr>\n",
       "      <th>3</th>\n",
       "      <td>Kenya</td>\n",
       "      <td>0.059085</td>\n",
       "      <td>0.109676</td>\n",
       "      <td>0.050591</td>\n",
       "    </tr>\n",
       "    <tr>\n",
       "      <th>17</th>\n",
       "      <td>France</td>\n",
       "      <td>0.172390</td>\n",
       "      <td>0.226564</td>\n",
       "      <td>0.054174</td>\n",
       "    </tr>\n",
       "    <tr>\n",
       "      <th>8</th>\n",
       "      <td>Philippines</td>\n",
       "      <td>0.155723</td>\n",
       "      <td>0.211702</td>\n",
       "      <td>0.055979</td>\n",
       "    </tr>\n",
       "    <tr>\n",
       "      <th>20</th>\n",
       "      <td>Sweden</td>\n",
       "      <td>0.018786</td>\n",
       "      <td>0.074844</td>\n",
       "      <td>0.056058</td>\n",
       "    </tr>\n",
       "    <tr>\n",
       "      <th>21</th>\n",
       "      <td>Italy</td>\n",
       "      <td>0.263871</td>\n",
       "      <td>0.201427</td>\n",
       "      <td>0.062444</td>\n",
       "    </tr>\n",
       "    <tr>\n",
       "      <th>23</th>\n",
       "      <td>Romania</td>\n",
       "      <td>0.046494</td>\n",
       "      <td>0.111185</td>\n",
       "      <td>0.064692</td>\n",
       "    </tr>\n",
       "    <tr>\n",
       "      <th>0</th>\n",
       "      <td>Viet Nam</td>\n",
       "      <td>0.141835</td>\n",
       "      <td>0.072359</td>\n",
       "      <td>0.069476</td>\n",
       "    </tr>\n",
       "    <tr>\n",
       "      <th>14</th>\n",
       "      <td>China (Hong Kong SAR)</td>\n",
       "      <td>0.192777</td>\n",
       "      <td>0.264870</td>\n",
       "      <td>0.072094</td>\n",
       "    </tr>\n",
       "    <tr>\n",
       "      <th>13</th>\n",
       "      <td>Cameroon</td>\n",
       "      <td>0.353288</td>\n",
       "      <td>0.248280</td>\n",
       "      <td>0.105007</td>\n",
       "    </tr>\n",
       "    <tr>\n",
       "      <th>16</th>\n",
       "      <td>Switzerland</td>\n",
       "      <td>0.044837</td>\n",
       "      <td>0.242883</td>\n",
       "      <td>0.198047</td>\n",
       "    </tr>\n",
       "  </tbody>\n",
       "</table>\n",
       "</div>"
      ],
      "text/plain": [
       "                  country      true  predicted        AE\n",
       "11                 Taiwan  0.083790   0.083671  0.000119\n",
       "6                Pakistan  0.254970   0.252866  0.002104\n",
       "22             Uzbekistan  0.245770   0.249052  0.003282\n",
       "7               Singapore  0.212405   0.220360  0.007955\n",
       "2                   Japan  0.241884   0.253848  0.011964\n",
       "4               Indonesia  0.046816   0.063987  0.017170\n",
       "15               Malaysia  0.240199   0.219912  0.020287\n",
       "1                   India  0.070481   0.100898  0.030417\n",
       "9                 Nigeria  0.165021   0.196188  0.031167\n",
       "10      Republic of Korea  0.197482   0.231662  0.034180\n",
       "18                Denmark  0.291443   0.247683  0.043760\n",
       "5                   China  0.054962   0.101498  0.046536\n",
       "19                   Peru  0.162371   0.211961  0.049590\n",
       "12               Thailand  0.169666   0.220043  0.050377\n",
       "3                   Kenya  0.059085   0.109676  0.050591\n",
       "17                 France  0.172390   0.226564  0.054174\n",
       "8             Philippines  0.155723   0.211702  0.055979\n",
       "20                 Sweden  0.018786   0.074844  0.056058\n",
       "21                  Italy  0.263871   0.201427  0.062444\n",
       "23                Romania  0.046494   0.111185  0.064692\n",
       "0                Viet Nam  0.141835   0.072359  0.069476\n",
       "14  China (Hong Kong SAR)  0.192777   0.264870  0.072094\n",
       "13               Cameroon  0.353288   0.248280  0.105007\n",
       "16            Switzerland  0.044837   0.242883  0.198047"
      ]
     },
     "execution_count": 31,
     "metadata": {},
     "output_type": "execute_result"
    }
   ],
   "source": [
    "summary"
   ]
  },
  {
   "cell_type": "markdown",
   "metadata": {},
   "source": [
    "Plotting the absolute errors by country, sorted by absolute error"
   ]
  },
  {
   "cell_type": "code",
   "execution_count": 32,
   "metadata": {},
   "outputs": [
    {
     "data": {
      "image/png": "[encoded data removed]",
      "text/plain": [
       "<Figure size 432x288 with 1 Axes>"
      ]
     },
     "metadata": {
      "needs_background": "light"
     },
     "output_type": "display_data"
    }
   ],
   "source": [
    "plt.barh(summary.country,summary.AE)\n",
    "plt.show()"
   ]
  },
  {
   "cell_type": "markdown",
   "metadata": {},
   "source": [
    "Extracting the variable importance list from the random forest regressor"
   ]
  },
  {
   "cell_type": "code",
   "execution_count": 33,
   "metadata": {},
   "outputs": [],
   "source": [
    "vil = pd.DataFrame(list(zip(feature_names,regressor.feature_importances_)),\n",
    "                   columns=['feature','mean_gini_decrease']\n",
    "                  ).sort_values(by='mean_gini_decrease', ascending=False)"
   ]
  },
  {
   "cell_type": "code",
   "execution_count": 34,
   "metadata": {},
   "outputs": [
    {
     "data": {
      "text/html": [
       "<div>\n",
       "<style scoped>\n",
       "    .dataframe tbody tr th:only-of-type {\n",
       "        vertical-align: middle;\n",
       "    }\n",
       "\n",
       "    .dataframe tbody tr th {\n",
       "        vertical-align: top;\n",
       "    }\n",
       "\n",
       "    .dataframe thead th {\n",
       "        text-align: right;\n",
       "    }\n",
       "</style>\n",
       "<table border=\"1\" class=\"dataframe\">\n",
       "  <thead>\n",
       "    <tr style=\"text-align: right;\">\n",
       "      <th></th>\n",
       "      <th>feature</th>\n",
       "      <th>mean_gini_decrease</th>\n",
       "    </tr>\n",
       "  </thead>\n",
       "  <tbody>\n",
       "    <tr>\n",
       "      <th>18</th>\n",
       "      <td>Flours</td>\n",
       "      <td>0.216964</td>\n",
       "    </tr>\n",
       "    <tr>\n",
       "      <th>1</th>\n",
       "      <td>Baked Goods</td>\n",
       "      <td>0.198272</td>\n",
       "    </tr>\n",
       "    <tr>\n",
       "      <th>30</th>\n",
       "      <td>Pulses</td>\n",
       "      <td>0.095289</td>\n",
       "    </tr>\n",
       "    <tr>\n",
       "      <th>25</th>\n",
       "      <td>Nuts</td>\n",
       "      <td>0.077591</td>\n",
       "    </tr>\n",
       "    <tr>\n",
       "      <th>10</th>\n",
       "      <td>Coffee</td>\n",
       "      <td>0.055990</td>\n",
       "    </tr>\n",
       "  </tbody>\n",
       "</table>\n",
       "</div>"
      ],
      "text/plain": [
       "        feature  mean_gini_decrease\n",
       "18       Flours            0.216964\n",
       "1   Baked Goods            0.198272\n",
       "30       Pulses            0.095289\n",
       "25         Nuts            0.077591\n",
       "10       Coffee            0.055990"
      ]
     },
     "execution_count": 34,
     "metadata": {},
     "output_type": "execute_result"
    }
   ],
   "source": [
    "vil.head()"
   ]
  },
  {
   "cell_type": "markdown",
   "metadata": {},
   "source": [
    "Plotting the variable importance list sorted by the mean decrease gini"
   ]
  },
  {
   "cell_type": "code",
   "execution_count": 35,
   "metadata": {},
   "outputs": [
    {
     "data": {
      "image/png": "[encoded data removed]",
      "text/plain": [
       "<Figure size 432x288 with 1 Axes>"
      ]
     },
     "metadata": {
      "needs_background": "light"
     },
     "output_type": "display_data"
    }
   ],
   "source": [
    "ax = plt.barh(data = vil.sort_values(by='mean_gini_decrease').tail(15), \n",
    "         y='feature', \n",
    "         width = 'mean_gini_decrease'\n",
    "        )\n",
    "plt.show()"
   ]
  },
  {
   "cell_type": "markdown",
   "metadata": {},
   "source": [
    "Averaging the VIL from 50 random forest runs"
   ]
  },
  {
   "cell_type": "code",
   "execution_count": 36,
   "metadata": {},
   "outputs": [],
   "source": [
    "rf_vil  = []\n",
    "for i in range(50):\n",
    "    rf = sklearn.ensemble.RandomForestRegressor(n_estimators=100)\n",
    "    rf = rf.fit(features_train,labels_numerical_train)\n",
    "    rf_vil.append(rf.feature_importances_)\n",
    "mean_vil = np.mean(rf_vil, axis = 0)"
   ]
  },
  {
   "cell_type": "code",
   "execution_count": 37,
   "metadata": {},
   "outputs": [],
   "source": [
    "mean_vil = pd.DataFrame(list(zip(feature_names,mean_vil)),\n",
    "                   columns=['feature','mean_gini_decrease']\n",
    "                  ).sort_values(by='mean_gini_decrease', ascending=False)"
   ]
  },
  {
   "cell_type": "code",
   "execution_count": 38,
   "metadata": {},
   "outputs": [
    {
     "data": {
      "text/html": [
       "<div>\n",
       "<style scoped>\n",
       "    .dataframe tbody tr th:only-of-type {\n",
       "        vertical-align: middle;\n",
       "    }\n",
       "\n",
       "    .dataframe tbody tr th {\n",
       "        vertical-align: top;\n",
       "    }\n",
       "\n",
       "    .dataframe thead th {\n",
       "        text-align: right;\n",
       "    }\n",
       "</style>\n",
       "<table border=\"1\" class=\"dataframe\">\n",
       "  <thead>\n",
       "    <tr style=\"text-align: right;\">\n",
       "      <th></th>\n",
       "      <th>feature</th>\n",
       "      <th>mean_gini_decrease</th>\n",
       "    </tr>\n",
       "  </thead>\n",
       "  <tbody>\n",
       "    <tr>\n",
       "      <th>1</th>\n",
       "      <td>Baked Goods</td>\n",
       "      <td>0.215636</td>\n",
       "    </tr>\n",
       "    <tr>\n",
       "      <th>18</th>\n",
       "      <td>Flours</td>\n",
       "      <td>0.161095</td>\n",
       "    </tr>\n",
       "    <tr>\n",
       "      <th>25</th>\n",
       "      <td>Nuts</td>\n",
       "      <td>0.106673</td>\n",
       "    </tr>\n",
       "    <tr>\n",
       "      <th>30</th>\n",
       "      <td>Pulses</td>\n",
       "      <td>0.091637</td>\n",
       "    </tr>\n",
       "    <tr>\n",
       "      <th>10</th>\n",
       "      <td>Coffee</td>\n",
       "      <td>0.052631</td>\n",
       "    </tr>\n",
       "  </tbody>\n",
       "</table>\n",
       "</div>"
      ],
      "text/plain": [
       "        feature  mean_gini_decrease\n",
       "1   Baked Goods            0.215636\n",
       "18       Flours            0.161095\n",
       "25         Nuts            0.106673\n",
       "30       Pulses            0.091637\n",
       "10       Coffee            0.052631"
      ]
     },
     "execution_count": 38,
     "metadata": {},
     "output_type": "execute_result"
    }
   ],
   "source": [
    "mean_vil.head()"
   ]
  },
  {
   "cell_type": "code",
   "execution_count": 39,
   "metadata": {},
   "outputs": [
    {
     "data": {
      "image/png": "[encoded data removed]",
      "text/plain": [
       "<Figure size 432x288 with 1 Axes>"
      ]
     },
     "metadata": {
      "needs_background": "light"
     },
     "output_type": "display_data"
    }
   ],
   "source": [
    "ax = plt.barh(data = mean_vil.sort_values(by='mean_gini_decrease').tail(15), \n",
    "         y='feature', \n",
    "         width = 'mean_gini_decrease'\n",
    "        )\n",
    "plt.show()"
   ]
  },
  {
   "cell_type": "markdown",
   "metadata": {},
   "source": [
    "### Constructing a cross-validated estimator to predict over all countries"
   ]
  },
  {
   "cell_type": "code",
   "execution_count": 40,
   "metadata": {},
   "outputs": [],
   "source": [
    "regressor = sklearn.ensemble.RandomForestRegressor(n_estimators=100, random_state=15)"
   ]
  },
  {
   "cell_type": "markdown",
   "metadata": {},
   "source": [
    "Training a estimator using the entire dataset but using cross validation to empower the generalization"
   ]
  },
  {
   "cell_type": "code",
   "execution_count": 41,
   "metadata": {},
   "outputs": [],
   "source": [
    "predictions = sklearn.model_selection.cross_val_predict(regressor, features, labels_numerical)"
   ]
  },
  {
   "cell_type": "code",
   "execution_count": 42,
   "metadata": {},
   "outputs": [],
   "source": [
    "summary = pd.DataFrame(list(zip(data.country_name,labels_numerical,predictions)),columns=['country','true','predicted'])\n",
    "summary['AE'] = abs(summary.true - summary.predicted)\n",
    "summary = summary.sort_values(by='AE',ascending=True)"
   ]
  },
  {
   "cell_type": "code",
   "execution_count": 43,
   "metadata": {},
   "outputs": [
    {
     "data": {
      "text/html": [
       "<div>\n",
       "<style scoped>\n",
       "    .dataframe tbody tr th:only-of-type {\n",
       "        vertical-align: middle;\n",
       "    }\n",
       "\n",
       "    .dataframe tbody tr th {\n",
       "        vertical-align: top;\n",
       "    }\n",
       "\n",
       "    .dataframe thead th {\n",
       "        text-align: right;\n",
       "    }\n",
       "</style>\n",
       "<table border=\"1\" class=\"dataframe\">\n",
       "  <thead>\n",
       "    <tr style=\"text-align: right;\">\n",
       "      <th></th>\n",
       "      <th>country</th>\n",
       "      <th>true</th>\n",
       "      <th>predicted</th>\n",
       "      <th>AE</th>\n",
       "    </tr>\n",
       "  </thead>\n",
       "  <tbody>\n",
       "    <tr>\n",
       "      <th>48</th>\n",
       "      <td>Poland</td>\n",
       "      <td>0.227263</td>\n",
       "      <td>0.227680</td>\n",
       "      <td>0.000417</td>\n",
       "    </tr>\n",
       "    <tr>\n",
       "      <th>45</th>\n",
       "      <td>Latvia</td>\n",
       "      <td>0.214695</td>\n",
       "      <td>0.214054</td>\n",
       "      <td>0.000641</td>\n",
       "    </tr>\n",
       "    <tr>\n",
       "      <th>41</th>\n",
       "      <td>Georgia</td>\n",
       "      <td>0.209004</td>\n",
       "      <td>0.207275</td>\n",
       "      <td>0.001729</td>\n",
       "    </tr>\n",
       "    <tr>\n",
       "      <th>52</th>\n",
       "      <td>Kazakhstan</td>\n",
       "      <td>0.236503</td>\n",
       "      <td>0.232895</td>\n",
       "      <td>0.003608</td>\n",
       "    </tr>\n",
       "    <tr>\n",
       "      <th>50</th>\n",
       "      <td>Uruguay</td>\n",
       "      <td>0.234356</td>\n",
       "      <td>0.238608</td>\n",
       "      <td>0.004252</td>\n",
       "    </tr>\n",
       "    <tr>\n",
       "      <th>...</th>\n",
       "      <td>...</td>\n",
       "      <td>...</td>\n",
       "      <td>...</td>\n",
       "      <td>...</td>\n",
       "    </tr>\n",
       "    <tr>\n",
       "      <th>8</th>\n",
       "      <td>Philippines</td>\n",
       "      <td>0.064357</td>\n",
       "      <td>0.258662</td>\n",
       "      <td>0.194304</td>\n",
       "    </tr>\n",
       "    <tr>\n",
       "      <th>2</th>\n",
       "      <td>Japan</td>\n",
       "      <td>0.044837</td>\n",
       "      <td>0.244146</td>\n",
       "      <td>0.199309</td>\n",
       "    </tr>\n",
       "    <tr>\n",
       "      <th>4</th>\n",
       "      <td>Indonesia</td>\n",
       "      <td>0.046816</td>\n",
       "      <td>0.258592</td>\n",
       "      <td>0.211776</td>\n",
       "    </tr>\n",
       "    <tr>\n",
       "      <th>0</th>\n",
       "      <td>Viet Nam</td>\n",
       "      <td>0.016048</td>\n",
       "      <td>0.232403</td>\n",
       "      <td>0.216355</td>\n",
       "    </tr>\n",
       "    <tr>\n",
       "      <th>1</th>\n",
       "      <td>India</td>\n",
       "      <td>0.018786</td>\n",
       "      <td>0.248823</td>\n",
       "      <td>0.230037</td>\n",
       "    </tr>\n",
       "  </tbody>\n",
       "</table>\n",
       "<p>79 rows × 4 columns</p>\n",
       "</div>"
      ],
      "text/plain": [
       "        country      true  predicted        AE\n",
       "48       Poland  0.227263   0.227680  0.000417\n",
       "45       Latvia  0.214695   0.214054  0.000641\n",
       "41      Georgia  0.209004   0.207275  0.001729\n",
       "52   Kazakhstan  0.236503   0.232895  0.003608\n",
       "50      Uruguay  0.234356   0.238608  0.004252\n",
       "..          ...       ...        ...       ...\n",
       "8   Philippines  0.064357   0.258662  0.194304\n",
       "2         Japan  0.044837   0.244146  0.199309\n",
       "4     Indonesia  0.046816   0.258592  0.211776\n",
       "0      Viet Nam  0.016048   0.232403  0.216355\n",
       "1         India  0.018786   0.248823  0.230037\n",
       "\n",
       "[79 rows x 4 columns]"
      ]
     },
     "execution_count": 43,
     "metadata": {},
     "output_type": "execute_result"
    }
   ],
   "source": [
    "summary"
   ]
  },
  {
   "cell_type": "markdown",
   "metadata": {},
   "source": [
    "Plotting the absolute errors by country, sorted by absolute error"
   ]
  },
  {
   "cell_type": "code",
   "execution_count": 44,
   "metadata": {},
   "outputs": [
    {
     "data": {
      "image/png": "[encoded data removed]",
      "text/plain": [
       "<Figure size 720x1440 with 1 Axes>"
      ]
     },
     "metadata": {
      "needs_background": "light"
     },
     "output_type": "display_data"
    }
   ],
   "source": [
    "plt.figure(figsize=(10,20))\n",
    "plt.barh(summary.country,summary.AE)\n",
    "plt.show()"
   ]
  },
  {
   "cell_type": "markdown",
   "metadata": {},
   "source": [
    "### Comparison Between Diferent Machine Learning Models and Hyperparameters"
   ]
  },
  {
   "cell_type": "markdown",
   "metadata": {},
   "source": [
    "Selecting some machine learning training algorithms, training each one and using cross validation to retrieve their performance"
   ]
  },
  {
   "cell_type": "code",
   "execution_count": 45,
   "metadata": {},
   "outputs": [],
   "source": [
    "models = []\n",
    "\n",
    "models.append((\"LinearRegression\",sklearn.linear_model.LinearRegression()))\n",
    "models.append((\"SVR\",sklearn.svm.SVR()))\n",
    "models.append((\"RandomForest\",sklearn.ensemble.RandomForestRegressor()))\n",
    "models.append((\"KNeighbors\",sklearn.neighbors.KNeighborsRegressor()))\n",
    "models.append((\"MLPRegressor\",sklearn.neural_network.MLPRegressor()))\n",
    "models.append((\"DecisionTreeRegressor\",sklearn.tree.DecisionTreeRegressor()))\n",
    "\n",
    "\n",
    "results = []\n",
    "names = []\n",
    "for name,model in models:\n",
    "    result = sklearn.model_selection.cross_val_score(model, \n",
    "                             features, \n",
    "                             labels_numerical,  \n",
    "                             cv=10, \n",
    "                             scoring='neg_mean_absolute_error',\n",
    "                             n_jobs=-1\n",
    "                            )\n",
    "    names.append(name)\n",
    "    results.append(result)"
   ]
  },
  {
   "cell_type": "markdown",
   "metadata": {},
   "source": [
    "List of compared models along with their hyperparameters"
   ]
  },
  {
   "cell_type": "code",
   "execution_count": 46,
   "metadata": {},
   "outputs": [
    {
     "data": {
      "text/plain": [
       "[('LinearRegression', LinearRegression()),\n",
       " ('SVR', SVR()),\n",
       " ('RandomForest', RandomForestRegressor()),\n",
       " ('KNeighbors', KNeighborsRegressor()),\n",
       " ('MLPRegressor', MLPRegressor()),\n",
       " ('DecisionTreeRegressor', DecisionTreeRegressor())]"
      ]
     },
     "execution_count": 46,
     "metadata": {},
     "output_type": "execute_result"
    }
   ],
   "source": [
    "models"
   ]
  },
  {
   "cell_type": "markdown",
   "metadata": {},
   "source": [
    "Box plot of the results (negative mean absolute error) of each model"
   ]
  },
  {
   "cell_type": "code",
   "execution_count": 47,
   "metadata": {},
   "outputs": [
    {
     "data": {
      "image/png": "[encoded data removed]",
      "text/plain": [
       "<Figure size 432x288 with 1 Axes>"
      ]
     },
     "metadata": {
      "needs_background": "light"
     },
     "output_type": "display_data"
    }
   ],
   "source": [
    "plt.boxplot(results,labels = names)\n",
    "plt.xticks(rotation=45)\n",
    "plt.show()"
   ]
  },
  {
   "cell_type": "code",
   "execution_count": 48,
   "metadata": {},
   "outputs": [],
   "source": [
    "##########\n",
    "\n",
    "#compare the models based on other metric\n",
    "\n",
    "##########"
   ]
  },
  {
   "cell_type": "markdown",
   "metadata": {},
   "source": [
    "Grid search for selection of the best hyperparameters"
   ]
  },
  {
   "cell_type": "code",
   "execution_count": 49,
   "metadata": {},
   "outputs": [],
   "source": [
    "# # HIGH PROCESSOR INTENSIVE TASK (~5 minutes calculations of a 12 cores machine)\n",
    "\n",
    "# parameters = {'n_estimators': list(range(260,360,20)),\n",
    "#               'max_features': ['auto', 'sqrt'],\n",
    "#               'max_depth': list(range(20,100,20))+[None],\n",
    "#               'min_samples_split': [2, 5, 10],\n",
    "#               'min_samples_leaf': [1, 2, 4],\n",
    "#               'bootstrap': [True, False]\n",
    "# }\n",
    "# grid_Search = sklearn.model_selection.GridSearchCV(sklearn.ensemble.RandomForestRegressor(), \n",
    "#                                                    parameters, \n",
    "#                                                    n_jobs=-1,\n",
    "#                                                    cv = 3,\n",
    "#                                                    scoring = 'neg_mean_squared_error'\n",
    "#                                                   )\n",
    "\n",
    "# grid_Search.fit(features_train,labels_numerical_train)"
   ]
  },
  {
   "cell_type": "code",
   "execution_count": 50,
   "metadata": {},
   "outputs": [
    {
     "data": {
      "text/plain": [
       "GridSearchCV(cv=3, estimator=RandomForestRegressor(), n_jobs=-1,\n",
       "             param_grid={'n_estimators': [100, 150, 200]},\n",
       "             scoring='neg_mean_absolute_error')"
      ]
     },
     "execution_count": 50,
     "metadata": {},
     "output_type": "execute_result"
    }
   ],
   "source": [
    "#low intensive grid search\n",
    "parameters = {'n_estimators': [100,150,200]\n",
    "}\n",
    "grid_Search = sklearn.model_selection.GridSearchCV(sklearn.ensemble.RandomForestRegressor(), \n",
    "                                                   parameters, \n",
    "                                                   n_jobs=-1,\n",
    "                                                   cv = 3,\n",
    "                                                   scoring = 'neg_mean_absolute_error'\n",
    "                                                  )\n",
    "\n",
    "grid_Search.fit(features_train,labels_numerical_train)"
   ]
  },
  {
   "cell_type": "markdown",
   "metadata": {},
   "source": [
    "The best hyperparameters extracted from the grid search"
   ]
  },
  {
   "cell_type": "code",
   "execution_count": 51,
   "metadata": {},
   "outputs": [
    {
     "data": {
      "text/plain": [
       "{'n_estimators': 100}"
      ]
     },
     "execution_count": 51,
     "metadata": {},
     "output_type": "execute_result"
    }
   ],
   "source": [
    "grid_Search.best_params_"
   ]
  },
  {
   "cell_type": "markdown",
   "metadata": {},
   "source": [
    "The result of each run of the grid search"
   ]
  },
  {
   "cell_type": "code",
   "execution_count": 52,
   "metadata": {},
   "outputs": [
    {
     "data": {
      "text/html": [
       "<div>\n",
       "<style scoped>\n",
       "    .dataframe tbody tr th:only-of-type {\n",
       "        vertical-align: middle;\n",
       "    }\n",
       "\n",
       "    .dataframe tbody tr th {\n",
       "        vertical-align: top;\n",
       "    }\n",
       "\n",
       "    .dataframe thead th {\n",
       "        text-align: right;\n",
       "    }\n",
       "</style>\n",
       "<table border=\"1\" class=\"dataframe\">\n",
       "  <thead>\n",
       "    <tr style=\"text-align: right;\">\n",
       "      <th></th>\n",
       "      <th>mean_fit_time</th>\n",
       "      <th>std_fit_time</th>\n",
       "      <th>mean_score_time</th>\n",
       "      <th>std_score_time</th>\n",
       "      <th>param_n_estimators</th>\n",
       "      <th>params</th>\n",
       "      <th>split0_test_score</th>\n",
       "      <th>split1_test_score</th>\n",
       "      <th>split2_test_score</th>\n",
       "      <th>mean_test_score</th>\n",
       "      <th>std_test_score</th>\n",
       "      <th>rank_test_score</th>\n",
       "    </tr>\n",
       "  </thead>\n",
       "  <tbody>\n",
       "    <tr>\n",
       "      <th>0</th>\n",
       "      <td>0.167886</td>\n",
       "      <td>0.00418</td>\n",
       "      <td>0.006981</td>\n",
       "      <td>0.001410</td>\n",
       "      <td>100</td>\n",
       "      <td>{'n_estimators': 100}</td>\n",
       "      <td>-0.035567</td>\n",
       "      <td>-0.055627</td>\n",
       "      <td>-0.039504</td>\n",
       "      <td>-0.043566</td>\n",
       "      <td>0.008679</td>\n",
       "      <td>1</td>\n",
       "    </tr>\n",
       "    <tr>\n",
       "      <th>1</th>\n",
       "      <td>0.227063</td>\n",
       "      <td>0.00094</td>\n",
       "      <td>0.010306</td>\n",
       "      <td>0.000470</td>\n",
       "      <td>150</td>\n",
       "      <td>{'n_estimators': 150}</td>\n",
       "      <td>-0.038044</td>\n",
       "      <td>-0.056678</td>\n",
       "      <td>-0.041926</td>\n",
       "      <td>-0.045550</td>\n",
       "      <td>0.008027</td>\n",
       "      <td>3</td>\n",
       "    </tr>\n",
       "    <tr>\n",
       "      <th>2</th>\n",
       "      <td>0.284702</td>\n",
       "      <td>0.00663</td>\n",
       "      <td>0.009571</td>\n",
       "      <td>0.000917</td>\n",
       "      <td>200</td>\n",
       "      <td>{'n_estimators': 200}</td>\n",
       "      <td>-0.034219</td>\n",
       "      <td>-0.056269</td>\n",
       "      <td>-0.041923</td>\n",
       "      <td>-0.044137</td>\n",
       "      <td>0.009137</td>\n",
       "      <td>2</td>\n",
       "    </tr>\n",
       "  </tbody>\n",
       "</table>\n",
       "</div>"
      ],
      "text/plain": [
       "   mean_fit_time  std_fit_time  mean_score_time  std_score_time  \\\n",
       "0       0.167886       0.00418         0.006981        0.001410   \n",
       "1       0.227063       0.00094         0.010306        0.000470   \n",
       "2       0.284702       0.00663         0.009571        0.000917   \n",
       "\n",
       "  param_n_estimators                 params  split0_test_score  \\\n",
       "0                100  {'n_estimators': 100}          -0.035567   \n",
       "1                150  {'n_estimators': 150}          -0.038044   \n",
       "2                200  {'n_estimators': 200}          -0.034219   \n",
       "\n",
       "   split1_test_score  split2_test_score  mean_test_score  std_test_score  \\\n",
       "0          -0.055627          -0.039504        -0.043566        0.008679   \n",
       "1          -0.056678          -0.041926        -0.045550        0.008027   \n",
       "2          -0.056269          -0.041923        -0.044137        0.009137   \n",
       "\n",
       "   rank_test_score  \n",
       "0                1  \n",
       "1                3  \n",
       "2                2  "
      ]
     },
     "execution_count": 52,
     "metadata": {},
     "output_type": "execute_result"
    }
   ],
   "source": [
    "pd.DataFrame(grid_Search.cv_results_).head(10)"
   ]
  },
  {
   "cell_type": "markdown",
   "metadata": {},
   "source": [
    "Making predictions over the test subset using the best model from the grid search"
   ]
  },
  {
   "cell_type": "code",
   "execution_count": 53,
   "metadata": {},
   "outputs": [],
   "source": [
    "predictions = grid_Search.predict(features_test)"
   ]
  },
  {
   "cell_type": "markdown",
   "metadata": {},
   "source": [
    "Summary of the results"
   ]
  },
  {
   "cell_type": "code",
   "execution_count": 54,
   "metadata": {},
   "outputs": [
    {
     "data": {
      "text/html": [
       "<div>\n",
       "<style scoped>\n",
       "    .dataframe tbody tr th:only-of-type {\n",
       "        vertical-align: middle;\n",
       "    }\n",
       "\n",
       "    .dataframe tbody tr th {\n",
       "        vertical-align: top;\n",
       "    }\n",
       "\n",
       "    .dataframe thead th {\n",
       "        text-align: right;\n",
       "    }\n",
       "</style>\n",
       "<table border=\"1\" class=\"dataframe\">\n",
       "  <thead>\n",
       "    <tr style=\"text-align: right;\">\n",
       "      <th></th>\n",
       "      <th>true</th>\n",
       "      <th>predicted</th>\n",
       "    </tr>\n",
       "  </thead>\n",
       "  <tbody>\n",
       "    <tr>\n",
       "      <th>3</th>\n",
       "      <td>0.059085</td>\n",
       "      <td>0.143378</td>\n",
       "    </tr>\n",
       "    <tr>\n",
       "      <th>17</th>\n",
       "      <td>0.172390</td>\n",
       "      <td>0.241560</td>\n",
       "    </tr>\n",
       "    <tr>\n",
       "      <th>16</th>\n",
       "      <td>0.044837</td>\n",
       "      <td>0.240686</td>\n",
       "    </tr>\n",
       "    <tr>\n",
       "      <th>11</th>\n",
       "      <td>0.083790</td>\n",
       "      <td>0.077922</td>\n",
       "    </tr>\n",
       "    <tr>\n",
       "      <th>13</th>\n",
       "      <td>0.353288</td>\n",
       "      <td>0.255823</td>\n",
       "    </tr>\n",
       "  </tbody>\n",
       "</table>\n",
       "</div>"
      ],
      "text/plain": [
       "        true  predicted\n",
       "3   0.059085   0.143378\n",
       "17  0.172390   0.241560\n",
       "16  0.044837   0.240686\n",
       "11  0.083790   0.077922\n",
       "13  0.353288   0.255823"
      ]
     },
     "execution_count": 54,
     "metadata": {},
     "output_type": "execute_result"
    }
   ],
   "source": [
    "pd.DataFrame(list(zip(labels_numerical_test,predictions)),columns=['true','predicted']).sample(5)"
   ]
  },
  {
   "cell_type": "markdown",
   "metadata": {},
   "source": [
    "MAE"
   ]
  },
  {
   "cell_type": "code",
   "execution_count": 55,
   "metadata": {},
   "outputs": [
    {
     "data": {
      "text/plain": [
       "0.050221454666666644"
      ]
     },
     "execution_count": 55,
     "metadata": {},
     "output_type": "execute_result"
    }
   ],
   "source": [
    "sklearn.metrics.mean_absolute_error(labels_numerical_test,predictions)"
   ]
  },
  {
   "cell_type": "markdown",
   "metadata": {},
   "source": [
    "RMSE"
   ]
  },
  {
   "cell_type": "code",
   "execution_count": 56,
   "metadata": {},
   "outputs": [
    {
     "data": {
      "text/plain": [
       "0.06488867371411475"
      ]
     },
     "execution_count": 56,
     "metadata": {},
     "output_type": "execute_result"
    }
   ],
   "source": [
    "sklearn.metrics.mean_squared_error(labels_numerical_test,predictions)**0.5"
   ]
  },
  {
   "cell_type": "markdown",
   "metadata": {},
   "source": [
    "R-squared"
   ]
  },
  {
   "cell_type": "code",
   "execution_count": 57,
   "metadata": {},
   "outputs": [
    {
     "data": {
      "text/plain": [
       "0.48081503024635486"
      ]
     },
     "execution_count": 57,
     "metadata": {},
     "output_type": "execute_result"
    }
   ],
   "source": [
    "sklearn.metrics.r2_score(labels_numerical_test,predictions)"
   ]
  },
  {
   "cell_type": "code",
   "execution_count": 58,
   "metadata": {},
   "outputs": [],
   "source": [
    "##########\n",
    "\n",
    "#make your own grid search for other training algorithm\n",
    "\n",
    "##########"
   ]
  }
 ],
 "metadata": {
  "kernelspec": {
   "display_name": "Python 3",
   "language": "python",
   "name": "python3"
  },
  "language_info": {
   "codemirror_mode": {
    "name": "ipython",
    "version": 3
   },
   "file_extension": ".py",
   "mimetype": "text/x-python",
   "name": "python",
   "nbconvert_exporter": "python",
   "pygments_lexer": "ipython3",
   "version": "3.7.6"
  }
 },
 "nbformat": 4,
 "nbformat_minor": 2
}
