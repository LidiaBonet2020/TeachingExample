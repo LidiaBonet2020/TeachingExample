{
 "cells": [
  {
   "cell_type": "markdown",
   "metadata": {},
   "source": [
    "# Fundamentals of Machine Learning"
   ]
  },
  {
   "cell_type": "markdown",
   "metadata": {},
   "source": [
    "## Machine learning regression tasks"
   ]
  },
  {
   "cell_type": "markdown",
   "metadata": {},
   "source": [
    "Importing modules"
   ]
  },
  {
   "cell_type": "code",
   "execution_count": 1,
   "metadata": {
    "collapsed": true
   },
   "outputs": [],
   "source": [
    "import numpy as np #linear algebra\n",
    "import pandas as pd #dataframes\n",
    "import sklearn.preprocessing #raw data preprocessing\n",
    "import sklearn.model_selection #grid search + cross validation\n",
    "import sklearn.ensemble #random forest\n",
    "import sklearn.linear_model #linear regression\n",
    "import sklearn.svm #support vector machines\n",
    "import sklearn.neural_network #multilayer perceptron\n",
    "import sklearn.neighbors #k-nearest neighbors\n",
    "import sklearn.tree #decision tree\n",
    "import matplotlib.pyplot as plt #visualization"
   ]
  },
  {
   "cell_type": "markdown",
   "metadata": {},
   "source": [
    "Reading the data from a csv file and saving it into a dataframe"
   ]
  },
  {
   "cell_type": "code",
   "execution_count": 2,
   "metadata": {
    "collapsed": true
   },
   "outputs": [],
   "source": [
    "data = pd.read_csv('exampleObesityClassReg.csv')"
   ]
  },
  {
   "cell_type": "markdown",
   "metadata": {},
   "source": [
    "### Data Preprocessing"
   ]
  },
  {
   "cell_type": "markdown",
   "metadata": {},
   "source": [
    "Data exploration"
   ]
  },
  {
   "cell_type": "code",
   "execution_count": 3,
   "metadata": {},
   "outputs": [
    {
     "data": {
      "text/html": [
       "<div>\n",
       "<style scoped>\n",
       "    .dataframe tbody tr th:only-of-type {\n",
       "        vertical-align: middle;\n",
       "    }\n",
       "\n",
       "    .dataframe tbody tr th {\n",
       "        vertical-align: top;\n",
       "    }\n",
       "\n",
       "    .dataframe thead th {\n",
       "        text-align: right;\n",
       "    }\n",
       "</style>\n",
       "<table border=\"1\" class=\"dataframe\">\n",
       "  <thead>\n",
       "    <tr style=\"text-align: right;\">\n",
       "      <th></th>\n",
       "      <th>country_name</th>\n",
       "      <th>continent</th>\n",
       "      <th>prevalence</th>\n",
       "      <th>tertile</th>\n",
       "      <th>RTDs/High-Strength Premixes</th>\n",
       "      <th>Processed Fruit and Vegetables</th>\n",
       "      <th>Processed Meat and Seafood</th>\n",
       "      <th>Ready Meals</th>\n",
       "      <th>Rice, Pasta and Noodles</th>\n",
       "      <th>Sauces, Dressings and Condiments</th>\n",
       "      <th>...</th>\n",
       "      <th>Baby Food</th>\n",
       "      <th>Drinking Milk Products</th>\n",
       "      <th>Yoghurt and Sour Milk Products</th>\n",
       "      <th>Other Dairy</th>\n",
       "      <th>Ice Cream and Frozen Desserts</th>\n",
       "      <th>Cocoa Powder</th>\n",
       "      <th>Emulsifiers and Co-Emulsifiers</th>\n",
       "      <th>Fats and Oils</th>\n",
       "      <th>Flours</th>\n",
       "      <th>Milk</th>\n",
       "    </tr>\n",
       "  </thead>\n",
       "  <tbody>\n",
       "    <tr>\n",
       "      <th>63</th>\n",
       "      <td>United Kingdom</td>\n",
       "      <td>Europe</td>\n",
       "      <td>0.246701</td>\n",
       "      <td>3</td>\n",
       "      <td>2175.033333</td>\n",
       "      <td>44816.100000</td>\n",
       "      <td>32313.366670</td>\n",
       "      <td>15679.666670</td>\n",
       "      <td>8744.866667</td>\n",
       "      <td>13525.233330</td>\n",
       "      <td>...</td>\n",
       "      <td>1025.100000</td>\n",
       "      <td>95073.900000</td>\n",
       "      <td>9369.633333</td>\n",
       "      <td>6384.600000</td>\n",
       "      <td>7785.766667</td>\n",
       "      <td>421.833333</td>\n",
       "      <td>669.700000</td>\n",
       "      <td>24986.233330</td>\n",
       "      <td>44291.433330</td>\n",
       "      <td>116990.300000</td>\n",
       "    </tr>\n",
       "    <tr>\n",
       "      <th>56</th>\n",
       "      <td>Azerbaijan</td>\n",
       "      <td>Europe</td>\n",
       "      <td>0.240098</td>\n",
       "      <td>3</td>\n",
       "      <td>0.000000</td>\n",
       "      <td>3236.866667</td>\n",
       "      <td>4725.200000</td>\n",
       "      <td>343.100000</td>\n",
       "      <td>3745.800000</td>\n",
       "      <td>4686.166667</td>\n",
       "      <td>...</td>\n",
       "      <td>337.733333</td>\n",
       "      <td>14379.300000</td>\n",
       "      <td>7252.900000</td>\n",
       "      <td>2631.233333</td>\n",
       "      <td>2511.333333</td>\n",
       "      <td>125.566667</td>\n",
       "      <td>140.000000</td>\n",
       "      <td>16605.200000</td>\n",
       "      <td>35717.366670</td>\n",
       "      <td>26402.433330</td>\n",
       "    </tr>\n",
       "    <tr>\n",
       "      <th>78</th>\n",
       "      <td>Saudi Arabia</td>\n",
       "      <td>Asia</td>\n",
       "      <td>0.353288</td>\n",
       "      <td>3</td>\n",
       "      <td>0.000000</td>\n",
       "      <td>7585.900000</td>\n",
       "      <td>2002.700000</td>\n",
       "      <td>49.400000</td>\n",
       "      <td>36049.966670</td>\n",
       "      <td>4214.800000</td>\n",
       "      <td>...</td>\n",
       "      <td>883.433333</td>\n",
       "      <td>25288.800000</td>\n",
       "      <td>17797.366670</td>\n",
       "      <td>3494.833333</td>\n",
       "      <td>1400.600000</td>\n",
       "      <td>229.533333</td>\n",
       "      <td>143.700000</td>\n",
       "      <td>11653.466670</td>\n",
       "      <td>82370.600000</td>\n",
       "      <td>45401.133330</td>\n",
       "    </tr>\n",
       "    <tr>\n",
       "      <th>6</th>\n",
       "      <td>Pakistan</td>\n",
       "      <td>Asia</td>\n",
       "      <td>0.059085</td>\n",
       "      <td>1</td>\n",
       "      <td>0.000000</td>\n",
       "      <td>21.300000</td>\n",
       "      <td>21.166667</td>\n",
       "      <td>1.733333</td>\n",
       "      <td>1102.900000</td>\n",
       "      <td>96.066667</td>\n",
       "      <td>...</td>\n",
       "      <td>76.700000</td>\n",
       "      <td>4773.133333</td>\n",
       "      <td>8.333333</td>\n",
       "      <td>142.600000</td>\n",
       "      <td>182.600000</td>\n",
       "      <td>12.166667</td>\n",
       "      <td>10.066667</td>\n",
       "      <td>2664.633333</td>\n",
       "      <td>2006.133333</td>\n",
       "      <td>4857.600000</td>\n",
       "    </tr>\n",
       "    <tr>\n",
       "      <th>36</th>\n",
       "      <td>Ukraine</td>\n",
       "      <td>Europe</td>\n",
       "      <td>0.197482</td>\n",
       "      <td>2</td>\n",
       "      <td>2187.633333</td>\n",
       "      <td>4699.100000</td>\n",
       "      <td>8630.866667</td>\n",
       "      <td>2056.900000</td>\n",
       "      <td>4740.633333</td>\n",
       "      <td>7664.400000</td>\n",
       "      <td>...</td>\n",
       "      <td>629.400000</td>\n",
       "      <td>11218.566670</td>\n",
       "      <td>6515.633333</td>\n",
       "      <td>7352.133333</td>\n",
       "      <td>1701.400000</td>\n",
       "      <td>110.500000</td>\n",
       "      <td>499.666667</td>\n",
       "      <td>13883.366670</td>\n",
       "      <td>34833.566670</td>\n",
       "      <td>26400.000000</td>\n",
       "    </tr>\n",
       "    <tr>\n",
       "      <th>45</th>\n",
       "      <td>Latvia</td>\n",
       "      <td>Europe</td>\n",
       "      <td>0.214695</td>\n",
       "      <td>2</td>\n",
       "      <td>6871.133333</td>\n",
       "      <td>7628.333333</td>\n",
       "      <td>13857.633330</td>\n",
       "      <td>2921.966667</td>\n",
       "      <td>7736.666667</td>\n",
       "      <td>12584.500000</td>\n",
       "      <td>...</td>\n",
       "      <td>330.966667</td>\n",
       "      <td>56502.766670</td>\n",
       "      <td>17664.500000</td>\n",
       "      <td>14065.733330</td>\n",
       "      <td>3519.433333</td>\n",
       "      <td>179.700000</td>\n",
       "      <td>559.166667</td>\n",
       "      <td>26338.800000</td>\n",
       "      <td>37478.633330</td>\n",
       "      <td>88511.133330</td>\n",
       "    </tr>\n",
       "    <tr>\n",
       "      <th>5</th>\n",
       "      <td>China</td>\n",
       "      <td>Asia</td>\n",
       "      <td>0.054962</td>\n",
       "      <td>1</td>\n",
       "      <td>13.500000</td>\n",
       "      <td>489.533333</td>\n",
       "      <td>2108.066667</td>\n",
       "      <td>372.500000</td>\n",
       "      <td>7443.766667</td>\n",
       "      <td>5789.666667</td>\n",
       "      <td>...</td>\n",
       "      <td>225.633333</td>\n",
       "      <td>9707.733333</td>\n",
       "      <td>1889.800000</td>\n",
       "      <td>48.933333</td>\n",
       "      <td>2173.500000</td>\n",
       "      <td>77.466667</td>\n",
       "      <td>33.600000</td>\n",
       "      <td>5639.366667</td>\n",
       "      <td>6677.033333</td>\n",
       "      <td>10232.666670</td>\n",
       "    </tr>\n",
       "    <tr>\n",
       "      <th>24</th>\n",
       "      <td>Netherlands</td>\n",
       "      <td>Europe</td>\n",
       "      <td>0.171413</td>\n",
       "      <td>1</td>\n",
       "      <td>906.333333</td>\n",
       "      <td>24005.733330</td>\n",
       "      <td>15575.700000</td>\n",
       "      <td>7125.166667</td>\n",
       "      <td>7408.566667</td>\n",
       "      <td>14069.700000</td>\n",
       "      <td>...</td>\n",
       "      <td>1580.533333</td>\n",
       "      <td>57248.033330</td>\n",
       "      <td>33144.333330</td>\n",
       "      <td>28622.433330</td>\n",
       "      <td>5828.233333</td>\n",
       "      <td>575.833333</td>\n",
       "      <td>937.133333</td>\n",
       "      <td>25961.800000</td>\n",
       "      <td>54165.833330</td>\n",
       "      <td>112733.200000</td>\n",
       "    </tr>\n",
       "    <tr>\n",
       "      <th>8</th>\n",
       "      <td>Philippines</td>\n",
       "      <td>Asia</td>\n",
       "      <td>0.064357</td>\n",
       "      <td>1</td>\n",
       "      <td>49.300000</td>\n",
       "      <td>1036.266667</td>\n",
       "      <td>3804.533333</td>\n",
       "      <td>122.300000</td>\n",
       "      <td>3629.400000</td>\n",
       "      <td>2680.766667</td>\n",
       "      <td>...</td>\n",
       "      <td>593.266667</td>\n",
       "      <td>2673.333333</td>\n",
       "      <td>528.166667</td>\n",
       "      <td>1094.933333</td>\n",
       "      <td>553.166667</td>\n",
       "      <td>67.300000</td>\n",
       "      <td>57.100000</td>\n",
       "      <td>6523.700000</td>\n",
       "      <td>4945.600000</td>\n",
       "      <td>4197.366667</td>\n",
       "    </tr>\n",
       "    <tr>\n",
       "      <th>31</th>\n",
       "      <td>Belgium</td>\n",
       "      <td>Europe</td>\n",
       "      <td>0.186661</td>\n",
       "      <td>2</td>\n",
       "      <td>392.333333</td>\n",
       "      <td>30208.200000</td>\n",
       "      <td>19078.066670</td>\n",
       "      <td>9102.933333</td>\n",
       "      <td>9166.500000</td>\n",
       "      <td>10279.066670</td>\n",
       "      <td>...</td>\n",
       "      <td>2439.633333</td>\n",
       "      <td>68413.300000</td>\n",
       "      <td>15318.966670</td>\n",
       "      <td>13231.933330</td>\n",
       "      <td>5340.300000</td>\n",
       "      <td>654.500000</td>\n",
       "      <td>690.033333</td>\n",
       "      <td>28023.700000</td>\n",
       "      <td>51698.566670</td>\n",
       "      <td>106396.266700</td>\n",
       "    </tr>\n",
       "  </tbody>\n",
       "</table>\n",
       "<p>10 rows × 52 columns</p>\n",
       "</div>"
      ],
      "text/plain": [
       "      country_name continent  prevalence  tertile  \\\n",
       "63  United Kingdom    Europe    0.246701        3   \n",
       "56      Azerbaijan    Europe    0.240098        3   \n",
       "78    Saudi Arabia      Asia    0.353288        3   \n",
       "6         Pakistan      Asia    0.059085        1   \n",
       "36         Ukraine    Europe    0.197482        2   \n",
       "45          Latvia    Europe    0.214695        2   \n",
       "5            China      Asia    0.054962        1   \n",
       "24     Netherlands    Europe    0.171413        1   \n",
       "8      Philippines      Asia    0.064357        1   \n",
       "31         Belgium    Europe    0.186661        2   \n",
       "\n",
       "    RTDs/High-Strength Premixes  Processed Fruit and Vegetables  \\\n",
       "63                  2175.033333                    44816.100000   \n",
       "56                     0.000000                     3236.866667   \n",
       "78                     0.000000                     7585.900000   \n",
       "6                      0.000000                       21.300000   \n",
       "36                  2187.633333                     4699.100000   \n",
       "45                  6871.133333                     7628.333333   \n",
       "5                     13.500000                      489.533333   \n",
       "24                   906.333333                    24005.733330   \n",
       "8                     49.300000                     1036.266667   \n",
       "31                   392.333333                    30208.200000   \n",
       "\n",
       "    Processed Meat and Seafood   Ready Meals  Rice, Pasta and Noodles  \\\n",
       "63                32313.366670  15679.666670              8744.866667   \n",
       "56                 4725.200000    343.100000              3745.800000   \n",
       "78                 2002.700000     49.400000             36049.966670   \n",
       "6                    21.166667      1.733333              1102.900000   \n",
       "36                 8630.866667   2056.900000              4740.633333   \n",
       "45                13857.633330   2921.966667              7736.666667   \n",
       "5                  2108.066667    372.500000              7443.766667   \n",
       "24                15575.700000   7125.166667              7408.566667   \n",
       "8                  3804.533333    122.300000              3629.400000   \n",
       "31                19078.066670   9102.933333              9166.500000   \n",
       "\n",
       "    Sauces, Dressings and Condiments      ...          Baby Food  \\\n",
       "63                      13525.233330      ...        1025.100000   \n",
       "56                       4686.166667      ...         337.733333   \n",
       "78                       4214.800000      ...         883.433333   \n",
       "6                          96.066667      ...          76.700000   \n",
       "36                       7664.400000      ...         629.400000   \n",
       "45                      12584.500000      ...         330.966667   \n",
       "5                        5789.666667      ...         225.633333   \n",
       "24                      14069.700000      ...        1580.533333   \n",
       "8                        2680.766667      ...         593.266667   \n",
       "31                      10279.066670      ...        2439.633333   \n",
       "\n",
       "    Drinking Milk Products  Yoghurt and Sour Milk Products   Other Dairy  \\\n",
       "63            95073.900000                     9369.633333   6384.600000   \n",
       "56            14379.300000                     7252.900000   2631.233333   \n",
       "78            25288.800000                    17797.366670   3494.833333   \n",
       "6              4773.133333                        8.333333    142.600000   \n",
       "36            11218.566670                     6515.633333   7352.133333   \n",
       "45            56502.766670                    17664.500000  14065.733330   \n",
       "5              9707.733333                     1889.800000     48.933333   \n",
       "24            57248.033330                    33144.333330  28622.433330   \n",
       "8              2673.333333                      528.166667   1094.933333   \n",
       "31            68413.300000                    15318.966670  13231.933330   \n",
       "\n",
       "    Ice Cream and Frozen Desserts  Cocoa Powder  \\\n",
       "63                    7785.766667    421.833333   \n",
       "56                    2511.333333    125.566667   \n",
       "78                    1400.600000    229.533333   \n",
       "6                      182.600000     12.166667   \n",
       "36                    1701.400000    110.500000   \n",
       "45                    3519.433333    179.700000   \n",
       "5                     2173.500000     77.466667   \n",
       "24                    5828.233333    575.833333   \n",
       "8                      553.166667     67.300000   \n",
       "31                    5340.300000    654.500000   \n",
       "\n",
       "    Emulsifiers and Co-Emulsifiers  Fats and Oils        Flours           Milk  \n",
       "63                      669.700000   24986.233330  44291.433330  116990.300000  \n",
       "56                      140.000000   16605.200000  35717.366670   26402.433330  \n",
       "78                      143.700000   11653.466670  82370.600000   45401.133330  \n",
       "6                        10.066667    2664.633333   2006.133333    4857.600000  \n",
       "36                      499.666667   13883.366670  34833.566670   26400.000000  \n",
       "45                      559.166667   26338.800000  37478.633330   88511.133330  \n",
       "5                        33.600000    5639.366667   6677.033333   10232.666670  \n",
       "24                      937.133333   25961.800000  54165.833330  112733.200000  \n",
       "8                        57.100000    6523.700000   4945.600000    4197.366667  \n",
       "31                      690.033333   28023.700000  51698.566670  106396.266700  \n",
       "\n",
       "[10 rows x 52 columns]"
      ]
     },
     "execution_count": 3,
     "metadata": {},
     "output_type": "execute_result"
    }
   ],
   "source": [
    "data.sample(10)"
   ]
  },
  {
   "cell_type": "markdown",
   "metadata": {},
   "source": [
    "Describing the prevalence"
   ]
  },
  {
   "cell_type": "code",
   "execution_count": 4,
   "metadata": {},
   "outputs": [
    {
     "data": {
      "text/plain": [
       "count    79.000000\n",
       "mean      0.195593\n",
       "std       0.080271\n",
       "min       0.016048\n",
       "25%       0.163696\n",
       "50%       0.206130\n",
       "75%       0.241439\n",
       "max       0.353288\n",
       "Name: prevalence, dtype: float64"
      ]
     },
     "execution_count": 4,
     "metadata": {},
     "output_type": "execute_result"
    }
   ],
   "source": [
    "data.prevalence.describe()"
   ]
  },
  {
   "cell_type": "markdown",
   "metadata": {},
   "source": [
    "Exploring the distribution of the labels"
   ]
  },
  {
   "cell_type": "code",
   "execution_count": 5,
   "metadata": {},
   "outputs": [
    {
     "data": {
      "image/png": "[encoded data removed]",
      "text/plain": [
       "<Figure size 432x288 with 1 Axes>"
      ]
     },
     "metadata": {
      "needs_background": "light"
     },
     "output_type": "display_data"
    }
   ],
   "source": [
    "plt.hist(data.prevalence,bins=15)\n",
    "plt.show()"
   ]
  },
  {
   "cell_type": "markdown",
   "metadata": {},
   "source": [
    "Describing the shape of the dataframe"
   ]
  },
  {
   "cell_type": "code",
   "execution_count": 6,
   "metadata": {},
   "outputs": [
    {
     "data": {
      "text/plain": [
       "(79, 52)"
      ]
     },
     "execution_count": 6,
     "metadata": {},
     "output_type": "execute_result"
    }
   ],
   "source": [
    "data.shape"
   ]
  },
  {
   "cell_type": "markdown",
   "metadata": {},
   "source": [
    "Creating a variable which only contains the predictor features"
   ]
  },
  {
   "cell_type": "code",
   "execution_count": 7,
   "metadata": {
    "collapsed": true
   },
   "outputs": [],
   "source": [
    "features = data[data.columns.difference(['prevalence','tertile','country_name','continent'])]"
   ]
  },
  {
   "cell_type": "markdown",
   "metadata": {},
   "source": [
    "Saving the feature names into a variable"
   ]
  },
  {
   "cell_type": "code",
   "execution_count": 8,
   "metadata": {
    "collapsed": true
   },
   "outputs": [],
   "source": [
    "feature_names = features.columns"
   ]
  },
  {
   "cell_type": "markdown",
   "metadata": {},
   "source": [
    "Visualizing the features"
   ]
  },
  {
   "cell_type": "code",
   "execution_count": 9,
   "metadata": {
    "scrolled": true
   },
   "outputs": [
    {
     "data": {
      "text/html": [
       "<div>\n",
       "<style scoped>\n",
       "    .dataframe tbody tr th:only-of-type {\n",
       "        vertical-align: middle;\n",
       "    }\n",
       "\n",
       "    .dataframe tbody tr th {\n",
       "        vertical-align: top;\n",
       "    }\n",
       "\n",
       "    .dataframe thead th {\n",
       "        text-align: right;\n",
       "    }\n",
       "</style>\n",
       "<table border=\"1\" class=\"dataframe\">\n",
       "  <thead>\n",
       "    <tr style=\"text-align: right;\">\n",
       "      <th></th>\n",
       "      <th>Baby Food</th>\n",
       "      <th>Baked Goods</th>\n",
       "      <th>Beer</th>\n",
       "      <th>Bottled Water</th>\n",
       "      <th>Breakfast Cereals</th>\n",
       "      <th>Butter and Margarine</th>\n",
       "      <th>Carbonates</th>\n",
       "      <th>Cheese</th>\n",
       "      <th>Chocolate Confectionery</th>\n",
       "      <th>Cocoa Powder</th>\n",
       "      <th>...</th>\n",
       "      <th>Sports and Energy Drinks</th>\n",
       "      <th>Spreads</th>\n",
       "      <th>Starchy Roots</th>\n",
       "      <th>Sugar Confectionery</th>\n",
       "      <th>Sugar and Sweeteners</th>\n",
       "      <th>Sweet Biscuits, Snack Bars and Fruit Snacks</th>\n",
       "      <th>Tea</th>\n",
       "      <th>Vegetables</th>\n",
       "      <th>Wine</th>\n",
       "      <th>Yoghurt and Sour Milk Products</th>\n",
       "    </tr>\n",
       "  </thead>\n",
       "  <tbody>\n",
       "    <tr>\n",
       "      <th>50</th>\n",
       "      <td>180.200000</td>\n",
       "      <td>72835.73333</td>\n",
       "      <td>24399.10000</td>\n",
       "      <td>60169.233330</td>\n",
       "      <td>650.766667</td>\n",
       "      <td>2934.533333</td>\n",
       "      <td>60260.23333</td>\n",
       "      <td>3600.300000</td>\n",
       "      <td>1321.166667</td>\n",
       "      <td>299.7</td>\n",
       "      <td>...</td>\n",
       "      <td>198.766667</td>\n",
       "      <td>999.666667</td>\n",
       "      <td>47469.46667</td>\n",
       "      <td>1817.933333</td>\n",
       "      <td>45653.80000</td>\n",
       "      <td>4045.333333</td>\n",
       "      <td>153.266667</td>\n",
       "      <td>91141.60000</td>\n",
       "      <td>25209.1333</td>\n",
       "      <td>9226.100000</td>\n",
       "    </tr>\n",
       "    <tr>\n",
       "      <th>30</th>\n",
       "      <td>250.033333</td>\n",
       "      <td>25355.56667</td>\n",
       "      <td>32819.76667</td>\n",
       "      <td>5581.333333</td>\n",
       "      <td>366.700000</td>\n",
       "      <td>900.933333</td>\n",
       "      <td>48174.36667</td>\n",
       "      <td>1231.833333</td>\n",
       "      <td>291.533333</td>\n",
       "      <td>107.2</td>\n",
       "      <td>...</td>\n",
       "      <td>503.700000</td>\n",
       "      <td>323.033333</td>\n",
       "      <td>78419.56667</td>\n",
       "      <td>811.500000</td>\n",
       "      <td>31995.83333</td>\n",
       "      <td>1354.166667</td>\n",
       "      <td>139.166667</td>\n",
       "      <td>24956.96667</td>\n",
       "      <td>517.0667</td>\n",
       "      <td>2183.066667</td>\n",
       "    </tr>\n",
       "    <tr>\n",
       "      <th>36</th>\n",
       "      <td>629.400000</td>\n",
       "      <td>49904.03333</td>\n",
       "      <td>61213.36667</td>\n",
       "      <td>37371.933330</td>\n",
       "      <td>445.533333</td>\n",
       "      <td>3478.600000</td>\n",
       "      <td>34297.03333</td>\n",
       "      <td>3975.400000</td>\n",
       "      <td>3858.000000</td>\n",
       "      <td>110.5</td>\n",
       "      <td>...</td>\n",
       "      <td>241.900000</td>\n",
       "      <td>312.833333</td>\n",
       "      <td>108720.56670</td>\n",
       "      <td>2686.966667</td>\n",
       "      <td>25197.23333</td>\n",
       "      <td>3536.533333</td>\n",
       "      <td>468.466667</td>\n",
       "      <td>117751.00000</td>\n",
       "      <td>7940.1000</td>\n",
       "      <td>6515.633333</td>\n",
       "    </tr>\n",
       "  </tbody>\n",
       "</table>\n",
       "<p>3 rows × 48 columns</p>\n",
       "</div>"
      ],
      "text/plain": [
       "     Baby Food  Baked Goods         Beer  Bottled Water  Breakfast Cereals  \\\n",
       "50  180.200000  72835.73333  24399.10000   60169.233330         650.766667   \n",
       "30  250.033333  25355.56667  32819.76667    5581.333333         366.700000   \n",
       "36  629.400000  49904.03333  61213.36667   37371.933330         445.533333   \n",
       "\n",
       "    Butter and Margarine   Carbonates       Cheese  Chocolate Confectionery  \\\n",
       "50           2934.533333  60260.23333  3600.300000              1321.166667   \n",
       "30            900.933333  48174.36667  1231.833333               291.533333   \n",
       "36           3478.600000  34297.03333  3975.400000              3858.000000   \n",
       "\n",
       "    Cocoa Powder               ...                Sports and Energy Drinks  \\\n",
       "50         299.7               ...                              198.766667   \n",
       "30         107.2               ...                              503.700000   \n",
       "36         110.5               ...                              241.900000   \n",
       "\n",
       "       Spreads  Starchy Roots  Sugar Confectionery  Sugar and Sweeteners  \\\n",
       "50  999.666667    47469.46667          1817.933333           45653.80000   \n",
       "30  323.033333    78419.56667           811.500000           31995.83333   \n",
       "36  312.833333   108720.56670          2686.966667           25197.23333   \n",
       "\n",
       "    Sweet Biscuits, Snack Bars and Fruit Snacks         Tea    Vegetables  \\\n",
       "50                                  4045.333333  153.266667   91141.60000   \n",
       "30                                  1354.166667  139.166667   24956.96667   \n",
       "36                                  3536.533333  468.466667  117751.00000   \n",
       "\n",
       "          Wine  Yoghurt and Sour Milk Products  \n",
       "50  25209.1333                     9226.100000  \n",
       "30    517.0667                     2183.066667  \n",
       "36   7940.1000                     6515.633333  \n",
       "\n",
       "[3 rows x 48 columns]"
      ]
     },
     "execution_count": 9,
     "metadata": {},
     "output_type": "execute_result"
    }
   ],
   "source": [
    "features.sample(3)"
   ]
  },
  {
   "cell_type": "markdown",
   "metadata": {},
   "source": [
    "Creating a variable of the numerical labels of the dataset"
   ]
  },
  {
   "cell_type": "code",
   "execution_count": 10,
   "metadata": {
    "collapsed": true
   },
   "outputs": [],
   "source": [
    "labels_numerical = data.prevalence"
   ]
  },
  {
   "cell_type": "markdown",
   "metadata": {},
   "source": [
    "Normalizing the numerical variables into a min max scaler where the maximum value is transformed into a 1 and the minimum value is 0"
   ]
  },
  {
   "cell_type": "code",
   "execution_count": 11,
   "metadata": {
    "collapsed": true
   },
   "outputs": [],
   "source": [
    "minMaxScaler = sklearn.preprocessing.MinMaxScaler()\n",
    "features = minMaxScaler.fit_transform(features)"
   ]
  },
  {
   "cell_type": "markdown",
   "metadata": {},
   "source": [
    "Checking if the range of the values is between 0 and 1"
   ]
  },
  {
   "cell_type": "code",
   "execution_count": 12,
   "metadata": {},
   "outputs": [
    {
     "data": {
      "text/plain": [
       "array([[1.03185572e-01, 1.33818127e-03, 1.09283215e-01, 1.49233599e-02,\n",
       "        0.00000000e+00, 3.05246906e-03, 1.69307795e-02, 1.84287043e-03,\n",
       "        3.35912234e-03, 3.22430631e-02, 6.25161770e-02, 1.95383271e-04,\n",
       "        2.40807285e-02, 1.34124650e-01, 8.86528758e-02, 1.42828672e-03,\n",
       "        9.25111471e-02, 2.12577881e-01, 1.51973811e-02, 3.83042097e-01,\n",
       "        1.02277989e-01, 1.04349473e-02, 8.94231364e-03, 3.92787984e-01,\n",
       "        2.35873654e-02, 8.23362026e-01, 4.57720111e-02, 1.29546406e-02,\n",
       "        1.79410705e-03, 1.01928756e-02, 1.15803603e-01, 0.00000000e+00,\n",
       "        3.52686069e-03, 5.51678163e-02, 1.21884279e-01, 3.08558548e-02,\n",
       "        0.00000000e+00, 8.63255982e-03, 8.28225925e-02, 0.00000000e+00,\n",
       "        3.55299793e-01, 5.99909253e-02, 1.22368333e-01, 3.11179893e-02,\n",
       "        5.75844010e-02, 6.57770121e-01, 6.06134921e-03, 2.39244174e-02]])"
      ]
     },
     "execution_count": 12,
     "metadata": {},
     "output_type": "execute_result"
    }
   ],
   "source": [
    "features[:1,:]"
   ]
  },
  {
   "cell_type": "markdown",
   "metadata": {},
   "source": [
    "Splitting the data into training and testing subsets"
   ]
  },
  {
   "cell_type": "code",
   "execution_count": 13,
   "metadata": {
    "collapsed": true
   },
   "outputs": [],
   "source": [
    "features_train, features_test, labels_numerical_train, labels_numerical_test = sklearn.model_selection.train_test_split(\n",
    "    features,\n",
    "    labels_numerical,\n",
    "    test_size=0.30,\n",
    "    random_state = 55\n",
    ")"
   ]
  },
  {
   "cell_type": "code",
   "execution_count": 14,
   "metadata": {},
   "outputs": [
    {
     "data": {
      "text/plain": [
       "array([[3.10005874e-02, 1.98881520e-01, 3.32067154e-02, ...,\n",
       "        1.42468362e-01, 1.20271631e-02, 1.56250255e-01],\n",
       "       [5.87793249e-02, 5.59400214e-01, 4.36056485e-01, ...,\n",
       "        9.76227321e-01, 1.39791102e-01, 4.99897972e-01],\n",
       "       [4.12362229e-02, 5.49619709e-02, 2.59055740e-01, ...,\n",
       "        1.55432033e-01, 1.23388777e-02, 1.46251479e-02],\n",
       "       ...,\n",
       "       [3.42880835e-01, 3.97060010e-01, 5.14808573e-01, ...,\n",
       "        2.50535117e-01, 4.33482751e-01, 3.20884790e-01],\n",
       "       [8.27315759e-02, 6.62700246e-01, 1.37732071e-02, ...,\n",
       "        5.41375111e-01, 2.70145690e-02, 1.88936049e-01],\n",
       "       [2.40299900e-02, 4.09165363e-01, 7.62634182e-03, ...,\n",
       "        8.41336885e-01, 9.33748442e-04, 7.06493082e-02]])"
      ]
     },
     "execution_count": 14,
     "metadata": {},
     "output_type": "execute_result"
    }
   ],
   "source": [
    "features_train"
   ]
  },
  {
   "cell_type": "markdown",
   "metadata": {},
   "source": [
    "### Machine Learning Data Analysis"
   ]
  },
  {
   "cell_type": "markdown",
   "metadata": {},
   "source": [
    "Training a linear regression model"
   ]
  },
  {
   "cell_type": "code",
   "execution_count": 15,
   "metadata": {
    "collapsed": true
   },
   "outputs": [],
   "source": [
    "regressor = sklearn.linear_model.LinearRegression()"
   ]
  },
  {
   "cell_type": "code",
   "execution_count": 16,
   "metadata": {},
   "outputs": [
    {
     "data": {
      "text/plain": [
       "LinearRegression(copy_X=True, fit_intercept=True, n_jobs=None, normalize=False)"
      ]
     },
     "execution_count": 16,
     "metadata": {},
     "output_type": "execute_result"
    }
   ],
   "source": [
    "regressor.fit(features_train,labels_numerical_train)"
   ]
  },
  {
   "cell_type": "markdown",
   "metadata": {},
   "source": [
    "Printing the coefficients of each feature"
   ]
  },
  {
   "cell_type": "code",
   "execution_count": 17,
   "metadata": {},
   "outputs": [
    {
     "data": {
      "text/plain": [
       "array([ 0.16677324, -0.35906334,  0.03765829, -0.00785051, -0.04918158,\n",
       "        0.06337703,  0.16007784, -0.18941514,  0.06405334, -0.30994365,\n",
       "       -0.070123  , -0.07786633, -0.52686665, -0.16103048, -0.10058087,\n",
       "        0.04266822,  0.31223977,  0.01970688,  0.24363222, -0.21940706,\n",
       "        0.00305268,  0.0564445 , -0.05077532,  0.25046921,  0.85479572,\n",
       "       -0.14173477, -0.04803398, -0.0340297 , -0.36134998,  0.14881112,\n",
       "        0.44305301, -0.10840107, -0.07486004, -0.02140524, -0.03044997,\n",
       "        0.04409911,  0.32655928, -0.05034695, -0.05027414,  0.08651873,\n",
       "       -0.13958739,  0.12765063, -0.00630166, -0.12305165,  0.08047724,\n",
       "       -0.04569768,  0.18668161, -0.27430608])"
      ]
     },
     "execution_count": 17,
     "metadata": {},
     "output_type": "execute_result"
    }
   ],
   "source": [
    "regressor.coef_"
   ]
  },
  {
   "cell_type": "markdown",
   "metadata": {},
   "source": [
    "Printing the intercept of the linear model"
   ]
  },
  {
   "cell_type": "code",
   "execution_count": 18,
   "metadata": {},
   "outputs": [
    {
     "data": {
      "text/plain": [
       "0.12451923906612508"
      ]
     },
     "execution_count": 18,
     "metadata": {},
     "output_type": "execute_result"
    }
   ],
   "source": [
    "regressor.intercept_"
   ]
  },
  {
   "cell_type": "markdown",
   "metadata": {},
   "source": [
    "Making predictions over the testing subset"
   ]
  },
  {
   "cell_type": "code",
   "execution_count": 19,
   "metadata": {
    "collapsed": true
   },
   "outputs": [],
   "source": [
    "predictions = regressor.predict(features_test)"
   ]
  },
  {
   "cell_type": "code",
   "execution_count": 20,
   "metadata": {},
   "outputs": [
    {
     "data": {
      "text/html": [
       "<div>\n",
       "<style scoped>\n",
       "    .dataframe tbody tr th:only-of-type {\n",
       "        vertical-align: middle;\n",
       "    }\n",
       "\n",
       "    .dataframe tbody tr th {\n",
       "        vertical-align: top;\n",
       "    }\n",
       "\n",
       "    .dataframe thead th {\n",
       "        text-align: right;\n",
       "    }\n",
       "</style>\n",
       "<table border=\"1\" class=\"dataframe\">\n",
       "  <thead>\n",
       "    <tr style=\"text-align: right;\">\n",
       "      <th></th>\n",
       "      <th>true</th>\n",
       "      <th>predicted</th>\n",
       "    </tr>\n",
       "  </thead>\n",
       "  <tbody>\n",
       "    <tr>\n",
       "      <th>3</th>\n",
       "      <td>0.059085</td>\n",
       "      <td>0.349609</td>\n",
       "    </tr>\n",
       "    <tr>\n",
       "      <th>8</th>\n",
       "      <td>0.155723</td>\n",
       "      <td>0.166431</td>\n",
       "    </tr>\n",
       "    <tr>\n",
       "      <th>16</th>\n",
       "      <td>0.044837</td>\n",
       "      <td>0.117306</td>\n",
       "    </tr>\n",
       "    <tr>\n",
       "      <th>9</th>\n",
       "      <td>0.165021</td>\n",
       "      <td>0.302789</td>\n",
       "    </tr>\n",
       "    <tr>\n",
       "      <th>10</th>\n",
       "      <td>0.197482</td>\n",
       "      <td>0.136768</td>\n",
       "    </tr>\n",
       "  </tbody>\n",
       "</table>\n",
       "</div>"
      ],
      "text/plain": [
       "        true  predicted\n",
       "3   0.059085   0.349609\n",
       "8   0.155723   0.166431\n",
       "16  0.044837   0.117306\n",
       "9   0.165021   0.302789\n",
       "10  0.197482   0.136768"
      ]
     },
     "execution_count": 20,
     "metadata": {},
     "output_type": "execute_result"
    }
   ],
   "source": [
    "pd.DataFrame(list(zip(labels_numerical_test,predictions)),columns=['true','predicted']).sample(5)"
   ]
  },
  {
   "cell_type": "markdown",
   "metadata": {},
   "source": [
    "Calculating the mean absolute error (MAE)\n",
    "$$MAE = \\frac{1}{n}\\sum_{i=1}^{n}\\left | y_{i} - \\hat{y}_{i} \\right |$$"
   ]
  },
  {
   "cell_type": "code",
   "execution_count": 21,
   "metadata": {},
   "outputs": [
    {
     "data": {
      "text/plain": [
       "0.12506414047167178"
      ]
     },
     "execution_count": 21,
     "metadata": {},
     "output_type": "execute_result"
    }
   ],
   "source": [
    "sklearn.metrics.mean_absolute_error(labels_numerical_test,predictions)"
   ]
  },
  {
   "cell_type": "markdown",
   "metadata": {},
   "source": [
    "Calculating the root mean squared error\n",
    "$$RMSE = \\sqrt {\\frac{1}{n}\\sum_{j=1}^{n}\\left ( y_{i} - \\hat{y}_{i} \\right )^{2}}$$"
   ]
  },
  {
   "cell_type": "code",
   "execution_count": 22,
   "metadata": {},
   "outputs": [
    {
     "data": {
      "text/plain": [
       "0.15151306109587892"
      ]
     },
     "execution_count": 22,
     "metadata": {},
     "output_type": "execute_result"
    }
   ],
   "source": [
    "sklearn.metrics.mean_squared_error(labels_numerical_test,predictions)**0.5"
   ]
  },
  {
   "cell_type": "markdown",
   "metadata": {},
   "source": [
    "Calculating the r-squared statistic"
   ]
  },
  {
   "cell_type": "code",
   "execution_count": 23,
   "metadata": {},
   "outputs": [
    {
     "data": {
      "text/plain": [
       "-1.8306388392558435"
      ]
     },
     "execution_count": 23,
     "metadata": {},
     "output_type": "execute_result"
    }
   ],
   "source": [
    "sklearn.metrics.r2_score(labels_numerical_test,predictions)"
   ]
  },
  {
   "cell_type": "markdown",
   "metadata": {},
   "source": [
    "### Random Forest Regressor"
   ]
  },
  {
   "cell_type": "markdown",
   "metadata": {},
   "source": [
    "Training a random forest regressor with 100 trees"
   ]
  },
  {
   "cell_type": "code",
   "execution_count": 24,
   "metadata": {
    "collapsed": true
   },
   "outputs": [],
   "source": [
    "regressor = sklearn.ensemble.RandomForestRegressor(n_estimators=100, random_state=15)"
   ]
  },
  {
   "cell_type": "code",
   "execution_count": 25,
   "metadata": {},
   "outputs": [
    {
     "data": {
      "text/plain": [
       "RandomForestRegressor(bootstrap=True, criterion='mse', max_depth=None,\n",
       "                      max_features='auto', max_leaf_nodes=None,\n",
       "                      min_impurity_decrease=0.0, min_impurity_split=None,\n",
       "                      min_samples_leaf=1, min_samples_split=2,\n",
       "                      min_weight_fraction_leaf=0.0, n_estimators=100,\n",
       "                      n_jobs=None, oob_score=False, random_state=15, verbose=0,\n",
       "                      warm_start=False)"
      ]
     },
     "execution_count": 25,
     "metadata": {},
     "output_type": "execute_result"
    }
   ],
   "source": [
    "regressor.fit(features_train,labels_numerical_train)"
   ]
  },
  {
   "cell_type": "markdown",
   "metadata": {},
   "source": [
    "Predicting the labels from the test features subset"
   ]
  },
  {
   "cell_type": "code",
   "execution_count": 26,
   "metadata": {
    "collapsed": true
   },
   "outputs": [],
   "source": [
    "predictions = regressor.predict(features_test)"
   ]
  },
  {
   "cell_type": "code",
   "execution_count": 27,
   "metadata": {
    "collapsed": true
   },
   "outputs": [],
   "source": [
    "summary = pd.DataFrame(list(zip(data.country_name,labels_numerical_test,predictions)),columns=['country','true','predicted'])\n",
    "summary['AE'] = abs(summary.true - summary.predicted)\n",
    "summary = summary.sort_values(by='AE',ascending=True)"
   ]
  },
  {
   "cell_type": "markdown",
   "metadata": {},
   "source": [
    "Calculating MAE"
   ]
  },
  {
   "cell_type": "code",
   "execution_count": 28,
   "metadata": {},
   "outputs": [
    {
     "data": {
      "text/plain": [
       "0.047429547056249986"
      ]
     },
     "execution_count": 28,
     "metadata": {},
     "output_type": "execute_result"
    }
   ],
   "source": [
    "sklearn.metrics.mean_absolute_error(labels_numerical_test,predictions)"
   ]
  },
  {
   "cell_type": "markdown",
   "metadata": {},
   "source": [
    "Calculating RMSE"
   ]
  },
  {
   "cell_type": "code",
   "execution_count": 29,
   "metadata": {},
   "outputs": [
    {
     "data": {
      "text/plain": [
       "0.06232385596461852"
      ]
     },
     "execution_count": 29,
     "metadata": {},
     "output_type": "execute_result"
    }
   ],
   "source": [
    "sklearn.metrics.mean_squared_error(labels_numerical_test,predictions)**0.5"
   ]
  },
  {
   "cell_type": "markdown",
   "metadata": {},
   "source": [
    "Calculating r-squared"
   ]
  },
  {
   "cell_type": "code",
   "execution_count": 30,
   "metadata": {},
   "outputs": [
    {
     "data": {
      "text/plain": [
       "0.5210469462202856"
      ]
     },
     "execution_count": 30,
     "metadata": {},
     "output_type": "execute_result"
    }
   ],
   "source": [
    "sklearn.metrics.r2_score(labels_numerical_test,predictions)"
   ]
  },
  {
   "cell_type": "markdown",
   "metadata": {},
   "source": [
    "Exploring the absolute errors by country that are in the testing dataset"
   ]
  },
  {
   "cell_type": "code",
   "execution_count": 31,
   "metadata": {},
   "outputs": [
    {
     "data": {
      "text/html": [
       "<div>\n",
       "<style scoped>\n",
       "    .dataframe tbody tr th:only-of-type {\n",
       "        vertical-align: middle;\n",
       "    }\n",
       "\n",
       "    .dataframe tbody tr th {\n",
       "        vertical-align: top;\n",
       "    }\n",
       "\n",
       "    .dataframe thead th {\n",
       "        text-align: right;\n",
       "    }\n",
       "</style>\n",
       "<table border=\"1\" class=\"dataframe\">\n",
       "  <thead>\n",
       "    <tr style=\"text-align: right;\">\n",
       "      <th></th>\n",
       "      <th>country</th>\n",
       "      <th>true</th>\n",
       "      <th>predicted</th>\n",
       "      <th>AE</th>\n",
       "    </tr>\n",
       "  </thead>\n",
       "  <tbody>\n",
       "    <tr>\n",
       "      <th>11</th>\n",
       "      <td>Taiwan</td>\n",
       "      <td>0.083790</td>\n",
       "      <td>0.083843</td>\n",
       "      <td>0.000053</td>\n",
       "    </tr>\n",
       "    <tr>\n",
       "      <th>6</th>\n",
       "      <td>Pakistan</td>\n",
       "      <td>0.254970</td>\n",
       "      <td>0.253157</td>\n",
       "      <td>0.001814</td>\n",
       "    </tr>\n",
       "    <tr>\n",
       "      <th>22</th>\n",
       "      <td>Uzbekistan</td>\n",
       "      <td>0.245770</td>\n",
       "      <td>0.248652</td>\n",
       "      <td>0.002883</td>\n",
       "    </tr>\n",
       "    <tr>\n",
       "      <th>7</th>\n",
       "      <td>Singapore</td>\n",
       "      <td>0.212405</td>\n",
       "      <td>0.219636</td>\n",
       "      <td>0.007231</td>\n",
       "    </tr>\n",
       "    <tr>\n",
       "      <th>2</th>\n",
       "      <td>Japan</td>\n",
       "      <td>0.241884</td>\n",
       "      <td>0.253040</td>\n",
       "      <td>0.011156</td>\n",
       "    </tr>\n",
       "    <tr>\n",
       "      <th>4</th>\n",
       "      <td>Indonesia</td>\n",
       "      <td>0.046816</td>\n",
       "      <td>0.064171</td>\n",
       "      <td>0.017354</td>\n",
       "    </tr>\n",
       "    <tr>\n",
       "      <th>15</th>\n",
       "      <td>Malaysia</td>\n",
       "      <td>0.240199</td>\n",
       "      <td>0.221080</td>\n",
       "      <td>0.019119</td>\n",
       "    </tr>\n",
       "    <tr>\n",
       "      <th>9</th>\n",
       "      <td>Nigeria</td>\n",
       "      <td>0.165021</td>\n",
       "      <td>0.194351</td>\n",
       "      <td>0.029331</td>\n",
       "    </tr>\n",
       "    <tr>\n",
       "      <th>1</th>\n",
       "      <td>India</td>\n",
       "      <td>0.070481</td>\n",
       "      <td>0.100898</td>\n",
       "      <td>0.030417</td>\n",
       "    </tr>\n",
       "    <tr>\n",
       "      <th>10</th>\n",
       "      <td>Republic of Korea</td>\n",
       "      <td>0.197482</td>\n",
       "      <td>0.233759</td>\n",
       "      <td>0.036278</td>\n",
       "    </tr>\n",
       "    <tr>\n",
       "      <th>18</th>\n",
       "      <td>Denmark</td>\n",
       "      <td>0.291443</td>\n",
       "      <td>0.248704</td>\n",
       "      <td>0.042739</td>\n",
       "    </tr>\n",
       "    <tr>\n",
       "      <th>5</th>\n",
       "      <td>China</td>\n",
       "      <td>0.054962</td>\n",
       "      <td>0.101300</td>\n",
       "      <td>0.046337</td>\n",
       "    </tr>\n",
       "    <tr>\n",
       "      <th>3</th>\n",
       "      <td>Kenya</td>\n",
       "      <td>0.059085</td>\n",
       "      <td>0.109434</td>\n",
       "      <td>0.050349</td>\n",
       "    </tr>\n",
       "    <tr>\n",
       "      <th>12</th>\n",
       "      <td>Thailand</td>\n",
       "      <td>0.169666</td>\n",
       "      <td>0.220082</td>\n",
       "      <td>0.050416</td>\n",
       "    </tr>\n",
       "    <tr>\n",
       "      <th>19</th>\n",
       "      <td>Peru</td>\n",
       "      <td>0.162371</td>\n",
       "      <td>0.214058</td>\n",
       "      <td>0.051687</td>\n",
       "    </tr>\n",
       "    <tr>\n",
       "      <th>17</th>\n",
       "      <td>France</td>\n",
       "      <td>0.172390</td>\n",
       "      <td>0.227442</td>\n",
       "      <td>0.055052</td>\n",
       "    </tr>\n",
       "    <tr>\n",
       "      <th>20</th>\n",
       "      <td>Sweden</td>\n",
       "      <td>0.018786</td>\n",
       "      <td>0.075624</td>\n",
       "      <td>0.056838</td>\n",
       "    </tr>\n",
       "    <tr>\n",
       "      <th>8</th>\n",
       "      <td>Philippines</td>\n",
       "      <td>0.155723</td>\n",
       "      <td>0.213752</td>\n",
       "      <td>0.058029</td>\n",
       "    </tr>\n",
       "    <tr>\n",
       "      <th>21</th>\n",
       "      <td>Italy</td>\n",
       "      <td>0.263871</td>\n",
       "      <td>0.202489</td>\n",
       "      <td>0.061382</td>\n",
       "    </tr>\n",
       "    <tr>\n",
       "      <th>23</th>\n",
       "      <td>Romania</td>\n",
       "      <td>0.046494</td>\n",
       "      <td>0.111948</td>\n",
       "      <td>0.065454</td>\n",
       "    </tr>\n",
       "    <tr>\n",
       "      <th>0</th>\n",
       "      <td>Viet Nam</td>\n",
       "      <td>0.141835</td>\n",
       "      <td>0.072690</td>\n",
       "      <td>0.069145</td>\n",
       "    </tr>\n",
       "    <tr>\n",
       "      <th>14</th>\n",
       "      <td>China (Hong Kong SAR)</td>\n",
       "      <td>0.192777</td>\n",
       "      <td>0.265841</td>\n",
       "      <td>0.073065</td>\n",
       "    </tr>\n",
       "    <tr>\n",
       "      <th>13</th>\n",
       "      <td>Cameroon</td>\n",
       "      <td>0.353288</td>\n",
       "      <td>0.247404</td>\n",
       "      <td>0.105883</td>\n",
       "    </tr>\n",
       "    <tr>\n",
       "      <th>16</th>\n",
       "      <td>Switzerland</td>\n",
       "      <td>0.044837</td>\n",
       "      <td>0.241133</td>\n",
       "      <td>0.196296</td>\n",
       "    </tr>\n",
       "  </tbody>\n",
       "</table>\n",
       "</div>"
      ],
      "text/plain": [
       "                  country      true  predicted        AE\n",
       "11                 Taiwan  0.083790   0.083843  0.000053\n",
       "6                Pakistan  0.254970   0.253157  0.001814\n",
       "22             Uzbekistan  0.245770   0.248652  0.002883\n",
       "7               Singapore  0.212405   0.219636  0.007231\n",
       "2                   Japan  0.241884   0.253040  0.011156\n",
       "4               Indonesia  0.046816   0.064171  0.017354\n",
       "15               Malaysia  0.240199   0.221080  0.019119\n",
       "9                 Nigeria  0.165021   0.194351  0.029331\n",
       "1                   India  0.070481   0.100898  0.030417\n",
       "10      Republic of Korea  0.197482   0.233759  0.036278\n",
       "18                Denmark  0.291443   0.248704  0.042739\n",
       "5                   China  0.054962   0.101300  0.046337\n",
       "3                   Kenya  0.059085   0.109434  0.050349\n",
       "12               Thailand  0.169666   0.220082  0.050416\n",
       "19                   Peru  0.162371   0.214058  0.051687\n",
       "17                 France  0.172390   0.227442  0.055052\n",
       "20                 Sweden  0.018786   0.075624  0.056838\n",
       "8             Philippines  0.155723   0.213752  0.058029\n",
       "21                  Italy  0.263871   0.202489  0.061382\n",
       "23                Romania  0.046494   0.111948  0.065454\n",
       "0                Viet Nam  0.141835   0.072690  0.069145\n",
       "14  China (Hong Kong SAR)  0.192777   0.265841  0.073065\n",
       "13               Cameroon  0.353288   0.247404  0.105883\n",
       "16            Switzerland  0.044837   0.241133  0.196296"
      ]
     },
     "execution_count": 31,
     "metadata": {},
     "output_type": "execute_result"
    }
   ],
   "source": [
    "summary"
   ]
  },
  {
   "cell_type": "markdown",
   "metadata": {},
   "source": [
    "Plotting the absolute errors by country, sorted by absolute error"
   ]
  },
  {
   "cell_type": "code",
   "execution_count": 32,
   "metadata": {},
   "outputs": [
    {
     "data": {
      "image/png": "[encoded data removed]",
      "text/plain": [
       "<Figure size 432x288 with 1 Axes>"
      ]
     },
     "metadata": {
      "needs_background": "light"
     },
     "output_type": "display_data"
    }
   ],
   "source": [
    "plt.barh(summary.country,summary.AE)\n",
    "plt.show()"
   ]
  },
  {
   "cell_type": "markdown",
   "metadata": {},
   "source": [
    "Extracting the variable importance list from the random forest regressor"
   ]
  },
  {
   "cell_type": "code",
   "execution_count": 33,
   "metadata": {
    "collapsed": true
   },
   "outputs": [],
   "source": [
    "vil = pd.DataFrame(list(zip(feature_names,regressor.feature_importances_)),\n",
    "                   columns=['feature','mean_gini_decrease']\n",
    "                  ).sort_values(by='mean_gini_decrease', ascending=False)"
   ]
  },
  {
   "cell_type": "code",
   "execution_count": 34,
   "metadata": {},
   "outputs": [
    {
     "data": {
      "text/html": [
       "<div>\n",
       "<style scoped>\n",
       "    .dataframe tbody tr th:only-of-type {\n",
       "        vertical-align: middle;\n",
       "    }\n",
       "\n",
       "    .dataframe tbody tr th {\n",
       "        vertical-align: top;\n",
       "    }\n",
       "\n",
       "    .dataframe thead th {\n",
       "        text-align: right;\n",
       "    }\n",
       "</style>\n",
       "<table border=\"1\" class=\"dataframe\">\n",
       "  <thead>\n",
       "    <tr style=\"text-align: right;\">\n",
       "      <th></th>\n",
       "      <th>feature</th>\n",
       "      <th>mean_gini_decrease</th>\n",
       "    </tr>\n",
       "  </thead>\n",
       "  <tbody>\n",
       "    <tr>\n",
       "      <th>18</th>\n",
       "      <td>Flours</td>\n",
       "      <td>0.216724</td>\n",
       "    </tr>\n",
       "    <tr>\n",
       "      <th>1</th>\n",
       "      <td>Baked Goods</td>\n",
       "      <td>0.198426</td>\n",
       "    </tr>\n",
       "    <tr>\n",
       "      <th>30</th>\n",
       "      <td>Pulses</td>\n",
       "      <td>0.095162</td>\n",
       "    </tr>\n",
       "    <tr>\n",
       "      <th>25</th>\n",
       "      <td>Nuts</td>\n",
       "      <td>0.077482</td>\n",
       "    </tr>\n",
       "    <tr>\n",
       "      <th>10</th>\n",
       "      <td>Coffee</td>\n",
       "      <td>0.055321</td>\n",
       "    </tr>\n",
       "  </tbody>\n",
       "</table>\n",
       "</div>"
      ],
      "text/plain": [
       "        feature  mean_gini_decrease\n",
       "18       Flours            0.216724\n",
       "1   Baked Goods            0.198426\n",
       "30       Pulses            0.095162\n",
       "25         Nuts            0.077482\n",
       "10       Coffee            0.055321"
      ]
     },
     "execution_count": 34,
     "metadata": {},
     "output_type": "execute_result"
    }
   ],
   "source": [
    "vil.head()"
   ]
  },
  {
   "cell_type": "markdown",
   "metadata": {},
   "source": [
    "Plotting the variable importance list sorted by the mean decrease gini"
   ]
  },
  {
   "cell_type": "code",
   "execution_count": 35,
   "metadata": {},
   "outputs": [
    {
     "data": {
      "image/png": "[encoded data removed]",
      "text/plain": [
       "<Figure size 432x288 with 1 Axes>"
      ]
     },
     "metadata": {
      "needs_background": "light"
     },
     "output_type": "display_data"
    }
   ],
   "source": [
    "ax = plt.barh(data = vil.sort_values(by='mean_gini_decrease').tail(15), \n",
    "         y='feature', \n",
    "         width = 'mean_gini_decrease'\n",
    "        )\n",
    "plt.show()"
   ]
  },
  {
   "cell_type": "markdown",
   "metadata": {},
   "source": [
    "Averaging the VIL from 50 random forest runs"
   ]
  },
  {
   "cell_type": "code",
   "execution_count": 36,
   "metadata": {
    "collapsed": true
   },
   "outputs": [],
   "source": [
    "rf_vil  = []\n",
    "for i in range(50):\n",
    "    rf = sklearn.ensemble.RandomForestRegressor(n_estimators=100)\n",
    "    rf = rf.fit(features_train,labels_numerical_train)\n",
    "    rf_vil.append(rf.feature_importances_)\n",
    "mean_vil = np.mean(rf_vil, axis = 0)"
   ]
  },
  {
   "cell_type": "code",
   "execution_count": 37,
   "metadata": {
    "collapsed": true
   },
   "outputs": [],
   "source": [
    "mean_vil = pd.DataFrame(list(zip(feature_names,mean_vil)),\n",
    "                   columns=['feature','mean_gini_decrease']\n",
    "                  ).sort_values(by='mean_gini_decrease', ascending=False)"
   ]
  },
  {
   "cell_type": "code",
   "execution_count": 38,
   "metadata": {},
   "outputs": [
    {
     "data": {
      "text/html": [
       "<div>\n",
       "<style scoped>\n",
       "    .dataframe tbody tr th:only-of-type {\n",
       "        vertical-align: middle;\n",
       "    }\n",
       "\n",
       "    .dataframe tbody tr th {\n",
       "        vertical-align: top;\n",
       "    }\n",
       "\n",
       "    .dataframe thead th {\n",
       "        text-align: right;\n",
       "    }\n",
       "</style>\n",
       "<table border=\"1\" class=\"dataframe\">\n",
       "  <thead>\n",
       "    <tr style=\"text-align: right;\">\n",
       "      <th></th>\n",
       "      <th>feature</th>\n",
       "      <th>mean_gini_decrease</th>\n",
       "    </tr>\n",
       "  </thead>\n",
       "  <tbody>\n",
       "    <tr>\n",
       "      <th>1</th>\n",
       "      <td>Baked Goods</td>\n",
       "      <td>0.210766</td>\n",
       "    </tr>\n",
       "    <tr>\n",
       "      <th>18</th>\n",
       "      <td>Flours</td>\n",
       "      <td>0.166201</td>\n",
       "    </tr>\n",
       "    <tr>\n",
       "      <th>25</th>\n",
       "      <td>Nuts</td>\n",
       "      <td>0.106505</td>\n",
       "    </tr>\n",
       "    <tr>\n",
       "      <th>30</th>\n",
       "      <td>Pulses</td>\n",
       "      <td>0.095433</td>\n",
       "    </tr>\n",
       "    <tr>\n",
       "      <th>10</th>\n",
       "      <td>Coffee</td>\n",
       "      <td>0.051575</td>\n",
       "    </tr>\n",
       "  </tbody>\n",
       "</table>\n",
       "</div>"
      ],
      "text/plain": [
       "        feature  mean_gini_decrease\n",
       "1   Baked Goods            0.210766\n",
       "18       Flours            0.166201\n",
       "25         Nuts            0.106505\n",
       "30       Pulses            0.095433\n",
       "10       Coffee            0.051575"
      ]
     },
     "execution_count": 38,
     "metadata": {},
     "output_type": "execute_result"
    }
   ],
   "source": [
    "mean_vil.head()"
   ]
  },
  {
   "cell_type": "code",
   "execution_count": 39,
   "metadata": {},
   "outputs": [
    {
     "data": {
      "image/png": "[encoded data removed]",
      "text/plain": [
       "<Figure size 432x288 with 1 Axes>"
      ]
     },
     "metadata": {
      "needs_background": "light"
     },
     "output_type": "display_data"
    }
   ],
   "source": [
    "ax = plt.barh(data = mean_vil.sort_values(by='mean_gini_decrease').tail(15), \n",
    "         y='feature', \n",
    "         width = 'mean_gini_decrease'\n",
    "        )\n",
    "plt.show()"
   ]
  },
  {
   "cell_type": "markdown",
   "metadata": {},
   "source": [
    "### Constructing a cross-validated estimator to predict over all countries"
   ]
  },
  {
   "cell_type": "code",
   "execution_count": 40,
   "metadata": {
    "collapsed": true
   },
   "outputs": [],
   "source": [
    "regressor = sklearn.ensemble.RandomForestRegressor(n_estimators=100, random_state=15)"
   ]
  },
  {
   "cell_type": "markdown",
   "metadata": {},
   "source": [
    "Training a estimator using the entire dataset but using cross validation to empower the generalization"
   ]
  },
  {
   "cell_type": "code",
   "execution_count": 41,
   "metadata": {},
   "outputs": [
    {
     "name": "stderr",
     "output_type": "stream",
     "text": [
      "C:\\ProgramData\\Anaconda3\\lib\\site-packages\\sklearn\\model_selection\\_split.py:1978: FutureWarning: The default value of cv will change from 3 to 5 in version 0.22. Specify it explicitly to silence this warning.\n",
      "  warnings.warn(CV_WARNING, FutureWarning)\n"
     ]
    }
   ],
   "source": [
    "predictions = sklearn.model_selection.cross_val_predict(regressor, features, labels_numerical)"
   ]
  },
  {
   "cell_type": "code",
   "execution_count": 42,
   "metadata": {
    "collapsed": true
   },
   "outputs": [],
   "source": [
    "summary = pd.DataFrame(list(zip(data.country_name,labels_numerical,predictions)),columns=['country','true','predicted'])\n",
    "summary['AE'] = abs(summary.true - summary.predicted)\n",
    "summary = summary.sort_values(by='AE',ascending=True)"
   ]
  },
  {
   "cell_type": "code",
   "execution_count": 43,
   "metadata": {},
   "outputs": [
    {
     "data": {
      "text/html": [
       "<div>\n",
       "<style scoped>\n",
       "    .dataframe tbody tr th:only-of-type {\n",
       "        vertical-align: middle;\n",
       "    }\n",
       "\n",
       "    .dataframe tbody tr th {\n",
       "        vertical-align: top;\n",
       "    }\n",
       "\n",
       "    .dataframe thead th {\n",
       "        text-align: right;\n",
       "    }\n",
       "</style>\n",
       "<table border=\"1\" class=\"dataframe\">\n",
       "  <thead>\n",
       "    <tr style=\"text-align: right;\">\n",
       "      <th></th>\n",
       "      <th>country</th>\n",
       "      <th>true</th>\n",
       "      <th>predicted</th>\n",
       "      <th>AE</th>\n",
       "    </tr>\n",
       "  </thead>\n",
       "  <tbody>\n",
       "    <tr>\n",
       "      <th>37</th>\n",
       "      <td>Morocco</td>\n",
       "      <td>0.199042</td>\n",
       "      <td>0.198994</td>\n",
       "      <td>0.000048</td>\n",
       "    </tr>\n",
       "    <tr>\n",
       "      <th>52</th>\n",
       "      <td>Kazakhstan</td>\n",
       "      <td>0.236503</td>\n",
       "      <td>0.236439</td>\n",
       "      <td>0.000064</td>\n",
       "    </tr>\n",
       "    <tr>\n",
       "      <th>43</th>\n",
       "      <td>Germany</td>\n",
       "      <td>0.211409</td>\n",
       "      <td>0.211617</td>\n",
       "      <td>0.000208</td>\n",
       "    </tr>\n",
       "    <tr>\n",
       "      <th>35</th>\n",
       "      <td>Norway</td>\n",
       "      <td>0.196593</td>\n",
       "      <td>0.196343</td>\n",
       "      <td>0.000250</td>\n",
       "    </tr>\n",
       "    <tr>\n",
       "      <th>31</th>\n",
       "      <td>Belgium</td>\n",
       "      <td>0.186661</td>\n",
       "      <td>0.186956</td>\n",
       "      <td>0.000295</td>\n",
       "    </tr>\n",
       "    <tr>\n",
       "      <th>40</th>\n",
       "      <td>Guatemala</td>\n",
       "      <td>0.206170</td>\n",
       "      <td>0.206539</td>\n",
       "      <td>0.000369</td>\n",
       "    </tr>\n",
       "    <tr>\n",
       "      <th>41</th>\n",
       "      <td>Georgia</td>\n",
       "      <td>0.209004</td>\n",
       "      <td>0.206802</td>\n",
       "      <td>0.002201</td>\n",
       "    </tr>\n",
       "    <tr>\n",
       "      <th>30</th>\n",
       "      <td>Bolivia</td>\n",
       "      <td>0.185507</td>\n",
       "      <td>0.175135</td>\n",
       "      <td>0.010372</td>\n",
       "    </tr>\n",
       "    <tr>\n",
       "      <th>45</th>\n",
       "      <td>Latvia</td>\n",
       "      <td>0.214695</td>\n",
       "      <td>0.225184</td>\n",
       "      <td>0.010489</td>\n",
       "    </tr>\n",
       "    <tr>\n",
       "      <th>33</th>\n",
       "      <td>Finland</td>\n",
       "      <td>0.195756</td>\n",
       "      <td>0.183934</td>\n",
       "      <td>0.011823</td>\n",
       "    </tr>\n",
       "    <tr>\n",
       "      <th>51</th>\n",
       "      <td>Bosnia and Herzegovina</td>\n",
       "      <td>0.236474</td>\n",
       "      <td>0.249300</td>\n",
       "      <td>0.012826</td>\n",
       "    </tr>\n",
       "    <tr>\n",
       "      <th>49</th>\n",
       "      <td>Belarus</td>\n",
       "      <td>0.231179</td>\n",
       "      <td>0.217906</td>\n",
       "      <td>0.013273</td>\n",
       "    </tr>\n",
       "    <tr>\n",
       "      <th>42</th>\n",
       "      <td>Bulgaria</td>\n",
       "      <td>0.209111</td>\n",
       "      <td>0.222609</td>\n",
       "      <td>0.013498</td>\n",
       "    </tr>\n",
       "    <tr>\n",
       "      <th>46</th>\n",
       "      <td>Serbia</td>\n",
       "      <td>0.217378</td>\n",
       "      <td>0.231827</td>\n",
       "      <td>0.014449</td>\n",
       "    </tr>\n",
       "    <tr>\n",
       "      <th>48</th>\n",
       "      <td>Poland</td>\n",
       "      <td>0.227263</td>\n",
       "      <td>0.245436</td>\n",
       "      <td>0.018173</td>\n",
       "    </tr>\n",
       "    <tr>\n",
       "      <th>44</th>\n",
       "      <td>Portugal</td>\n",
       "      <td>0.212405</td>\n",
       "      <td>0.237926</td>\n",
       "      <td>0.025521</td>\n",
       "    </tr>\n",
       "    <tr>\n",
       "      <th>27</th>\n",
       "      <td>Colombia</td>\n",
       "      <td>0.178267</td>\n",
       "      <td>0.205591</td>\n",
       "      <td>0.027324</td>\n",
       "    </tr>\n",
       "    <tr>\n",
       "      <th>28</th>\n",
       "      <td>Austria</td>\n",
       "      <td>0.181713</td>\n",
       "      <td>0.209404</td>\n",
       "      <td>0.027691</td>\n",
       "    </tr>\n",
       "    <tr>\n",
       "      <th>39</th>\n",
       "      <td>Croatia</td>\n",
       "      <td>0.206130</td>\n",
       "      <td>0.235178</td>\n",
       "      <td>0.029048</td>\n",
       "    </tr>\n",
       "    <tr>\n",
       "      <th>57</th>\n",
       "      <td>Hungary</td>\n",
       "      <td>0.240199</td>\n",
       "      <td>0.206932</td>\n",
       "      <td>0.033267</td>\n",
       "    </tr>\n",
       "    <tr>\n",
       "      <th>54</th>\n",
       "      <td>Lithuania</td>\n",
       "      <td>0.238105</td>\n",
       "      <td>0.201765</td>\n",
       "      <td>0.036340</td>\n",
       "    </tr>\n",
       "    <tr>\n",
       "      <th>58</th>\n",
       "      <td>Slovakia</td>\n",
       "      <td>0.240995</td>\n",
       "      <td>0.204185</td>\n",
       "      <td>0.036810</td>\n",
       "    </tr>\n",
       "    <tr>\n",
       "      <th>34</th>\n",
       "      <td>Macedonia (Former Yugoslav Republic of)</td>\n",
       "      <td>0.195840</td>\n",
       "      <td>0.234194</td>\n",
       "      <td>0.038354</td>\n",
       "    </tr>\n",
       "    <tr>\n",
       "      <th>36</th>\n",
       "      <td>Ukraine</td>\n",
       "      <td>0.197482</td>\n",
       "      <td>0.238039</td>\n",
       "      <td>0.040557</td>\n",
       "    </tr>\n",
       "    <tr>\n",
       "      <th>56</th>\n",
       "      <td>Azerbaijan</td>\n",
       "      <td>0.240098</td>\n",
       "      <td>0.198568</td>\n",
       "      <td>0.041530</td>\n",
       "    </tr>\n",
       "    <tr>\n",
       "      <th>24</th>\n",
       "      <td>Netherlands</td>\n",
       "      <td>0.171413</td>\n",
       "      <td>0.215503</td>\n",
       "      <td>0.044090</td>\n",
       "    </tr>\n",
       "    <tr>\n",
       "      <th>53</th>\n",
       "      <td>Tunisia</td>\n",
       "      <td>0.237079</td>\n",
       "      <td>0.191727</td>\n",
       "      <td>0.045352</td>\n",
       "    </tr>\n",
       "    <tr>\n",
       "      <th>61</th>\n",
       "      <td>Russian Federation</td>\n",
       "      <td>0.245127</td>\n",
       "      <td>0.197235</td>\n",
       "      <td>0.047892</td>\n",
       "    </tr>\n",
       "    <tr>\n",
       "      <th>19</th>\n",
       "      <td>Peru</td>\n",
       "      <td>0.162371</td>\n",
       "      <td>0.210459</td>\n",
       "      <td>0.048089</td>\n",
       "    </tr>\n",
       "    <tr>\n",
       "      <th>23</th>\n",
       "      <td>Romania</td>\n",
       "      <td>0.169666</td>\n",
       "      <td>0.220866</td>\n",
       "      <td>0.051200</td>\n",
       "    </tr>\n",
       "    <tr>\n",
       "      <th>...</th>\n",
       "      <td>...</td>\n",
       "      <td>...</td>\n",
       "      <td>...</td>\n",
       "      <td>...</td>\n",
       "    </tr>\n",
       "    <tr>\n",
       "      <th>67</th>\n",
       "      <td>New Zealand</td>\n",
       "      <td>0.269757</td>\n",
       "      <td>0.185947</td>\n",
       "      <td>0.083810</td>\n",
       "    </tr>\n",
       "    <tr>\n",
       "      <th>70</th>\n",
       "      <td>Turkey</td>\n",
       "      <td>0.291415</td>\n",
       "      <td>0.201933</td>\n",
       "      <td>0.089482</td>\n",
       "    </tr>\n",
       "    <tr>\n",
       "      <th>32</th>\n",
       "      <td>Brazil</td>\n",
       "      <td>0.192777</td>\n",
       "      <td>0.284134</td>\n",
       "      <td>0.091358</td>\n",
       "    </tr>\n",
       "    <tr>\n",
       "      <th>69</th>\n",
       "      <td>Chile</td>\n",
       "      <td>0.289636</td>\n",
       "      <td>0.197101</td>\n",
       "      <td>0.092535</td>\n",
       "    </tr>\n",
       "    <tr>\n",
       "      <th>21</th>\n",
       "      <td>Italy</td>\n",
       "      <td>0.168082</td>\n",
       "      <td>0.261507</td>\n",
       "      <td>0.093425</td>\n",
       "    </tr>\n",
       "    <tr>\n",
       "      <th>71</th>\n",
       "      <td>Argentina</td>\n",
       "      <td>0.291443</td>\n",
       "      <td>0.195084</td>\n",
       "      <td>0.096359</td>\n",
       "    </tr>\n",
       "    <tr>\n",
       "      <th>38</th>\n",
       "      <td>Dominican Republic</td>\n",
       "      <td>0.201538</td>\n",
       "      <td>0.094767</td>\n",
       "      <td>0.106772</td>\n",
       "    </tr>\n",
       "    <tr>\n",
       "      <th>15</th>\n",
       "      <td>Malaysia</td>\n",
       "      <td>0.141835</td>\n",
       "      <td>0.263144</td>\n",
       "      <td>0.121309</td>\n",
       "    </tr>\n",
       "    <tr>\n",
       "      <th>74</th>\n",
       "      <td>Mexico</td>\n",
       "      <td>0.327086</td>\n",
       "      <td>0.198560</td>\n",
       "      <td>0.128525</td>\n",
       "    </tr>\n",
       "    <tr>\n",
       "      <th>73</th>\n",
       "      <td>United States of America</td>\n",
       "      <td>0.317960</td>\n",
       "      <td>0.184674</td>\n",
       "      <td>0.133287</td>\n",
       "    </tr>\n",
       "    <tr>\n",
       "      <th>14</th>\n",
       "      <td>China (Hong Kong SAR)</td>\n",
       "      <td>0.115380</td>\n",
       "      <td>0.257264</td>\n",
       "      <td>0.141884</td>\n",
       "    </tr>\n",
       "    <tr>\n",
       "      <th>75</th>\n",
       "      <td>South Africa</td>\n",
       "      <td>0.334897</td>\n",
       "      <td>0.192514</td>\n",
       "      <td>0.142383</td>\n",
       "    </tr>\n",
       "    <tr>\n",
       "      <th>13</th>\n",
       "      <td>Cameroon</td>\n",
       "      <td>0.111150</td>\n",
       "      <td>0.255982</td>\n",
       "      <td>0.144832</td>\n",
       "    </tr>\n",
       "    <tr>\n",
       "      <th>76</th>\n",
       "      <td>United Arab Emirates</td>\n",
       "      <td>0.339133</td>\n",
       "      <td>0.184792</td>\n",
       "      <td>0.154341</td>\n",
       "    </tr>\n",
       "    <tr>\n",
       "      <th>77</th>\n",
       "      <td>Egypt</td>\n",
       "      <td>0.345315</td>\n",
       "      <td>0.186994</td>\n",
       "      <td>0.158321</td>\n",
       "    </tr>\n",
       "    <tr>\n",
       "      <th>78</th>\n",
       "      <td>Saudi Arabia</td>\n",
       "      <td>0.353288</td>\n",
       "      <td>0.194401</td>\n",
       "      <td>0.158886</td>\n",
       "    </tr>\n",
       "    <tr>\n",
       "      <th>72</th>\n",
       "      <td>Venezuela (Bolivarian Republic of)</td>\n",
       "      <td>0.306261</td>\n",
       "      <td>0.147292</td>\n",
       "      <td>0.158968</td>\n",
       "    </tr>\n",
       "    <tr>\n",
       "      <th>10</th>\n",
       "      <td>Republic of Korea</td>\n",
       "      <td>0.072649</td>\n",
       "      <td>0.244864</td>\n",
       "      <td>0.172214</td>\n",
       "    </tr>\n",
       "    <tr>\n",
       "      <th>11</th>\n",
       "      <td>Taiwan</td>\n",
       "      <td>0.083790</td>\n",
       "      <td>0.265512</td>\n",
       "      <td>0.181722</td>\n",
       "    </tr>\n",
       "    <tr>\n",
       "      <th>9</th>\n",
       "      <td>Nigeria</td>\n",
       "      <td>0.070481</td>\n",
       "      <td>0.253150</td>\n",
       "      <td>0.182669</td>\n",
       "    </tr>\n",
       "    <tr>\n",
       "      <th>12</th>\n",
       "      <td>Thailand</td>\n",
       "      <td>0.087858</td>\n",
       "      <td>0.271822</td>\n",
       "      <td>0.183964</td>\n",
       "    </tr>\n",
       "    <tr>\n",
       "      <th>5</th>\n",
       "      <td>China</td>\n",
       "      <td>0.054962</td>\n",
       "      <td>0.243333</td>\n",
       "      <td>0.188370</td>\n",
       "    </tr>\n",
       "    <tr>\n",
       "      <th>7</th>\n",
       "      <td>Singapore</td>\n",
       "      <td>0.063294</td>\n",
       "      <td>0.256927</td>\n",
       "      <td>0.193633</td>\n",
       "    </tr>\n",
       "    <tr>\n",
       "      <th>2</th>\n",
       "      <td>Japan</td>\n",
       "      <td>0.044837</td>\n",
       "      <td>0.250858</td>\n",
       "      <td>0.206021</td>\n",
       "    </tr>\n",
       "    <tr>\n",
       "      <th>8</th>\n",
       "      <td>Philippines</td>\n",
       "      <td>0.064357</td>\n",
       "      <td>0.271331</td>\n",
       "      <td>0.206973</td>\n",
       "    </tr>\n",
       "    <tr>\n",
       "      <th>3</th>\n",
       "      <td>Kenya</td>\n",
       "      <td>0.046494</td>\n",
       "      <td>0.254528</td>\n",
       "      <td>0.208035</td>\n",
       "    </tr>\n",
       "    <tr>\n",
       "      <th>4</th>\n",
       "      <td>Indonesia</td>\n",
       "      <td>0.046816</td>\n",
       "      <td>0.259196</td>\n",
       "      <td>0.212380</td>\n",
       "    </tr>\n",
       "    <tr>\n",
       "      <th>6</th>\n",
       "      <td>Pakistan</td>\n",
       "      <td>0.059085</td>\n",
       "      <td>0.278926</td>\n",
       "      <td>0.219841</td>\n",
       "    </tr>\n",
       "    <tr>\n",
       "      <th>0</th>\n",
       "      <td>Viet Nam</td>\n",
       "      <td>0.016048</td>\n",
       "      <td>0.257157</td>\n",
       "      <td>0.241109</td>\n",
       "    </tr>\n",
       "    <tr>\n",
       "      <th>1</th>\n",
       "      <td>India</td>\n",
       "      <td>0.018786</td>\n",
       "      <td>0.276756</td>\n",
       "      <td>0.257970</td>\n",
       "    </tr>\n",
       "  </tbody>\n",
       "</table>\n",
       "<p>79 rows × 4 columns</p>\n",
       "</div>"
      ],
      "text/plain": [
       "                                    country      true  predicted        AE\n",
       "37                                  Morocco  0.199042   0.198994  0.000048\n",
       "52                               Kazakhstan  0.236503   0.236439  0.000064\n",
       "43                                  Germany  0.211409   0.211617  0.000208\n",
       "35                                   Norway  0.196593   0.196343  0.000250\n",
       "31                                  Belgium  0.186661   0.186956  0.000295\n",
       "40                                Guatemala  0.206170   0.206539  0.000369\n",
       "41                                  Georgia  0.209004   0.206802  0.002201\n",
       "30                                  Bolivia  0.185507   0.175135  0.010372\n",
       "45                                   Latvia  0.214695   0.225184  0.010489\n",
       "33                                  Finland  0.195756   0.183934  0.011823\n",
       "51                   Bosnia and Herzegovina  0.236474   0.249300  0.012826\n",
       "49                                  Belarus  0.231179   0.217906  0.013273\n",
       "42                                 Bulgaria  0.209111   0.222609  0.013498\n",
       "46                                   Serbia  0.217378   0.231827  0.014449\n",
       "48                                   Poland  0.227263   0.245436  0.018173\n",
       "44                                 Portugal  0.212405   0.237926  0.025521\n",
       "27                                 Colombia  0.178267   0.205591  0.027324\n",
       "28                                  Austria  0.181713   0.209404  0.027691\n",
       "39                                  Croatia  0.206130   0.235178  0.029048\n",
       "57                                  Hungary  0.240199   0.206932  0.033267\n",
       "54                                Lithuania  0.238105   0.201765  0.036340\n",
       "58                                 Slovakia  0.240995   0.204185  0.036810\n",
       "34  Macedonia (Former Yugoslav Republic of)  0.195840   0.234194  0.038354\n",
       "36                                  Ukraine  0.197482   0.238039  0.040557\n",
       "56                               Azerbaijan  0.240098   0.198568  0.041530\n",
       "24                              Netherlands  0.171413   0.215503  0.044090\n",
       "53                                  Tunisia  0.237079   0.191727  0.045352\n",
       "61                       Russian Federation  0.245127   0.197235  0.047892\n",
       "19                                     Peru  0.162371   0.210459  0.048089\n",
       "23                                  Romania  0.169666   0.220866  0.051200\n",
       "..                                      ...       ...        ...       ...\n",
       "67                              New Zealand  0.269757   0.185947  0.083810\n",
       "70                                   Turkey  0.291415   0.201933  0.089482\n",
       "32                                   Brazil  0.192777   0.284134  0.091358\n",
       "69                                    Chile  0.289636   0.197101  0.092535\n",
       "21                                    Italy  0.168082   0.261507  0.093425\n",
       "71                                Argentina  0.291443   0.195084  0.096359\n",
       "38                       Dominican Republic  0.201538   0.094767  0.106772\n",
       "15                                 Malaysia  0.141835   0.263144  0.121309\n",
       "74                                   Mexico  0.327086   0.198560  0.128525\n",
       "73                 United States of America  0.317960   0.184674  0.133287\n",
       "14                    China (Hong Kong SAR)  0.115380   0.257264  0.141884\n",
       "75                             South Africa  0.334897   0.192514  0.142383\n",
       "13                                 Cameroon  0.111150   0.255982  0.144832\n",
       "76                     United Arab Emirates  0.339133   0.184792  0.154341\n",
       "77                                    Egypt  0.345315   0.186994  0.158321\n",
       "78                             Saudi Arabia  0.353288   0.194401  0.158886\n",
       "72       Venezuela (Bolivarian Republic of)  0.306261   0.147292  0.158968\n",
       "10                        Republic of Korea  0.072649   0.244864  0.172214\n",
       "11                                   Taiwan  0.083790   0.265512  0.181722\n",
       "9                                   Nigeria  0.070481   0.253150  0.182669\n",
       "12                                 Thailand  0.087858   0.271822  0.183964\n",
       "5                                     China  0.054962   0.243333  0.188370\n",
       "7                                 Singapore  0.063294   0.256927  0.193633\n",
       "2                                     Japan  0.044837   0.250858  0.206021\n",
       "8                               Philippines  0.064357   0.271331  0.206973\n",
       "3                                     Kenya  0.046494   0.254528  0.208035\n",
       "4                                 Indonesia  0.046816   0.259196  0.212380\n",
       "6                                  Pakistan  0.059085   0.278926  0.219841\n",
       "0                                  Viet Nam  0.016048   0.257157  0.241109\n",
       "1                                     India  0.018786   0.276756  0.257970\n",
       "\n",
       "[79 rows x 4 columns]"
      ]
     },
     "execution_count": 43,
     "metadata": {},
     "output_type": "execute_result"
    }
   ],
   "source": [
    "summary"
   ]
  },
  {
   "cell_type": "markdown",
   "metadata": {},
   "source": [
    "Plotting the absolute errors by country, sorted by absolute error"
   ]
  },
  {
   "cell_type": "code",
   "execution_count": 44,
   "metadata": {},
   "outputs": [
    {
     "data": {
      "image/png": "[encoded data removed]",
      "text/plain": [
       "<Figure size 720x1440 with 1 Axes>"
      ]
     },
     "metadata": {
      "needs_background": "light"
     },
     "output_type": "display_data"
    }
   ],
   "source": [
    "plt.figure(figsize=(10,20))\n",
    "plt.barh(summary.country,summary.AE)\n",
    "plt.show()"
   ]
  },
  {
   "cell_type": "markdown",
   "metadata": {},
   "source": [
    "### Comparison Between Diferent Machine Learning Models and Hyperparameters"
   ]
  },
  {
   "cell_type": "markdown",
   "metadata": {},
   "source": [
    "Selecting some machine learning training algorithms, training each one and using cross validation to retrieve their performance"
   ]
  },
  {
   "cell_type": "code",
   "execution_count": 45,
   "metadata": {},
   "outputs": [],
   "source": [
    "models = []\n",
    "\n",
    "models.append((\"LinearRegression\",sklearn.linear_model.LinearRegression()))\n",
    "models.append((\"SVR\",sklearn.svm.SVR()))\n",
    "models.append((\"RandomForest\",sklearn.ensemble.RandomForestRegressor()))\n",
    "models.append((\"KNeighbors\",sklearn.neighbors.KNeighborsRegressor()))\n",
    "models.append((\"MLPRegressor\",sklearn.neural_network.MLPRegressor()))\n",
    "models.append((\"DecisionTreeRegressor\",sklearn.tree.DecisionTreeRegressor()))\n",
    "\n",
    "\n",
    "results = []\n",
    "names = []\n",
    "for name,model in models:\n",
    "    result = sklearn.model_selection.cross_val_score(model, \n",
    "                             features, \n",
    "                             labels_numerical,  \n",
    "                             cv=10, \n",
    "                             scoring='neg_mean_absolute_error',\n",
    "                             n_jobs=-1\n",
    "                            )\n",
    "    names.append(name)\n",
    "    results.append(result)"
   ]
  },
  {
   "cell_type": "markdown",
   "metadata": {},
   "source": [
    "List of compared models along with their hyperparameters"
   ]
  },
  {
   "cell_type": "code",
   "execution_count": 46,
   "metadata": {},
   "outputs": [
    {
     "data": {
      "text/plain": [
       "[('LinearRegression',\n",
       "  LinearRegression(copy_X=True, fit_intercept=True, n_jobs=None, normalize=False)),\n",
       " ('SVR', SVR(C=1.0, cache_size=200, coef0=0.0, degree=3, epsilon=0.1,\n",
       "      gamma='auto_deprecated', kernel='rbf', max_iter=-1, shrinking=True,\n",
       "      tol=0.001, verbose=False)),\n",
       " ('RandomForest',\n",
       "  RandomForestRegressor(bootstrap=True, criterion='mse', max_depth=None,\n",
       "                        max_features='auto', max_leaf_nodes=None,\n",
       "                        min_impurity_decrease=0.0, min_impurity_split=None,\n",
       "                        min_samples_leaf=1, min_samples_split=2,\n",
       "                        min_weight_fraction_leaf=0.0, n_estimators='warn',\n",
       "                        n_jobs=None, oob_score=False, random_state=None,\n",
       "                        verbose=0, warm_start=False)),\n",
       " ('KNeighbors',\n",
       "  KNeighborsRegressor(algorithm='auto', leaf_size=30, metric='minkowski',\n",
       "                      metric_params=None, n_jobs=None, n_neighbors=5, p=2,\n",
       "                      weights='uniform')),\n",
       " ('MLPRegressor',\n",
       "  MLPRegressor(activation='relu', alpha=0.0001, batch_size='auto', beta_1=0.9,\n",
       "               beta_2=0.999, early_stopping=False, epsilon=1e-08,\n",
       "               hidden_layer_sizes=(100,), learning_rate='constant',\n",
       "               learning_rate_init=0.001, max_iter=200, momentum=0.9,\n",
       "               n_iter_no_change=10, nesterovs_momentum=True, power_t=0.5,\n",
       "               random_state=None, shuffle=True, solver='adam', tol=0.0001,\n",
       "               validation_fraction=0.1, verbose=False, warm_start=False)),\n",
       " ('DecisionTreeRegressor',\n",
       "  DecisionTreeRegressor(criterion='mse', max_depth=None, max_features=None,\n",
       "                        max_leaf_nodes=None, min_impurity_decrease=0.0,\n",
       "                        min_impurity_split=None, min_samples_leaf=1,\n",
       "                        min_samples_split=2, min_weight_fraction_leaf=0.0,\n",
       "                        presort=False, random_state=None, splitter='best'))]"
      ]
     },
     "execution_count": 46,
     "metadata": {},
     "output_type": "execute_result"
    }
   ],
   "source": [
    "models"
   ]
  },
  {
   "cell_type": "markdown",
   "metadata": {},
   "source": [
    "Box plot of the results (negative mean absolute error) of each model"
   ]
  },
  {
   "cell_type": "code",
   "execution_count": 47,
   "metadata": {},
   "outputs": [
    {
     "data": {
      "image/png": "[encoded data removed]",
      "text/plain": [
       "<Figure size 432x288 with 1 Axes>"
      ]
     },
     "metadata": {
      "needs_background": "light"
     },
     "output_type": "display_data"
    }
   ],
   "source": [
    "plt.boxplot(results,labels = names)\n",
    "plt.xticks(rotation=45)\n",
    "plt.show()"
   ]
  },
  {
   "cell_type": "code",
   "execution_count": 48,
   "metadata": {
    "collapsed": true
   },
   "outputs": [],
   "source": [
    "##########\n",
    "\n",
    "#compare the models based on other metric\n",
    "\n",
    "##########"
   ]
  },
  {
   "cell_type": "markdown",
   "metadata": {},
   "source": [
    "Grid search for selection of the best hyperparameters"
   ]
  },
  {
   "cell_type": "code",
   "execution_count": 49,
   "metadata": {
    "collapsed": true
   },
   "outputs": [],
   "source": [
    "# # HIGH PROCESSOR INTENSIVE TASK (~5 minutes calculations of a 12 cores machine)\n",
    "\n",
    "# parameters = {'n_estimators': list(range(260,360,20)),\n",
    "#               'max_features': ['auto', 'sqrt'],\n",
    "#               'max_depth': list(range(20,100,20))+[None],\n",
    "#               'min_samples_split': [2, 5, 10],\n",
    "#               'min_samples_leaf': [1, 2, 4],\n",
    "#               'bootstrap': [True, False]\n",
    "# }\n",
    "# grid_Search = sklearn.model_selection.GridSearchCV(sklearn.ensemble.RandomForestRegressor(), \n",
    "#                                                    parameters, \n",
    "#                                                    n_jobs=-1,\n",
    "#                                                    cv = 3,\n",
    "#                                                    scoring = 'neg_mean_squared_error'\n",
    "#                                                   )\n",
    "\n",
    "# grid_Search.fit(features_train,labels_numerical_train)"
   ]
  },
  {
   "cell_type": "code",
   "execution_count": 50,
   "metadata": {},
   "outputs": [
    {
     "name": "stderr",
     "output_type": "stream",
     "text": [
      "C:\\ProgramData\\Anaconda3\\lib\\site-packages\\sklearn\\model_selection\\_search.py:813: DeprecationWarning: The default of the `iid` parameter will change from True to False in version 0.22 and will be removed in 0.24. This will change numeric results when test-set sizes are unequal.\n",
      "  DeprecationWarning)\n"
     ]
    },
    {
     "data": {
      "text/plain": [
       "GridSearchCV(cv=3, error_score='raise-deprecating',\n",
       "             estimator=RandomForestRegressor(bootstrap=True, criterion='mse',\n",
       "                                             max_depth=None,\n",
       "                                             max_features='auto',\n",
       "                                             max_leaf_nodes=None,\n",
       "                                             min_impurity_decrease=0.0,\n",
       "                                             min_impurity_split=None,\n",
       "                                             min_samples_leaf=1,\n",
       "                                             min_samples_split=2,\n",
       "                                             min_weight_fraction_leaf=0.0,\n",
       "                                             n_estimators='warn', n_jobs=None,\n",
       "                                             oob_score=False, random_state=None,\n",
       "                                             verbose=0, warm_start=False),\n",
       "             iid='warn', n_jobs=-1,\n",
       "             param_grid={'n_estimators': [100, 150, 200]},\n",
       "             pre_dispatch='2*n_jobs', refit=True, return_train_score=False,\n",
       "             scoring='neg_mean_absolute_error', verbose=0)"
      ]
     },
     "execution_count": 50,
     "metadata": {},
     "output_type": "execute_result"
    }
   ],
   "source": [
    "#low intensive grid search\n",
    "parameters = {'n_estimators': [100,150,200]\n",
    "}\n",
    "grid_Search = sklearn.model_selection.GridSearchCV(sklearn.ensemble.RandomForestRegressor(), \n",
    "                                                   parameters, \n",
    "                                                   n_jobs=-1,\n",
    "                                                   cv = 3,\n",
    "                                                   scoring = 'neg_mean_absolute_error'\n",
    "                                                  )\n",
    "\n",
    "grid_Search.fit(features_train,labels_numerical_train)"
   ]
  },
  {
   "cell_type": "markdown",
   "metadata": {},
   "source": [
    "The best hyperparameters extracted from the grid search"
   ]
  },
  {
   "cell_type": "code",
   "execution_count": 51,
   "metadata": {},
   "outputs": [
    {
     "data": {
      "text/plain": [
       "{'n_estimators': 150}"
      ]
     },
     "execution_count": 51,
     "metadata": {},
     "output_type": "execute_result"
    }
   ],
   "source": [
    "grid_Search.best_params_"
   ]
  },
  {
   "cell_type": "markdown",
   "metadata": {},
   "source": [
    "The result of each run of the grid search"
   ]
  },
  {
   "cell_type": "code",
   "execution_count": 52,
   "metadata": {},
   "outputs": [
    {
     "data": {
      "text/html": [
       "<div>\n",
       "<style scoped>\n",
       "    .dataframe tbody tr th:only-of-type {\n",
       "        vertical-align: middle;\n",
       "    }\n",
       "\n",
       "    .dataframe tbody tr th {\n",
       "        vertical-align: top;\n",
       "    }\n",
       "\n",
       "    .dataframe thead th {\n",
       "        text-align: right;\n",
       "    }\n",
       "</style>\n",
       "<table border=\"1\" class=\"dataframe\">\n",
       "  <thead>\n",
       "    <tr style=\"text-align: right;\">\n",
       "      <th></th>\n",
       "      <th>mean_fit_time</th>\n",
       "      <th>std_fit_time</th>\n",
       "      <th>mean_score_time</th>\n",
       "      <th>std_score_time</th>\n",
       "      <th>param_n_estimators</th>\n",
       "      <th>params</th>\n",
       "      <th>split0_test_score</th>\n",
       "      <th>split1_test_score</th>\n",
       "      <th>split2_test_score</th>\n",
       "      <th>mean_test_score</th>\n",
       "      <th>std_test_score</th>\n",
       "      <th>rank_test_score</th>\n",
       "    </tr>\n",
       "  </thead>\n",
       "  <tbody>\n",
       "    <tr>\n",
       "      <th>0</th>\n",
       "      <td>0.076462</td>\n",
       "      <td>0.000940</td>\n",
       "      <td>0.003657</td>\n",
       "      <td>4.700779e-04</td>\n",
       "      <td>100</td>\n",
       "      <td>{'n_estimators': 100}</td>\n",
       "      <td>-0.035935</td>\n",
       "      <td>-0.057895</td>\n",
       "      <td>-0.042729</td>\n",
       "      <td>-0.045346</td>\n",
       "      <td>0.009186</td>\n",
       "      <td>3</td>\n",
       "    </tr>\n",
       "    <tr>\n",
       "      <th>1</th>\n",
       "      <td>0.114360</td>\n",
       "      <td>0.008554</td>\n",
       "      <td>0.006316</td>\n",
       "      <td>4.699655e-04</td>\n",
       "      <td>150</td>\n",
       "      <td>{'n_estimators': 150}</td>\n",
       "      <td>-0.036924</td>\n",
       "      <td>-0.056616</td>\n",
       "      <td>-0.042367</td>\n",
       "      <td>-0.045150</td>\n",
       "      <td>0.008303</td>\n",
       "      <td>1</td>\n",
       "    </tr>\n",
       "    <tr>\n",
       "      <th>2</th>\n",
       "      <td>0.141621</td>\n",
       "      <td>0.003257</td>\n",
       "      <td>0.004987</td>\n",
       "      <td>1.946680e-07</td>\n",
       "      <td>200</td>\n",
       "      <td>{'n_estimators': 200}</td>\n",
       "      <td>-0.036374</td>\n",
       "      <td>-0.058806</td>\n",
       "      <td>-0.040903</td>\n",
       "      <td>-0.045198</td>\n",
       "      <td>0.009672</td>\n",
       "      <td>2</td>\n",
       "    </tr>\n",
       "  </tbody>\n",
       "</table>\n",
       "</div>"
      ],
      "text/plain": [
       "   mean_fit_time  std_fit_time  mean_score_time  std_score_time  \\\n",
       "0       0.076462      0.000940         0.003657    4.700779e-04   \n",
       "1       0.114360      0.008554         0.006316    4.699655e-04   \n",
       "2       0.141621      0.003257         0.004987    1.946680e-07   \n",
       "\n",
       "  param_n_estimators                 params  split0_test_score  \\\n",
       "0                100  {'n_estimators': 100}          -0.035935   \n",
       "1                150  {'n_estimators': 150}          -0.036924   \n",
       "2                200  {'n_estimators': 200}          -0.036374   \n",
       "\n",
       "   split1_test_score  split2_test_score  mean_test_score  std_test_score  \\\n",
       "0          -0.057895          -0.042729        -0.045346        0.009186   \n",
       "1          -0.056616          -0.042367        -0.045150        0.008303   \n",
       "2          -0.058806          -0.040903        -0.045198        0.009672   \n",
       "\n",
       "   rank_test_score  \n",
       "0                3  \n",
       "1                1  \n",
       "2                2  "
      ]
     },
     "execution_count": 52,
     "metadata": {},
     "output_type": "execute_result"
    }
   ],
   "source": [
    "pd.DataFrame(grid_Search.cv_results_).head(10)"
   ]
  },
  {
   "cell_type": "markdown",
   "metadata": {},
   "source": [
    "Making predictions over the test subset using the best model from the grid search"
   ]
  },
  {
   "cell_type": "code",
   "execution_count": 53,
   "metadata": {
    "collapsed": true
   },
   "outputs": [],
   "source": [
    "predictions = grid_Search.predict(features_test)"
   ]
  },
  {
   "cell_type": "markdown",
   "metadata": {},
   "source": [
    "Summary of the results"
   ]
  },
  {
   "cell_type": "code",
   "execution_count": 54,
   "metadata": {},
   "outputs": [
    {
     "data": {
      "text/html": [
       "<div>\n",
       "<style scoped>\n",
       "    .dataframe tbody tr th:only-of-type {\n",
       "        vertical-align: middle;\n",
       "    }\n",
       "\n",
       "    .dataframe tbody tr th {\n",
       "        vertical-align: top;\n",
       "    }\n",
       "\n",
       "    .dataframe thead th {\n",
       "        text-align: right;\n",
       "    }\n",
       "</style>\n",
       "<table border=\"1\" class=\"dataframe\">\n",
       "  <thead>\n",
       "    <tr style=\"text-align: right;\">\n",
       "      <th></th>\n",
       "      <th>true</th>\n",
       "      <th>predicted</th>\n",
       "    </tr>\n",
       "  </thead>\n",
       "  <tbody>\n",
       "    <tr>\n",
       "      <th>22</th>\n",
       "      <td>0.245770</td>\n",
       "      <td>0.244607</td>\n",
       "    </tr>\n",
       "    <tr>\n",
       "      <th>23</th>\n",
       "      <td>0.046494</td>\n",
       "      <td>0.118064</td>\n",
       "    </tr>\n",
       "    <tr>\n",
       "      <th>21</th>\n",
       "      <td>0.263871</td>\n",
       "      <td>0.212959</td>\n",
       "    </tr>\n",
       "    <tr>\n",
       "      <th>11</th>\n",
       "      <td>0.083790</td>\n",
       "      <td>0.080931</td>\n",
       "    </tr>\n",
       "    <tr>\n",
       "      <th>14</th>\n",
       "      <td>0.192777</td>\n",
       "      <td>0.259911</td>\n",
       "    </tr>\n",
       "  </tbody>\n",
       "</table>\n",
       "</div>"
      ],
      "text/plain": [
       "        true  predicted\n",
       "22  0.245770   0.244607\n",
       "23  0.046494   0.118064\n",
       "21  0.263871   0.212959\n",
       "11  0.083790   0.080931\n",
       "14  0.192777   0.259911"
      ]
     },
     "execution_count": 54,
     "metadata": {},
     "output_type": "execute_result"
    }
   ],
   "source": [
    "pd.DataFrame(list(zip(labels_numerical_test,predictions)),columns=['true','predicted']).sample(5)"
   ]
  },
  {
   "cell_type": "markdown",
   "metadata": {},
   "source": [
    "MAE"
   ]
  },
  {
   "cell_type": "code",
   "execution_count": 55,
   "metadata": {},
   "outputs": [
    {
     "data": {
      "text/plain": [
       "0.04860078593002646"
      ]
     },
     "execution_count": 55,
     "metadata": {},
     "output_type": "execute_result"
    }
   ],
   "source": [
    "sklearn.metrics.mean_absolute_error(labels_numerical_test,predictions)"
   ]
  },
  {
   "cell_type": "markdown",
   "metadata": {},
   "source": [
    "RMSE"
   ]
  },
  {
   "cell_type": "code",
   "execution_count": 56,
   "metadata": {},
   "outputs": [
    {
     "data": {
      "text/plain": [
       "0.06296650654550791"
      ]
     },
     "execution_count": 56,
     "metadata": {},
     "output_type": "execute_result"
    }
   ],
   "source": [
    "sklearn.metrics.mean_squared_error(labels_numerical_test,predictions)**0.5"
   ]
  },
  {
   "cell_type": "markdown",
   "metadata": {},
   "source": [
    "R-squared"
   ]
  },
  {
   "cell_type": "code",
   "execution_count": 57,
   "metadata": {},
   "outputs": [
    {
     "data": {
      "text/plain": [
       "0.5111186006163178"
      ]
     },
     "execution_count": 57,
     "metadata": {},
     "output_type": "execute_result"
    }
   ],
   "source": [
    "sklearn.metrics.r2_score(labels_numerical_test,predictions)"
   ]
  },
  {
   "cell_type": "code",
   "execution_count": 58,
   "metadata": {
    "collapsed": true
   },
   "outputs": [],
   "source": [
    "##########\n",
    "\n",
    "#make your own grid search for other training algorithm\n",
    "\n",
    "##########"
   ]
  }
 ],
 "metadata": {
  "kernelspec": {
   "display_name": "Python 3",
   "language": "python",
   "name": "python3"
  },
  "language_info": {
   "codemirror_mode": {
    "name": "ipython",
    "version": 3
   },
   "file_extension": ".py",
   "mimetype": "text/x-python",
   "name": "python",
   "nbconvert_exporter": "python",
   "pygments_lexer": "ipython3",
   "version": "3.6.7"
  }
 },
 "nbformat": 4,
 "nbformat_minor": 2
}
