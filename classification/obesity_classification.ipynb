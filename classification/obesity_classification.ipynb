{
 "cells": [
  {
   "cell_type": "markdown",
   "metadata": {},
   "source": [
    "# Fundamentals of Machine Learning"
   ]
  },
  {
   "cell_type": "markdown",
   "metadata": {},
   "source": [
    "## Machine learning classification tasks"
   ]
  },
  {
   "cell_type": "markdown",
   "metadata": {},
   "source": [
    "Importing modules"
   ]
  },
  {
   "cell_type": "code",
   "execution_count": 1,
   "metadata": {},
   "outputs": [],
   "source": [
    "import numpy as np #linear algebra\n",
    "import pandas as pd #dataframes\n",
    "import sklearn.preprocessing #raw data preprocessing\n",
    "import sklearn.model_selection #grid search + cross validation\n",
    "import sklearn.ensemble #random forest\n",
    "import sklearn.tree #decision trees\n",
    "import sklearn.linear_model #logistic regression + perceptron\n",
    "import sklearn.svm #support vector machines\n",
    "import sklearn.neighbors #k-nearest neighbors\n",
    "import sklearn.neural_network #multilayer perceptron\n",
    "import matplotlib.pyplot as plt #visualization\n",
    "import xgboost as xgb #extreme gradient boosting"
   ]
  },
  {
   "cell_type": "markdown",
   "metadata": {},
   "source": [
    "Reading the data from a csv file and saving it into a dataframe"
   ]
  },
  {
   "cell_type": "code",
   "execution_count": 2,
   "metadata": {},
   "outputs": [],
   "source": [
    "data = pd.read_csv('../data/exampleObesityClassReg.csv')"
   ]
  },
  {
   "cell_type": "markdown",
   "metadata": {},
   "source": [
    "### Data Preprocessing"
   ]
  },
  {
   "cell_type": "markdown",
   "metadata": {},
   "source": [
    "Data exploration"
   ]
  },
  {
   "cell_type": "code",
   "execution_count": 3,
   "metadata": {},
   "outputs": [
    {
     "data": {
      "text/html": [
       "<div>\n",
       "<style scoped>\n",
       "    .dataframe tbody tr th:only-of-type {\n",
       "        vertical-align: middle;\n",
       "    }\n",
       "\n",
       "    .dataframe tbody tr th {\n",
       "        vertical-align: top;\n",
       "    }\n",
       "\n",
       "    .dataframe thead th {\n",
       "        text-align: right;\n",
       "    }\n",
       "</style>\n",
       "<table border=\"1\" class=\"dataframe\">\n",
       "  <thead>\n",
       "    <tr style=\"text-align: right;\">\n",
       "      <th></th>\n",
       "      <th>country_name</th>\n",
       "      <th>continent</th>\n",
       "      <th>prevalence</th>\n",
       "      <th>tertile</th>\n",
       "      <th>RTDs/High-Strength Premixes</th>\n",
       "      <th>Processed Fruit and Vegetables</th>\n",
       "      <th>Processed Meat and Seafood</th>\n",
       "      <th>Ready Meals</th>\n",
       "      <th>Rice, Pasta and Noodles</th>\n",
       "      <th>Sauces, Dressings and Condiments</th>\n",
       "      <th>...</th>\n",
       "      <th>Baby Food</th>\n",
       "      <th>Drinking Milk Products</th>\n",
       "      <th>Yoghurt and Sour Milk Products</th>\n",
       "      <th>Other Dairy</th>\n",
       "      <th>Ice Cream and Frozen Desserts</th>\n",
       "      <th>Cocoa Powder</th>\n",
       "      <th>Emulsifiers and Co-Emulsifiers</th>\n",
       "      <th>Fats and Oils</th>\n",
       "      <th>Flours</th>\n",
       "      <th>Milk</th>\n",
       "    </tr>\n",
       "  </thead>\n",
       "  <tbody>\n",
       "    <tr>\n",
       "      <th>12</th>\n",
       "      <td>Thailand</td>\n",
       "      <td>Asia</td>\n",
       "      <td>0.087858</td>\n",
       "      <td>1</td>\n",
       "      <td>265.400000</td>\n",
       "      <td>453.366667</td>\n",
       "      <td>950.533333</td>\n",
       "      <td>245.333333</td>\n",
       "      <td>14231.233330</td>\n",
       "      <td>6168.333333</td>\n",
       "      <td>...</td>\n",
       "      <td>1156.166667</td>\n",
       "      <td>10149.900000</td>\n",
       "      <td>4577.433333</td>\n",
       "      <td>4127.766667</td>\n",
       "      <td>647.533333</td>\n",
       "      <td>63.633333</td>\n",
       "      <td>45.866667</td>\n",
       "      <td>8105.400000</td>\n",
       "      <td>3701.60000</td>\n",
       "      <td>13473.666670</td>\n",
       "    </tr>\n",
       "    <tr>\n",
       "      <th>25</th>\n",
       "      <td>Greece</td>\n",
       "      <td>Europe</td>\n",
       "      <td>0.172390</td>\n",
       "      <td>1</td>\n",
       "      <td>492.166667</td>\n",
       "      <td>13111.633330</td>\n",
       "      <td>10953.900000</td>\n",
       "      <td>2158.700000</td>\n",
       "      <td>14110.233330</td>\n",
       "      <td>14032.600000</td>\n",
       "      <td>...</td>\n",
       "      <td>2280.200000</td>\n",
       "      <td>52229.566670</td>\n",
       "      <td>12054.866670</td>\n",
       "      <td>19095.566670</td>\n",
       "      <td>4792.433333</td>\n",
       "      <td>327.366667</td>\n",
       "      <td>524.566667</td>\n",
       "      <td>23913.600000</td>\n",
       "      <td>56020.96667</td>\n",
       "      <td>89917.200000</td>\n",
       "    </tr>\n",
       "    <tr>\n",
       "      <th>66</th>\n",
       "      <td>Slovenia</td>\n",
       "      <td>Europe</td>\n",
       "      <td>0.263871</td>\n",
       "      <td>3</td>\n",
       "      <td>2454.966667</td>\n",
       "      <td>7337.333333</td>\n",
       "      <td>11419.266670</td>\n",
       "      <td>2031.900000</td>\n",
       "      <td>10990.766670</td>\n",
       "      <td>6365.633333</td>\n",
       "      <td>...</td>\n",
       "      <td>1059.166667</td>\n",
       "      <td>75184.000000</td>\n",
       "      <td>13103.766670</td>\n",
       "      <td>7001.166667</td>\n",
       "      <td>3239.900000</td>\n",
       "      <td>228.366667</td>\n",
       "      <td>353.100000</td>\n",
       "      <td>17559.200000</td>\n",
       "      <td>45317.53333</td>\n",
       "      <td>99504.333330</td>\n",
       "    </tr>\n",
       "    <tr>\n",
       "      <th>69</th>\n",
       "      <td>Chile</td>\n",
       "      <td>America</td>\n",
       "      <td>0.289636</td>\n",
       "      <td>3</td>\n",
       "      <td>431.266667</td>\n",
       "      <td>9581.966667</td>\n",
       "      <td>6937.666667</td>\n",
       "      <td>383.466667</td>\n",
       "      <td>17394.666670</td>\n",
       "      <td>6575.500000</td>\n",
       "      <td>...</td>\n",
       "      <td>591.833333</td>\n",
       "      <td>20579.700000</td>\n",
       "      <td>8320.166667</td>\n",
       "      <td>5449.900000</td>\n",
       "      <td>5682.866667</td>\n",
       "      <td>276.866667</td>\n",
       "      <td>483.300000</td>\n",
       "      <td>20101.933330</td>\n",
       "      <td>69019.10000</td>\n",
       "      <td>37038.300000</td>\n",
       "    </tr>\n",
       "    <tr>\n",
       "      <th>23</th>\n",
       "      <td>Romania</td>\n",
       "      <td>Europe</td>\n",
       "      <td>0.169666</td>\n",
       "      <td>1</td>\n",
       "      <td>6.766667</td>\n",
       "      <td>3863.433333</td>\n",
       "      <td>10855.233330</td>\n",
       "      <td>153.900000</td>\n",
       "      <td>7172.600000</td>\n",
       "      <td>2262.466667</td>\n",
       "      <td>...</td>\n",
       "      <td>208.100000</td>\n",
       "      <td>9655.166667</td>\n",
       "      <td>6286.533333</td>\n",
       "      <td>2348.000000</td>\n",
       "      <td>1259.933333</td>\n",
       "      <td>72.933333</td>\n",
       "      <td>350.066667</td>\n",
       "      <td>14205.233330</td>\n",
       "      <td>61351.10000</td>\n",
       "      <td>20255.433330</td>\n",
       "    </tr>\n",
       "    <tr>\n",
       "      <th>73</th>\n",
       "      <td>United States of America</td>\n",
       "      <td>America</td>\n",
       "      <td>0.317960</td>\n",
       "      <td>3</td>\n",
       "      <td>2067.100000</td>\n",
       "      <td>41296.200000</td>\n",
       "      <td>33816.400000</td>\n",
       "      <td>10371.566670</td>\n",
       "      <td>12404.433330</td>\n",
       "      <td>19534.266670</td>\n",
       "      <td>...</td>\n",
       "      <td>1220.500000</td>\n",
       "      <td>79580.733330</td>\n",
       "      <td>6234.633333</td>\n",
       "      <td>10499.733330</td>\n",
       "      <td>11902.433330</td>\n",
       "      <td>644.800000</td>\n",
       "      <td>837.800000</td>\n",
       "      <td>29411.800000</td>\n",
       "      <td>34784.43333</td>\n",
       "      <td>100723.333300</td>\n",
       "    </tr>\n",
       "    <tr>\n",
       "      <th>71</th>\n",
       "      <td>Argentina</td>\n",
       "      <td>America</td>\n",
       "      <td>0.291443</td>\n",
       "      <td>3</td>\n",
       "      <td>244.133333</td>\n",
       "      <td>6191.133333</td>\n",
       "      <td>7668.366667</td>\n",
       "      <td>107.366667</td>\n",
       "      <td>14493.133330</td>\n",
       "      <td>7684.366667</td>\n",
       "      <td>...</td>\n",
       "      <td>770.033333</td>\n",
       "      <td>37293.833330</td>\n",
       "      <td>9990.833333</td>\n",
       "      <td>4294.766667</td>\n",
       "      <td>1868.066667</td>\n",
       "      <td>325.600000</td>\n",
       "      <td>402.200000</td>\n",
       "      <td>16529.066670</td>\n",
       "      <td>53816.06667</td>\n",
       "      <td>60104.700000</td>\n",
       "    </tr>\n",
       "    <tr>\n",
       "      <th>4</th>\n",
       "      <td>Indonesia</td>\n",
       "      <td>Asia</td>\n",
       "      <td>0.046816</td>\n",
       "      <td>1</td>\n",
       "      <td>22.000000</td>\n",
       "      <td>150.466667</td>\n",
       "      <td>506.800000</td>\n",
       "      <td>3.166667</td>\n",
       "      <td>33005.633330</td>\n",
       "      <td>3054.800000</td>\n",
       "      <td>...</td>\n",
       "      <td>644.566667</td>\n",
       "      <td>1489.100000</td>\n",
       "      <td>276.300000</td>\n",
       "      <td>1462.966667</td>\n",
       "      <td>403.800000</td>\n",
       "      <td>79.166667</td>\n",
       "      <td>27.633333</td>\n",
       "      <td>5130.233333</td>\n",
       "      <td>6929.60000</td>\n",
       "      <td>2969.766667</td>\n",
       "    </tr>\n",
       "    <tr>\n",
       "      <th>16</th>\n",
       "      <td>Switzerland</td>\n",
       "      <td>Europe</td>\n",
       "      <td>0.146812</td>\n",
       "      <td>1</td>\n",
       "      <td>422.900000</td>\n",
       "      <td>16872.100000</td>\n",
       "      <td>15424.500000</td>\n",
       "      <td>5210.933333</td>\n",
       "      <td>14446.433330</td>\n",
       "      <td>7233.033333</td>\n",
       "      <td>...</td>\n",
       "      <td>645.033333</td>\n",
       "      <td>67658.700000</td>\n",
       "      <td>28040.766670</td>\n",
       "      <td>14082.833330</td>\n",
       "      <td>6874.966667</td>\n",
       "      <td>512.000000</td>\n",
       "      <td>476.366667</td>\n",
       "      <td>19602.333330</td>\n",
       "      <td>52400.30000</td>\n",
       "      <td>117209.500000</td>\n",
       "    </tr>\n",
       "    <tr>\n",
       "      <th>62</th>\n",
       "      <td>Ireland</td>\n",
       "      <td>Europe</td>\n",
       "      <td>0.245770</td>\n",
       "      <td>3</td>\n",
       "      <td>2224.766667</td>\n",
       "      <td>24923.633330</td>\n",
       "      <td>14496.366670</td>\n",
       "      <td>6819.933333</td>\n",
       "      <td>7718.466667</td>\n",
       "      <td>9482.600000</td>\n",
       "      <td>...</td>\n",
       "      <td>1468.500000</td>\n",
       "      <td>145484.466700</td>\n",
       "      <td>12243.000000</td>\n",
       "      <td>5275.966667</td>\n",
       "      <td>5881.433333</td>\n",
       "      <td>334.233333</td>\n",
       "      <td>661.466667</td>\n",
       "      <td>22925.833330</td>\n",
       "      <td>45092.70000</td>\n",
       "      <td>166411.833300</td>\n",
       "    </tr>\n",
       "  </tbody>\n",
       "</table>\n",
       "<p>10 rows × 52 columns</p>\n",
       "</div>"
      ],
      "text/plain": [
       "                country_name continent  prevalence  tertile  \\\n",
       "12                  Thailand      Asia    0.087858        1   \n",
       "25                    Greece    Europe    0.172390        1   \n",
       "66                  Slovenia    Europe    0.263871        3   \n",
       "69                     Chile   America    0.289636        3   \n",
       "23                   Romania    Europe    0.169666        1   \n",
       "73  United States of America   America    0.317960        3   \n",
       "71                 Argentina   America    0.291443        3   \n",
       "4                  Indonesia      Asia    0.046816        1   \n",
       "16               Switzerland    Europe    0.146812        1   \n",
       "62                   Ireland    Europe    0.245770        3   \n",
       "\n",
       "    RTDs/High-Strength Premixes  Processed Fruit and Vegetables  \\\n",
       "12                   265.400000                      453.366667   \n",
       "25                   492.166667                    13111.633330   \n",
       "66                  2454.966667                     7337.333333   \n",
       "69                   431.266667                     9581.966667   \n",
       "23                     6.766667                     3863.433333   \n",
       "73                  2067.100000                    41296.200000   \n",
       "71                   244.133333                     6191.133333   \n",
       "4                     22.000000                      150.466667   \n",
       "16                   422.900000                    16872.100000   \n",
       "62                  2224.766667                    24923.633330   \n",
       "\n",
       "    Processed Meat and Seafood   Ready Meals  Rice, Pasta and Noodles  \\\n",
       "12                  950.533333    245.333333             14231.233330   \n",
       "25                10953.900000   2158.700000             14110.233330   \n",
       "66                11419.266670   2031.900000             10990.766670   \n",
       "69                 6937.666667    383.466667             17394.666670   \n",
       "23                10855.233330    153.900000              7172.600000   \n",
       "73                33816.400000  10371.566670             12404.433330   \n",
       "71                 7668.366667    107.366667             14493.133330   \n",
       "4                   506.800000      3.166667             33005.633330   \n",
       "16                15424.500000   5210.933333             14446.433330   \n",
       "62                14496.366670   6819.933333              7718.466667   \n",
       "\n",
       "    Sauces, Dressings and Condiments  ...    Baby Food  \\\n",
       "12                       6168.333333  ...  1156.166667   \n",
       "25                      14032.600000  ...  2280.200000   \n",
       "66                       6365.633333  ...  1059.166667   \n",
       "69                       6575.500000  ...   591.833333   \n",
       "23                       2262.466667  ...   208.100000   \n",
       "73                      19534.266670  ...  1220.500000   \n",
       "71                       7684.366667  ...   770.033333   \n",
       "4                        3054.800000  ...   644.566667   \n",
       "16                       7233.033333  ...   645.033333   \n",
       "62                       9482.600000  ...  1468.500000   \n",
       "\n",
       "    Drinking Milk Products  Yoghurt and Sour Milk Products   Other Dairy  \\\n",
       "12            10149.900000                     4577.433333   4127.766667   \n",
       "25            52229.566670                    12054.866670  19095.566670   \n",
       "66            75184.000000                    13103.766670   7001.166667   \n",
       "69            20579.700000                     8320.166667   5449.900000   \n",
       "23             9655.166667                     6286.533333   2348.000000   \n",
       "73            79580.733330                     6234.633333  10499.733330   \n",
       "71            37293.833330                     9990.833333   4294.766667   \n",
       "4              1489.100000                      276.300000   1462.966667   \n",
       "16            67658.700000                    28040.766670  14082.833330   \n",
       "62           145484.466700                    12243.000000   5275.966667   \n",
       "\n",
       "    Ice Cream and Frozen Desserts  Cocoa Powder  \\\n",
       "12                     647.533333     63.633333   \n",
       "25                    4792.433333    327.366667   \n",
       "66                    3239.900000    228.366667   \n",
       "69                    5682.866667    276.866667   \n",
       "23                    1259.933333     72.933333   \n",
       "73                   11902.433330    644.800000   \n",
       "71                    1868.066667    325.600000   \n",
       "4                      403.800000     79.166667   \n",
       "16                    6874.966667    512.000000   \n",
       "62                    5881.433333    334.233333   \n",
       "\n",
       "    Emulsifiers and Co-Emulsifiers  Fats and Oils       Flours           Milk  \n",
       "12                       45.866667    8105.400000   3701.60000   13473.666670  \n",
       "25                      524.566667   23913.600000  56020.96667   89917.200000  \n",
       "66                      353.100000   17559.200000  45317.53333   99504.333330  \n",
       "69                      483.300000   20101.933330  69019.10000   37038.300000  \n",
       "23                      350.066667   14205.233330  61351.10000   20255.433330  \n",
       "73                      837.800000   29411.800000  34784.43333  100723.333300  \n",
       "71                      402.200000   16529.066670  53816.06667   60104.700000  \n",
       "4                        27.633333    5130.233333   6929.60000    2969.766667  \n",
       "16                      476.366667   19602.333330  52400.30000  117209.500000  \n",
       "62                      661.466667   22925.833330  45092.70000  166411.833300  \n",
       "\n",
       "[10 rows x 52 columns]"
      ]
     },
     "execution_count": 3,
     "metadata": {},
     "output_type": "execute_result"
    }
   ],
   "source": [
    "data.sample(10)"
   ]
  },
  {
   "cell_type": "markdown",
   "metadata": {},
   "source": [
    "Checking if the dataset is balanced"
   ]
  },
  {
   "cell_type": "code",
   "execution_count": 4,
   "metadata": {},
   "outputs": [
    {
     "data": {
      "text/plain": [
       "3    28\n",
       "1    26\n",
       "2    25\n",
       "Name: tertile, dtype: int64"
      ]
     },
     "execution_count": 4,
     "metadata": {},
     "output_type": "execute_result"
    }
   ],
   "source": [
    "data.tertile.value_counts()"
   ]
  },
  {
   "cell_type": "code",
   "execution_count": 5,
   "metadata": {},
   "outputs": [],
   "source": [
    "##########\n",
    "\n",
    "# what if the dataset is unbalanced?, describe the problems that can generate a training session whith unbalanced data\n",
    "# and code the solution to balance the data\n",
    "\n",
    "# HINT:\n",
    "# count_class_0, count_class_1 = dataframe['label'].value_counts() # class 0 is the predominant\n",
    "# df_class_0 = dataframe[dataframe['label'] == 0]\n",
    "# df_class_1 = dataframe[dataframe['label'] == 1]\n",
    "# df_class_0_under = df_class_0.sample(count_class_1)\n",
    "# dataframe_balanced = pd.concat([df_class_0_under, df_class_1], axis=0)\n",
    "\n",
    "##########"
   ]
  },
  {
   "cell_type": "markdown",
   "metadata": {},
   "source": [
    "Describing the shape of the dataframe"
   ]
  },
  {
   "cell_type": "code",
   "execution_count": 6,
   "metadata": {},
   "outputs": [
    {
     "data": {
      "text/plain": [
       "(79, 52)"
      ]
     },
     "execution_count": 6,
     "metadata": {},
     "output_type": "execute_result"
    }
   ],
   "source": [
    "data.shape"
   ]
  },
  {
   "cell_type": "markdown",
   "metadata": {},
   "source": [
    "Creating a variable which only contains the predictor features"
   ]
  },
  {
   "cell_type": "code",
   "execution_count": 7,
   "metadata": {},
   "outputs": [],
   "source": [
    "features = data[data.columns.difference(['prevalence','tertile','country_name'])]"
   ]
  },
  {
   "cell_type": "markdown",
   "metadata": {},
   "source": [
    "Saving the feature names into a variable"
   ]
  },
  {
   "cell_type": "code",
   "execution_count": 8,
   "metadata": {},
   "outputs": [],
   "source": [
    "feature_names = features.columns"
   ]
  },
  {
   "cell_type": "markdown",
   "metadata": {},
   "source": [
    "If one would like to consider continents the way to do it is by encoding the categorical features into dummy variables like (in R one can use \"as.factor\"):\n",
    "* continent_Asia\n",
    "* continent_Europe\n",
    "* ..."
   ]
  },
  {
   "cell_type": "code",
   "execution_count": 9,
   "metadata": {},
   "outputs": [
    {
     "data": {
      "text/html": [
       "<div>\n",
       "<style scoped>\n",
       "    .dataframe tbody tr th:only-of-type {\n",
       "        vertical-align: middle;\n",
       "    }\n",
       "\n",
       "    .dataframe tbody tr th {\n",
       "        vertical-align: top;\n",
       "    }\n",
       "\n",
       "    .dataframe thead th {\n",
       "        text-align: right;\n",
       "    }\n",
       "</style>\n",
       "<table border=\"1\" class=\"dataframe\">\n",
       "  <thead>\n",
       "    <tr style=\"text-align: right;\">\n",
       "      <th></th>\n",
       "      <th>Baby Food</th>\n",
       "      <th>Baked Goods</th>\n",
       "      <th>Beer</th>\n",
       "      <th>Bottled Water</th>\n",
       "      <th>Breakfast Cereals</th>\n",
       "      <th>Butter and Margarine</th>\n",
       "      <th>Carbonates</th>\n",
       "      <th>Cheese</th>\n",
       "      <th>Chocolate Confectionery</th>\n",
       "      <th>Cocoa Powder</th>\n",
       "      <th>...</th>\n",
       "      <th>Sweet Biscuits, Snack Bars and Fruit Snacks</th>\n",
       "      <th>Tea</th>\n",
       "      <th>Vegetables</th>\n",
       "      <th>Wine</th>\n",
       "      <th>Yoghurt and Sour Milk Products</th>\n",
       "      <th>continent_Africa</th>\n",
       "      <th>continent_America</th>\n",
       "      <th>continent_Asia</th>\n",
       "      <th>continent_Europe</th>\n",
       "      <th>continent_Oceania</th>\n",
       "    </tr>\n",
       "  </thead>\n",
       "  <tbody>\n",
       "    <tr>\n",
       "      <th>0</th>\n",
       "      <td>437.633333</td>\n",
       "      <td>1577.10000</td>\n",
       "      <td>17720.400000</td>\n",
       "      <td>3904.233333</td>\n",
       "      <td>1.833333</td>\n",
       "      <td>61.200000</td>\n",
       "      <td>4723.566667</td>\n",
       "      <td>32.266667</td>\n",
       "      <td>38.100000</td>\n",
       "      <td>31.100000</td>\n",
       "      <td>...</td>\n",
       "      <td>516.533333</td>\n",
       "      <td>167.700000</td>\n",
       "      <td>113147.633300</td>\n",
       "      <td>289.7333</td>\n",
       "      <td>985.366667</td>\n",
       "      <td>0</td>\n",
       "      <td>0</td>\n",
       "      <td>1</td>\n",
       "      <td>0</td>\n",
       "      <td>0</td>\n",
       "    </tr>\n",
       "    <tr>\n",
       "      <th>1</th>\n",
       "      <td>39.433333</td>\n",
       "      <td>2109.40000</td>\n",
       "      <td>1009.966667</td>\n",
       "      <td>1536.300000</td>\n",
       "      <td>7.400000</td>\n",
       "      <td>488.200000</td>\n",
       "      <td>1706.566667</td>\n",
       "      <td>43.366667</td>\n",
       "      <td>41.333333</td>\n",
       "      <td>13.000000</td>\n",
       "      <td>...</td>\n",
       "      <td>867.666667</td>\n",
       "      <td>285.200000</td>\n",
       "      <td>68016.633330</td>\n",
       "      <td>7.5333</td>\n",
       "      <td>263.700000</td>\n",
       "      <td>0</td>\n",
       "      <td>0</td>\n",
       "      <td>1</td>\n",
       "      <td>0</td>\n",
       "      <td>0</td>\n",
       "    </tr>\n",
       "    <tr>\n",
       "      <th>2</th>\n",
       "      <td>366.500000</td>\n",
       "      <td>22090.56667</td>\n",
       "      <td>50449.366670</td>\n",
       "      <td>22010.033330</td>\n",
       "      <td>233.766667</td>\n",
       "      <td>1129.566667</td>\n",
       "      <td>28788.466670</td>\n",
       "      <td>1700.966667</td>\n",
       "      <td>1127.500000</td>\n",
       "      <td>259.100000</td>\n",
       "      <td>...</td>\n",
       "      <td>2149.366667</td>\n",
       "      <td>954.033333</td>\n",
       "      <td>100732.666700</td>\n",
       "      <td>7246.0333</td>\n",
       "      <td>9963.800000</td>\n",
       "      <td>0</td>\n",
       "      <td>0</td>\n",
       "      <td>1</td>\n",
       "      <td>0</td>\n",
       "      <td>0</td>\n",
       "    </tr>\n",
       "    <tr>\n",
       "      <th>3</th>\n",
       "      <td>52.933333</td>\n",
       "      <td>3054.50000</td>\n",
       "      <td>11499.100000</td>\n",
       "      <td>5467.833333</td>\n",
       "      <td>174.033333</td>\n",
       "      <td>8216.500000</td>\n",
       "      <td>7951.100000</td>\n",
       "      <td>6.566667</td>\n",
       "      <td>43.166667</td>\n",
       "      <td>10.300000</td>\n",
       "      <td>...</td>\n",
       "      <td>251.266667</td>\n",
       "      <td>509.633333</td>\n",
       "      <td>5028.533333</td>\n",
       "      <td>453.4000</td>\n",
       "      <td>512.733333</td>\n",
       "      <td>1</td>\n",
       "      <td>0</td>\n",
       "      <td>0</td>\n",
       "      <td>0</td>\n",
       "      <td>0</td>\n",
       "    </tr>\n",
       "    <tr>\n",
       "      <th>4</th>\n",
       "      <td>644.566667</td>\n",
       "      <td>3154.50000</td>\n",
       "      <td>632.466667</td>\n",
       "      <td>48291.766670</td>\n",
       "      <td>19.066667</td>\n",
       "      <td>197.433333</td>\n",
       "      <td>2537.766667</td>\n",
       "      <td>50.700000</td>\n",
       "      <td>246.466667</td>\n",
       "      <td>79.166667</td>\n",
       "      <td>...</td>\n",
       "      <td>797.366667</td>\n",
       "      <td>335.033333</td>\n",
       "      <td>39025.733330</td>\n",
       "      <td>80.5000</td>\n",
       "      <td>276.300000</td>\n",
       "      <td>0</td>\n",
       "      <td>0</td>\n",
       "      <td>1</td>\n",
       "      <td>0</td>\n",
       "      <td>0</td>\n",
       "    </tr>\n",
       "    <tr>\n",
       "      <th>...</th>\n",
       "      <td>...</td>\n",
       "      <td>...</td>\n",
       "      <td>...</td>\n",
       "      <td>...</td>\n",
       "      <td>...</td>\n",
       "      <td>...</td>\n",
       "      <td>...</td>\n",
       "      <td>...</td>\n",
       "      <td>...</td>\n",
       "      <td>...</td>\n",
       "      <td>...</td>\n",
       "      <td>...</td>\n",
       "      <td>...</td>\n",
       "      <td>...</td>\n",
       "      <td>...</td>\n",
       "      <td>...</td>\n",
       "      <td>...</td>\n",
       "      <td>...</td>\n",
       "      <td>...</td>\n",
       "      <td>...</td>\n",
       "      <td>...</td>\n",
       "    </tr>\n",
       "    <tr>\n",
       "      <th>74</th>\n",
       "      <td>659.966667</td>\n",
       "      <td>167381.63330</td>\n",
       "      <td>57139.533330</td>\n",
       "      <td>145684.533300</td>\n",
       "      <td>1022.800000</td>\n",
       "      <td>3317.600000</td>\n",
       "      <td>140737.033300</td>\n",
       "      <td>5663.266667</td>\n",
       "      <td>406.533333</td>\n",
       "      <td>344.366667</td>\n",
       "      <td>...</td>\n",
       "      <td>4551.433333</td>\n",
       "      <td>15.500000</td>\n",
       "      <td>54477.533330</td>\n",
       "      <td>500.7667</td>\n",
       "      <td>5119.933333</td>\n",
       "      <td>0</td>\n",
       "      <td>1</td>\n",
       "      <td>0</td>\n",
       "      <td>0</td>\n",
       "      <td>0</td>\n",
       "    </tr>\n",
       "    <tr>\n",
       "      <th>75</th>\n",
       "      <td>657.400000</td>\n",
       "      <td>29825.16667</td>\n",
       "      <td>59794.400000</td>\n",
       "      <td>6007.966667</td>\n",
       "      <td>1848.100000</td>\n",
       "      <td>3117.866667</td>\n",
       "      <td>62444.133330</td>\n",
       "      <td>2471.200000</td>\n",
       "      <td>902.766667</td>\n",
       "      <td>55.233333</td>\n",
       "      <td>...</td>\n",
       "      <td>782.966667</td>\n",
       "      <td>489.500000</td>\n",
       "      <td>35341.266670</td>\n",
       "      <td>6842.0333</td>\n",
       "      <td>3927.466667</td>\n",
       "      <td>1</td>\n",
       "      <td>0</td>\n",
       "      <td>0</td>\n",
       "      <td>0</td>\n",
       "      <td>0</td>\n",
       "    </tr>\n",
       "    <tr>\n",
       "      <th>76</th>\n",
       "      <td>968.133333</td>\n",
       "      <td>44854.83333</td>\n",
       "      <td>12461.133330</td>\n",
       "      <td>163199.466700</td>\n",
       "      <td>1254.800000</td>\n",
       "      <td>1601.100000</td>\n",
       "      <td>59504.533330</td>\n",
       "      <td>3254.300000</td>\n",
       "      <td>1697.366667</td>\n",
       "      <td>158.400000</td>\n",
       "      <td>...</td>\n",
       "      <td>3882.766667</td>\n",
       "      <td>1545.133333</td>\n",
       "      <td>70104.166670</td>\n",
       "      <td>1951.2667</td>\n",
       "      <td>26258.566670</td>\n",
       "      <td>1</td>\n",
       "      <td>0</td>\n",
       "      <td>0</td>\n",
       "      <td>0</td>\n",
       "      <td>0</td>\n",
       "    </tr>\n",
       "    <tr>\n",
       "      <th>77</th>\n",
       "      <td>132.166667</td>\n",
       "      <td>78885.13333</td>\n",
       "      <td>1277.766667</td>\n",
       "      <td>15191.400000</td>\n",
       "      <td>35.366667</td>\n",
       "      <td>3811.833333</td>\n",
       "      <td>27448.766670</td>\n",
       "      <td>4105.133333</td>\n",
       "      <td>243.066667</td>\n",
       "      <td>58.266667</td>\n",
       "      <td>...</td>\n",
       "      <td>1621.500000</td>\n",
       "      <td>1200.466667</td>\n",
       "      <td>143320.900000</td>\n",
       "      <td>44.6333</td>\n",
       "      <td>2893.533333</td>\n",
       "      <td>1</td>\n",
       "      <td>0</td>\n",
       "      <td>0</td>\n",
       "      <td>0</td>\n",
       "      <td>0</td>\n",
       "    </tr>\n",
       "    <tr>\n",
       "      <th>78</th>\n",
       "      <td>883.433333</td>\n",
       "      <td>124947.63330</td>\n",
       "      <td>2652.800000</td>\n",
       "      <td>136516.766700</td>\n",
       "      <td>821.500000</td>\n",
       "      <td>525.766667</td>\n",
       "      <td>99027.700000</td>\n",
       "      <td>2688.533333</td>\n",
       "      <td>1384.466667</td>\n",
       "      <td>229.533333</td>\n",
       "      <td>...</td>\n",
       "      <td>1315.066667</td>\n",
       "      <td>556.433333</td>\n",
       "      <td>57544.866670</td>\n",
       "      <td>0.0000</td>\n",
       "      <td>17797.366670</td>\n",
       "      <td>0</td>\n",
       "      <td>0</td>\n",
       "      <td>1</td>\n",
       "      <td>0</td>\n",
       "      <td>0</td>\n",
       "    </tr>\n",
       "  </tbody>\n",
       "</table>\n",
       "<p>79 rows × 53 columns</p>\n",
       "</div>"
      ],
      "text/plain": [
       "     Baby Food   Baked Goods          Beer  Bottled Water  Breakfast Cereals  \\\n",
       "0   437.633333    1577.10000  17720.400000    3904.233333           1.833333   \n",
       "1    39.433333    2109.40000   1009.966667    1536.300000           7.400000   \n",
       "2   366.500000   22090.56667  50449.366670   22010.033330         233.766667   \n",
       "3    52.933333    3054.50000  11499.100000    5467.833333         174.033333   \n",
       "4   644.566667    3154.50000    632.466667   48291.766670          19.066667   \n",
       "..         ...           ...           ...            ...                ...   \n",
       "74  659.966667  167381.63330  57139.533330  145684.533300        1022.800000   \n",
       "75  657.400000   29825.16667  59794.400000    6007.966667        1848.100000   \n",
       "76  968.133333   44854.83333  12461.133330  163199.466700        1254.800000   \n",
       "77  132.166667   78885.13333   1277.766667   15191.400000          35.366667   \n",
       "78  883.433333  124947.63330   2652.800000  136516.766700         821.500000   \n",
       "\n",
       "    Butter and Margarine     Carbonates       Cheese  Chocolate Confectionery  \\\n",
       "0              61.200000    4723.566667    32.266667                38.100000   \n",
       "1             488.200000    1706.566667    43.366667                41.333333   \n",
       "2            1129.566667   28788.466670  1700.966667              1127.500000   \n",
       "3            8216.500000    7951.100000     6.566667                43.166667   \n",
       "4             197.433333    2537.766667    50.700000               246.466667   \n",
       "..                   ...            ...          ...                      ...   \n",
       "74           3317.600000  140737.033300  5663.266667               406.533333   \n",
       "75           3117.866667   62444.133330  2471.200000               902.766667   \n",
       "76           1601.100000   59504.533330  3254.300000              1697.366667   \n",
       "77           3811.833333   27448.766670  4105.133333               243.066667   \n",
       "78            525.766667   99027.700000  2688.533333              1384.466667   \n",
       "\n",
       "    Cocoa Powder  ...  Sweet Biscuits, Snack Bars and Fruit Snacks  \\\n",
       "0      31.100000  ...                                   516.533333   \n",
       "1      13.000000  ...                                   867.666667   \n",
       "2     259.100000  ...                                  2149.366667   \n",
       "3      10.300000  ...                                   251.266667   \n",
       "4      79.166667  ...                                   797.366667   \n",
       "..           ...  ...                                          ...   \n",
       "74    344.366667  ...                                  4551.433333   \n",
       "75     55.233333  ...                                   782.966667   \n",
       "76    158.400000  ...                                  3882.766667   \n",
       "77     58.266667  ...                                  1621.500000   \n",
       "78    229.533333  ...                                  1315.066667   \n",
       "\n",
       "            Tea     Vegetables       Wine  Yoghurt and Sour Milk Products  \\\n",
       "0    167.700000  113147.633300   289.7333                      985.366667   \n",
       "1    285.200000   68016.633330     7.5333                      263.700000   \n",
       "2    954.033333  100732.666700  7246.0333                     9963.800000   \n",
       "3    509.633333    5028.533333   453.4000                      512.733333   \n",
       "4    335.033333   39025.733330    80.5000                      276.300000   \n",
       "..          ...            ...        ...                             ...   \n",
       "74    15.500000   54477.533330   500.7667                     5119.933333   \n",
       "75   489.500000   35341.266670  6842.0333                     3927.466667   \n",
       "76  1545.133333   70104.166670  1951.2667                    26258.566670   \n",
       "77  1200.466667  143320.900000    44.6333                     2893.533333   \n",
       "78   556.433333   57544.866670     0.0000                    17797.366670   \n",
       "\n",
       "    continent_Africa  continent_America  continent_Asia  continent_Europe  \\\n",
       "0                  0                  0               1                 0   \n",
       "1                  0                  0               1                 0   \n",
       "2                  0                  0               1                 0   \n",
       "3                  1                  0               0                 0   \n",
       "4                  0                  0               1                 0   \n",
       "..               ...                ...             ...               ...   \n",
       "74                 0                  1               0                 0   \n",
       "75                 1                  0               0                 0   \n",
       "76                 1                  0               0                 0   \n",
       "77                 1                  0               0                 0   \n",
       "78                 0                  0               1                 0   \n",
       "\n",
       "    continent_Oceania  \n",
       "0                   0  \n",
       "1                   0  \n",
       "2                   0  \n",
       "3                   0  \n",
       "4                   0  \n",
       "..                ...  \n",
       "74                  0  \n",
       "75                  0  \n",
       "76                  0  \n",
       "77                  0  \n",
       "78                  0  \n",
       "\n",
       "[79 rows x 53 columns]"
      ]
     },
     "execution_count": 9,
     "metadata": {},
     "output_type": "execute_result"
    }
   ],
   "source": [
    "pd.get_dummies(features)"
   ]
  },
  {
   "cell_type": "markdown",
   "metadata": {},
   "source": [
    "But does it have sense to use the continents as predictor? Let's use only food as predictors. "
   ]
  },
  {
   "cell_type": "code",
   "execution_count": 10,
   "metadata": {},
   "outputs": [],
   "source": [
    "features = features[features.columns.difference(['continent'])]"
   ]
  },
  {
   "cell_type": "code",
   "execution_count": 11,
   "metadata": {
    "scrolled": true
   },
   "outputs": [
    {
     "data": {
      "text/html": [
       "<div>\n",
       "<style scoped>\n",
       "    .dataframe tbody tr th:only-of-type {\n",
       "        vertical-align: middle;\n",
       "    }\n",
       "\n",
       "    .dataframe tbody tr th {\n",
       "        vertical-align: top;\n",
       "    }\n",
       "\n",
       "    .dataframe thead th {\n",
       "        text-align: right;\n",
       "    }\n",
       "</style>\n",
       "<table border=\"1\" class=\"dataframe\">\n",
       "  <thead>\n",
       "    <tr style=\"text-align: right;\">\n",
       "      <th></th>\n",
       "      <th>Baby Food</th>\n",
       "      <th>Baked Goods</th>\n",
       "      <th>Beer</th>\n",
       "      <th>Bottled Water</th>\n",
       "      <th>Breakfast Cereals</th>\n",
       "      <th>Butter and Margarine</th>\n",
       "      <th>Carbonates</th>\n",
       "      <th>Cheese</th>\n",
       "      <th>Chocolate Confectionery</th>\n",
       "      <th>Cocoa Powder</th>\n",
       "      <th>...</th>\n",
       "      <th>Sports and Energy Drinks</th>\n",
       "      <th>Spreads</th>\n",
       "      <th>Starchy Roots</th>\n",
       "      <th>Sugar Confectionery</th>\n",
       "      <th>Sugar and Sweeteners</th>\n",
       "      <th>Sweet Biscuits, Snack Bars and Fruit Snacks</th>\n",
       "      <th>Tea</th>\n",
       "      <th>Vegetables</th>\n",
       "      <th>Wine</th>\n",
       "      <th>Yoghurt and Sour Milk Products</th>\n",
       "    </tr>\n",
       "  </thead>\n",
       "  <tbody>\n",
       "    <tr>\n",
       "      <th>72</th>\n",
       "      <td>1441.566667</td>\n",
       "      <td>21631.66667</td>\n",
       "      <td>88484.73333</td>\n",
       "      <td>17834.30000</td>\n",
       "      <td>1411.566667</td>\n",
       "      <td>4678.666667</td>\n",
       "      <td>78869.43333</td>\n",
       "      <td>5561.833333</td>\n",
       "      <td>390.633333</td>\n",
       "      <td>117.133333</td>\n",
       "      <td>...</td>\n",
       "      <td>4353.633333</td>\n",
       "      <td>64.2</td>\n",
       "      <td>35219.06667</td>\n",
       "      <td>754.700000</td>\n",
       "      <td>18712.46667</td>\n",
       "      <td>2676.633333</td>\n",
       "      <td>20.600000</td>\n",
       "      <td>54012.56667</td>\n",
       "      <td>532.9000</td>\n",
       "      <td>1643.000000</td>\n",
       "    </tr>\n",
       "    <tr>\n",
       "      <th>67</th>\n",
       "      <td>1018.166667</td>\n",
       "      <td>37284.33333</td>\n",
       "      <td>75100.50000</td>\n",
       "      <td>12659.43333</td>\n",
       "      <td>5694.700000</td>\n",
       "      <td>11219.433330</td>\n",
       "      <td>56701.10000</td>\n",
       "      <td>8129.200000</td>\n",
       "      <td>3892.033333</td>\n",
       "      <td>277.633333</td>\n",
       "      <td>...</td>\n",
       "      <td>5561.966667</td>\n",
       "      <td>3156.2</td>\n",
       "      <td>48307.43333</td>\n",
       "      <td>2465.766667</td>\n",
       "      <td>14777.50000</td>\n",
       "      <td>7662.866667</td>\n",
       "      <td>1005.566667</td>\n",
       "      <td>46952.56667</td>\n",
       "      <td>22806.6667</td>\n",
       "      <td>6150.566667</td>\n",
       "    </tr>\n",
       "    <tr>\n",
       "      <th>34</th>\n",
       "      <td>468.500000</td>\n",
       "      <td>84528.56667</td>\n",
       "      <td>33273.50000</td>\n",
       "      <td>42621.43333</td>\n",
       "      <td>552.900000</td>\n",
       "      <td>3363.033333</td>\n",
       "      <td>41655.10000</td>\n",
       "      <td>6889.333333</td>\n",
       "      <td>2521.666667</td>\n",
       "      <td>154.866667</td>\n",
       "      <td>...</td>\n",
       "      <td>647.233333</td>\n",
       "      <td>1665.2</td>\n",
       "      <td>11312.86667</td>\n",
       "      <td>690.266667</td>\n",
       "      <td>11949.33333</td>\n",
       "      <td>3374.733333</td>\n",
       "      <td>456.633333</td>\n",
       "      <td>57837.56667</td>\n",
       "      <td>10633.9000</td>\n",
       "      <td>14131.000000</td>\n",
       "    </tr>\n",
       "  </tbody>\n",
       "</table>\n",
       "<p>3 rows × 48 columns</p>\n",
       "</div>"
      ],
      "text/plain": [
       "      Baby Food  Baked Goods         Beer  Bottled Water  Breakfast Cereals  \\\n",
       "72  1441.566667  21631.66667  88484.73333    17834.30000        1411.566667   \n",
       "67  1018.166667  37284.33333  75100.50000    12659.43333        5694.700000   \n",
       "34   468.500000  84528.56667  33273.50000    42621.43333         552.900000   \n",
       "\n",
       "    Butter and Margarine   Carbonates       Cheese  Chocolate Confectionery  \\\n",
       "72           4678.666667  78869.43333  5561.833333               390.633333   \n",
       "67          11219.433330  56701.10000  8129.200000              3892.033333   \n",
       "34           3363.033333  41655.10000  6889.333333              2521.666667   \n",
       "\n",
       "    Cocoa Powder  ...  Sports and Energy Drinks  Spreads  Starchy Roots  \\\n",
       "72    117.133333  ...               4353.633333     64.2    35219.06667   \n",
       "67    277.633333  ...               5561.966667   3156.2    48307.43333   \n",
       "34    154.866667  ...                647.233333   1665.2    11312.86667   \n",
       "\n",
       "    Sugar Confectionery  Sugar and Sweeteners  \\\n",
       "72           754.700000           18712.46667   \n",
       "67          2465.766667           14777.50000   \n",
       "34           690.266667           11949.33333   \n",
       "\n",
       "    Sweet Biscuits, Snack Bars and Fruit Snacks          Tea   Vegetables  \\\n",
       "72                                  2676.633333    20.600000  54012.56667   \n",
       "67                                  7662.866667  1005.566667  46952.56667   \n",
       "34                                  3374.733333   456.633333  57837.56667   \n",
       "\n",
       "          Wine  Yoghurt and Sour Milk Products  \n",
       "72    532.9000                     1643.000000  \n",
       "67  22806.6667                     6150.566667  \n",
       "34  10633.9000                    14131.000000  \n",
       "\n",
       "[3 rows x 48 columns]"
      ]
     },
     "execution_count": 11,
     "metadata": {},
     "output_type": "execute_result"
    }
   ],
   "source": [
    "features.sample(3)"
   ]
  },
  {
   "cell_type": "markdown",
   "metadata": {},
   "source": [
    "Creating a variable of the categorical labels of the dataset"
   ]
  },
  {
   "cell_type": "code",
   "execution_count": 12,
   "metadata": {},
   "outputs": [],
   "source": [
    "labels_categorical = data.tertile"
   ]
  },
  {
   "cell_type": "markdown",
   "metadata": {},
   "source": [
    "Normalizing the numerical variables into a min max scaler where the maximum value is transformed into a 1 and the minimum value is 0"
   ]
  },
  {
   "cell_type": "code",
   "execution_count": 13,
   "metadata": {},
   "outputs": [],
   "source": [
    "minMaxScaler = sklearn.preprocessing.MinMaxScaler()\n",
    "features = minMaxScaler.fit_transform(features)"
   ]
  },
  {
   "cell_type": "code",
   "execution_count": 14,
   "metadata": {},
   "outputs": [
    {
     "data": {
      "text/plain": [
       "array([[1.03185572e-01, 1.33818127e-03, 1.09283215e-01, 1.49233599e-02,\n",
       "        0.00000000e+00, 3.05246906e-03, 1.69307795e-02, 1.84287043e-03,\n",
       "        3.35912234e-03, 3.22430631e-02, 6.25161770e-02, 1.95383271e-04,\n",
       "        2.40807285e-02, 1.34124650e-01, 8.86528758e-02, 1.42828672e-03,\n",
       "        9.25111471e-02, 2.12577881e-01, 1.51973811e-02, 3.83042097e-01,\n",
       "        1.02277989e-01, 1.04349473e-02, 8.94231364e-03, 3.92787984e-01,\n",
       "        2.35873654e-02, 8.23362026e-01, 4.57720111e-02, 1.29546406e-02,\n",
       "        1.79410705e-03, 1.01928756e-02, 1.15803603e-01, 0.00000000e+00,\n",
       "        3.52686069e-03, 5.51678163e-02, 1.21884279e-01, 3.08558548e-02,\n",
       "        0.00000000e+00, 8.63255982e-03, 8.28225925e-02, 0.00000000e+00,\n",
       "        3.55299793e-01, 5.99909253e-02, 1.22368333e-01, 3.11179893e-02,\n",
       "        5.75844010e-02, 6.57770121e-01, 6.06134921e-03, 2.39244174e-02]])"
      ]
     },
     "execution_count": 14,
     "metadata": {},
     "output_type": "execute_result"
    }
   ],
   "source": [
    "features[:1,:]"
   ]
  },
  {
   "cell_type": "markdown",
   "metadata": {},
   "source": [
    "Splitting the data into training and testing subsets"
   ]
  },
  {
   "cell_type": "code",
   "execution_count": 15,
   "metadata": {},
   "outputs": [],
   "source": [
    "features_train, features_test, labels_categorical_train, labels_categorical_test = sklearn.model_selection.train_test_split(\n",
    "    features,\n",
    "    labels_categorical,\n",
    "    test_size=0.30,\n",
    "    random_state = 55,\n",
    "    stratify = labels_categorical #preserving the probability distribution of the original dataset\n",
    ")"
   ]
  },
  {
   "cell_type": "code",
   "execution_count": 16,
   "metadata": {},
   "outputs": [
    {
     "data": {
      "text/plain": [
       "array([[0.06784888, 0.13464565, 0.24193552, ..., 0.21099395, 0.00564294,\n",
       "        0.0741599 ],\n",
       "       [1.        , 0.3108829 , 0.56159045, ..., 0.30295924, 0.25292119,\n",
       "        1.        ],\n",
       "       [0.11118405, 0.43893647, 0.20544053, ..., 0.32127722, 0.22246591,\n",
       "        0.34581888],\n",
       "       ...,\n",
       "       [0.07729848, 0.29908984, 0.03654074, ..., 0.40806503, 0.01911013,\n",
       "        0.17739624],\n",
       "       [0.5806499 , 0.3901973 , 0.24696995, ..., 0.65744261, 0.68046812,\n",
       "        0.29498102],\n",
       "       [0.26947794, 0.3929943 , 0.53192116, ..., 0.67795643, 0.12884204,\n",
       "        0.2518965 ]])"
      ]
     },
     "execution_count": 16,
     "metadata": {},
     "output_type": "execute_result"
    }
   ],
   "source": [
    "features_train"
   ]
  },
  {
   "cell_type": "markdown",
   "metadata": {},
   "source": [
    "### Machine Learning Data Analysis"
   ]
  },
  {
   "cell_type": "markdown",
   "metadata": {},
   "source": [
    "#### Single Decision tree"
   ]
  },
  {
   "cell_type": "markdown",
   "metadata": {},
   "source": [
    "Training a single decision tree with a max depth of 2"
   ]
  },
  {
   "cell_type": "code",
   "execution_count": 17,
   "metadata": {},
   "outputs": [
    {
     "data": {
      "text/plain": [
       "DecisionTreeClassifier(max_depth=2)"
      ]
     },
     "execution_count": 17,
     "metadata": {},
     "output_type": "execute_result"
    }
   ],
   "source": [
    "decisionTree = sklearn.tree.DecisionTreeClassifier(max_features=None, max_depth=2)\n",
    "decisionTree.fit(features_train,labels_categorical_train)"
   ]
  },
  {
   "cell_type": "markdown",
   "metadata": {},
   "source": [
    "Plotting the decision tree"
   ]
  },
  {
   "cell_type": "code",
   "execution_count": 18,
   "metadata": {},
   "outputs": [
    {
     "data": {
      "image/png": "[encoded data removed]",
      "text/plain": [
       "<Figure size 432x288 with 1 Axes>"
      ]
     },
     "metadata": {
      "needs_background": "light"
     },
     "output_type": "display_data"
    }
   ],
   "source": [
    "ax = sklearn.tree.plot_tree(decisionTree,\n",
    "                       feature_names = feature_names\n",
    "                      )\n",
    "plt.show()"
   ]
  },
  {
   "cell_type": "markdown",
   "metadata": {},
   "source": [
    "Training a single decision tree with a without specifying the maximum depth"
   ]
  },
  {
   "cell_type": "code",
   "execution_count": 19,
   "metadata": {},
   "outputs": [
    {
     "data": {
      "text/plain": [
       "DecisionTreeClassifier()"
      ]
     },
     "execution_count": 19,
     "metadata": {},
     "output_type": "execute_result"
    }
   ],
   "source": [
    "decisionTree_full = sklearn.tree.DecisionTreeClassifier(max_features=None)\n",
    "decisionTree_full.fit(features_train,labels_categorical_train)"
   ]
  },
  {
   "cell_type": "markdown",
   "metadata": {},
   "source": [
    "Plotting the tree"
   ]
  },
  {
   "cell_type": "code",
   "execution_count": 20,
   "metadata": {},
   "outputs": [
    {
     "data": {
      "image/png": "[encoded data removed]",
      "text/plain": [
       "<Figure size 432x288 with 1 Axes>"
      ]
     },
     "metadata": {
      "needs_background": "light"
     },
     "output_type": "display_data"
    }
   ],
   "source": [
    "ax = sklearn.tree.plot_tree(decisionTree_full,\n",
    "                       feature_names = feature_names\n",
    "                      )\n",
    "plt.savefig('tree.pdf') #saving the tree plot as pdf\n",
    "plt.show()"
   ]
  },
  {
   "cell_type": "markdown",
   "metadata": {},
   "source": [
    "### Ensemble of Trees"
   ]
  },
  {
   "cell_type": "markdown",
   "metadata": {},
   "source": [
    "Training a random forest classifier with 100 trees"
   ]
  },
  {
   "cell_type": "code",
   "execution_count": 21,
   "metadata": {},
   "outputs": [],
   "source": [
    "classifier = sklearn.ensemble.RandomForestClassifier(n_estimators=100, random_state=15)"
   ]
  },
  {
   "cell_type": "code",
   "execution_count": 22,
   "metadata": {},
   "outputs": [
    {
     "data": {
      "text/plain": [
       "RandomForestClassifier(random_state=15)"
      ]
     },
     "execution_count": 22,
     "metadata": {},
     "output_type": "execute_result"
    }
   ],
   "source": [
    "classifier.fit(features_train,labels_categorical_train)"
   ]
  },
  {
   "cell_type": "markdown",
   "metadata": {},
   "source": [
    "Predicting the labels from the test features subset"
   ]
  },
  {
   "cell_type": "code",
   "execution_count": 23,
   "metadata": {},
   "outputs": [],
   "source": [
    "predictions = classifier.predict(features_test)"
   ]
  },
  {
   "cell_type": "markdown",
   "metadata": {},
   "source": [
    "Printing the confusion matrix between the true and predicted values"
   ]
  },
  {
   "cell_type": "code",
   "execution_count": 24,
   "metadata": {},
   "outputs": [
    {
     "name": "stdout",
     "output_type": "stream",
     "text": [
      "[[8 3 0]\n",
      " [0 3 3]\n",
      " [0 2 5]]\n"
     ]
    }
   ],
   "source": [
    "print(sklearn.metrics.confusion_matrix(predictions, labels_categorical_test))"
   ]
  },
  {
   "cell_type": "markdown",
   "metadata": {},
   "source": [
    "Extracting some performance metrics from the prediction"
   ]
  },
  {
   "cell_type": "code",
   "execution_count": 25,
   "metadata": {},
   "outputs": [
    {
     "name": "stdout",
     "output_type": "stream",
     "text": [
      "              precision    recall  f1-score   support\n",
      "\n",
      "           1       1.00      0.73      0.84        11\n",
      "           2       0.38      0.50      0.43         6\n",
      "           3       0.62      0.71      0.67         7\n",
      "\n",
      "    accuracy                           0.67        24\n",
      "   macro avg       0.67      0.65      0.65        24\n",
      "weighted avg       0.73      0.67      0.69        24\n",
      "\n"
     ]
    }
   ],
   "source": [
    "print(sklearn.metrics.classification_report(predictions, labels_categorical_test))"
   ]
  },
  {
   "cell_type": "markdown",
   "metadata": {},
   "source": [
    "Returning the probability of being classified as each class along with their true label"
   ]
  },
  {
   "cell_type": "code",
   "execution_count": 26,
   "metadata": {},
   "outputs": [
    {
     "data": {
      "text/html": [
       "<div>\n",
       "<style scoped>\n",
       "    .dataframe tbody tr th:only-of-type {\n",
       "        vertical-align: middle;\n",
       "    }\n",
       "\n",
       "    .dataframe tbody tr th {\n",
       "        vertical-align: top;\n",
       "    }\n",
       "\n",
       "    .dataframe thead th {\n",
       "        text-align: right;\n",
       "    }\n",
       "</style>\n",
       "<table border=\"1\" class=\"dataframe\">\n",
       "  <thead>\n",
       "    <tr style=\"text-align: right;\">\n",
       "      <th></th>\n",
       "      <th>class_1_probability</th>\n",
       "      <th>class_2_probability</th>\n",
       "      <th>class_3_probability</th>\n",
       "      <th>true_class</th>\n",
       "    </tr>\n",
       "  </thead>\n",
       "  <tbody>\n",
       "    <tr>\n",
       "      <th>0</th>\n",
       "      <td>0.20</td>\n",
       "      <td>0.42</td>\n",
       "      <td>0.38</td>\n",
       "      <td>2</td>\n",
       "    </tr>\n",
       "    <tr>\n",
       "      <th>1</th>\n",
       "      <td>0.88</td>\n",
       "      <td>0.08</td>\n",
       "      <td>0.04</td>\n",
       "      <td>1</td>\n",
       "    </tr>\n",
       "    <tr>\n",
       "      <th>2</th>\n",
       "      <td>0.36</td>\n",
       "      <td>0.33</td>\n",
       "      <td>0.31</td>\n",
       "      <td>1</td>\n",
       "    </tr>\n",
       "    <tr>\n",
       "      <th>3</th>\n",
       "      <td>0.51</td>\n",
       "      <td>0.27</td>\n",
       "      <td>0.22</td>\n",
       "      <td>2</td>\n",
       "    </tr>\n",
       "    <tr>\n",
       "      <th>4</th>\n",
       "      <td>0.37</td>\n",
       "      <td>0.17</td>\n",
       "      <td>0.46</td>\n",
       "      <td>2</td>\n",
       "    </tr>\n",
       "    <tr>\n",
       "      <th>5</th>\n",
       "      <td>0.43</td>\n",
       "      <td>0.25</td>\n",
       "      <td>0.32</td>\n",
       "      <td>1</td>\n",
       "    </tr>\n",
       "    <tr>\n",
       "      <th>6</th>\n",
       "      <td>0.37</td>\n",
       "      <td>0.29</td>\n",
       "      <td>0.34</td>\n",
       "      <td>2</td>\n",
       "    </tr>\n",
       "    <tr>\n",
       "      <th>7</th>\n",
       "      <td>0.13</td>\n",
       "      <td>0.29</td>\n",
       "      <td>0.58</td>\n",
       "      <td>2</td>\n",
       "    </tr>\n",
       "    <tr>\n",
       "      <th>8</th>\n",
       "      <td>0.83</td>\n",
       "      <td>0.08</td>\n",
       "      <td>0.09</td>\n",
       "      <td>1</td>\n",
       "    </tr>\n",
       "    <tr>\n",
       "      <th>9</th>\n",
       "      <td>0.12</td>\n",
       "      <td>0.52</td>\n",
       "      <td>0.36</td>\n",
       "      <td>3</td>\n",
       "    </tr>\n",
       "    <tr>\n",
       "      <th>10</th>\n",
       "      <td>0.18</td>\n",
       "      <td>0.22</td>\n",
       "      <td>0.60</td>\n",
       "      <td>3</td>\n",
       "    </tr>\n",
       "    <tr>\n",
       "      <th>11</th>\n",
       "      <td>0.42</td>\n",
       "      <td>0.26</td>\n",
       "      <td>0.32</td>\n",
       "      <td>2</td>\n",
       "    </tr>\n",
       "    <tr>\n",
       "      <th>12</th>\n",
       "      <td>0.03</td>\n",
       "      <td>0.29</td>\n",
       "      <td>0.68</td>\n",
       "      <td>3</td>\n",
       "    </tr>\n",
       "    <tr>\n",
       "      <th>13</th>\n",
       "      <td>0.26</td>\n",
       "      <td>0.32</td>\n",
       "      <td>0.42</td>\n",
       "      <td>3</td>\n",
       "    </tr>\n",
       "    <tr>\n",
       "      <th>14</th>\n",
       "      <td>0.78</td>\n",
       "      <td>0.16</td>\n",
       "      <td>0.06</td>\n",
       "      <td>1</td>\n",
       "    </tr>\n",
       "    <tr>\n",
       "      <th>15</th>\n",
       "      <td>0.28</td>\n",
       "      <td>0.36</td>\n",
       "      <td>0.36</td>\n",
       "      <td>2</td>\n",
       "    </tr>\n",
       "    <tr>\n",
       "      <th>16</th>\n",
       "      <td>0.09</td>\n",
       "      <td>0.63</td>\n",
       "      <td>0.28</td>\n",
       "      <td>3</td>\n",
       "    </tr>\n",
       "    <tr>\n",
       "      <th>17</th>\n",
       "      <td>0.75</td>\n",
       "      <td>0.16</td>\n",
       "      <td>0.09</td>\n",
       "      <td>1</td>\n",
       "    </tr>\n",
       "    <tr>\n",
       "      <th>18</th>\n",
       "      <td>0.81</td>\n",
       "      <td>0.11</td>\n",
       "      <td>0.08</td>\n",
       "      <td>1</td>\n",
       "    </tr>\n",
       "    <tr>\n",
       "      <th>19</th>\n",
       "      <td>0.19</td>\n",
       "      <td>0.52</td>\n",
       "      <td>0.29</td>\n",
       "      <td>2</td>\n",
       "    </tr>\n",
       "    <tr>\n",
       "      <th>20</th>\n",
       "      <td>0.16</td>\n",
       "      <td>0.19</td>\n",
       "      <td>0.65</td>\n",
       "      <td>3</td>\n",
       "    </tr>\n",
       "    <tr>\n",
       "      <th>21</th>\n",
       "      <td>0.15</td>\n",
       "      <td>0.68</td>\n",
       "      <td>0.17</td>\n",
       "      <td>3</td>\n",
       "    </tr>\n",
       "    <tr>\n",
       "      <th>22</th>\n",
       "      <td>0.12</td>\n",
       "      <td>0.29</td>\n",
       "      <td>0.59</td>\n",
       "      <td>3</td>\n",
       "    </tr>\n",
       "    <tr>\n",
       "      <th>23</th>\n",
       "      <td>0.55</td>\n",
       "      <td>0.21</td>\n",
       "      <td>0.24</td>\n",
       "      <td>1</td>\n",
       "    </tr>\n",
       "  </tbody>\n",
       "</table>\n",
       "</div>"
      ],
      "text/plain": [
       "    class_1_probability  class_2_probability  class_3_probability  true_class\n",
       "0                  0.20                 0.42                 0.38           2\n",
       "1                  0.88                 0.08                 0.04           1\n",
       "2                  0.36                 0.33                 0.31           1\n",
       "3                  0.51                 0.27                 0.22           2\n",
       "4                  0.37                 0.17                 0.46           2\n",
       "5                  0.43                 0.25                 0.32           1\n",
       "6                  0.37                 0.29                 0.34           2\n",
       "7                  0.13                 0.29                 0.58           2\n",
       "8                  0.83                 0.08                 0.09           1\n",
       "9                  0.12                 0.52                 0.36           3\n",
       "10                 0.18                 0.22                 0.60           3\n",
       "11                 0.42                 0.26                 0.32           2\n",
       "12                 0.03                 0.29                 0.68           3\n",
       "13                 0.26                 0.32                 0.42           3\n",
       "14                 0.78                 0.16                 0.06           1\n",
       "15                 0.28                 0.36                 0.36           2\n",
       "16                 0.09                 0.63                 0.28           3\n",
       "17                 0.75                 0.16                 0.09           1\n",
       "18                 0.81                 0.11                 0.08           1\n",
       "19                 0.19                 0.52                 0.29           2\n",
       "20                 0.16                 0.19                 0.65           3\n",
       "21                 0.15                 0.68                 0.17           3\n",
       "22                 0.12                 0.29                 0.59           3\n",
       "23                 0.55                 0.21                 0.24           1"
      ]
     },
     "execution_count": 26,
     "metadata": {},
     "output_type": "execute_result"
    }
   ],
   "source": [
    "predictions_probabilities = classifier.predict_proba(features_test)\n",
    "predictions_probabilities = pd.DataFrame(predictions_probabilities)\n",
    "predictions_probabilities_labels = pd.concat([predictions_probabilities,pd.DataFrame(list(labels_categorical_test))], axis=1)\n",
    "predictions_probabilities_labels.columns = ['class_1_probability','class_2_probability','class_3_probability','true_class']\n",
    "predictions_probabilities_labels"
   ]
  },
  {
   "cell_type": "markdown",
   "metadata": {},
   "source": [
    "Extracting the variable importance list from the random forest classifier"
   ]
  },
  {
   "cell_type": "code",
   "execution_count": 27,
   "metadata": {},
   "outputs": [],
   "source": [
    "vil = pd.DataFrame(list(zip(feature_names,classifier.feature_importances_)),\n",
    "                   columns=['feature','mean_gini_decrease']\n",
    "                  ).sort_values(by='mean_gini_decrease', ascending=False)"
   ]
  },
  {
   "cell_type": "code",
   "execution_count": 28,
   "metadata": {},
   "outputs": [
    {
     "data": {
      "text/html": [
       "<div>\n",
       "<style scoped>\n",
       "    .dataframe tbody tr th:only-of-type {\n",
       "        vertical-align: middle;\n",
       "    }\n",
       "\n",
       "    .dataframe tbody tr th {\n",
       "        vertical-align: top;\n",
       "    }\n",
       "\n",
       "    .dataframe thead th {\n",
       "        text-align: right;\n",
       "    }\n",
       "</style>\n",
       "<table border=\"1\" class=\"dataframe\">\n",
       "  <thead>\n",
       "    <tr style=\"text-align: right;\">\n",
       "      <th></th>\n",
       "      <th>feature</th>\n",
       "      <th>mean_gini_decrease</th>\n",
       "    </tr>\n",
       "  </thead>\n",
       "  <tbody>\n",
       "    <tr>\n",
       "      <th>7</th>\n",
       "      <td>Cheese</td>\n",
       "      <td>0.063591</td>\n",
       "    </tr>\n",
       "    <tr>\n",
       "      <th>1</th>\n",
       "      <td>Baked Goods</td>\n",
       "      <td>0.043548</td>\n",
       "    </tr>\n",
       "    <tr>\n",
       "      <th>42</th>\n",
       "      <td>Sugar and Sweeteners</td>\n",
       "      <td>0.042914</td>\n",
       "    </tr>\n",
       "    <tr>\n",
       "      <th>40</th>\n",
       "      <td>Starchy Roots</td>\n",
       "      <td>0.039150</td>\n",
       "    </tr>\n",
       "    <tr>\n",
       "      <th>17</th>\n",
       "      <td>Fish and Seafood</td>\n",
       "      <td>0.038324</td>\n",
       "    </tr>\n",
       "  </tbody>\n",
       "</table>\n",
       "</div>"
      ],
      "text/plain": [
       "                 feature  mean_gini_decrease\n",
       "7                 Cheese            0.063591\n",
       "1            Baked Goods            0.043548\n",
       "42  Sugar and Sweeteners            0.042914\n",
       "40         Starchy Roots            0.039150\n",
       "17      Fish and Seafood            0.038324"
      ]
     },
     "execution_count": 28,
     "metadata": {},
     "output_type": "execute_result"
    }
   ],
   "source": [
    "vil.head()"
   ]
  },
  {
   "cell_type": "markdown",
   "metadata": {},
   "source": [
    "Plotting the variable importance list sorted by the mean decrease gini"
   ]
  },
  {
   "cell_type": "code",
   "execution_count": 29,
   "metadata": {},
   "outputs": [
    {
     "data": {
      "image/png": "[encoded data removed]",
      "text/plain": [
       "<Figure size 432x288 with 1 Axes>"
      ]
     },
     "metadata": {
      "needs_background": "light"
     },
     "output_type": "display_data"
    }
   ],
   "source": [
    "ax = plt.barh(data = vil.sort_values(by='mean_gini_decrease').tail(15), \n",
    "         y='feature', \n",
    "         width = 'mean_gini_decrease'\n",
    "        )\n",
    "plt.show()"
   ]
  },
  {
   "cell_type": "markdown",
   "metadata": {},
   "source": [
    "Averaging the VIL from 50 random forest runs"
   ]
  },
  {
   "cell_type": "code",
   "execution_count": 30,
   "metadata": {},
   "outputs": [],
   "source": [
    "rf_vil  = []\n",
    "for i in range(50):\n",
    "    rf = sklearn.ensemble.RandomForestClassifier(n_estimators=100)\n",
    "    rf = rf.fit(features_train,labels_categorical_train)\n",
    "    rf_vil.append(rf.feature_importances_)\n",
    "mean_vil = np.mean(rf_vil, axis = 0)"
   ]
  },
  {
   "cell_type": "code",
   "execution_count": 31,
   "metadata": {},
   "outputs": [],
   "source": [
    "mean_vil = pd.DataFrame(list(zip(feature_names,mean_vil)),\n",
    "                   columns=['feature','mean_gini_decrease']\n",
    "                  ).sort_values(by='mean_gini_decrease', ascending=False)"
   ]
  },
  {
   "cell_type": "code",
   "execution_count": 32,
   "metadata": {},
   "outputs": [
    {
     "data": {
      "text/html": [
       "<div>\n",
       "<style scoped>\n",
       "    .dataframe tbody tr th:only-of-type {\n",
       "        vertical-align: middle;\n",
       "    }\n",
       "\n",
       "    .dataframe tbody tr th {\n",
       "        vertical-align: top;\n",
       "    }\n",
       "\n",
       "    .dataframe thead th {\n",
       "        text-align: right;\n",
       "    }\n",
       "</style>\n",
       "<table border=\"1\" class=\"dataframe\">\n",
       "  <thead>\n",
       "    <tr style=\"text-align: right;\">\n",
       "      <th></th>\n",
       "      <th>feature</th>\n",
       "      <th>mean_gini_decrease</th>\n",
       "    </tr>\n",
       "  </thead>\n",
       "  <tbody>\n",
       "    <tr>\n",
       "      <th>7</th>\n",
       "      <td>Cheese</td>\n",
       "      <td>0.052949</td>\n",
       "    </tr>\n",
       "    <tr>\n",
       "      <th>42</th>\n",
       "      <td>Sugar and Sweeteners</td>\n",
       "      <td>0.046484</td>\n",
       "    </tr>\n",
       "    <tr>\n",
       "      <th>1</th>\n",
       "      <td>Baked Goods</td>\n",
       "      <td>0.043457</td>\n",
       "    </tr>\n",
       "    <tr>\n",
       "      <th>17</th>\n",
       "      <td>Fish and Seafood</td>\n",
       "      <td>0.037730</td>\n",
       "    </tr>\n",
       "    <tr>\n",
       "      <th>40</th>\n",
       "      <td>Starchy Roots</td>\n",
       "      <td>0.036252</td>\n",
       "    </tr>\n",
       "  </tbody>\n",
       "</table>\n",
       "</div>"
      ],
      "text/plain": [
       "                 feature  mean_gini_decrease\n",
       "7                 Cheese            0.052949\n",
       "42  Sugar and Sweeteners            0.046484\n",
       "1            Baked Goods            0.043457\n",
       "17      Fish and Seafood            0.037730\n",
       "40         Starchy Roots            0.036252"
      ]
     },
     "execution_count": 32,
     "metadata": {},
     "output_type": "execute_result"
    }
   ],
   "source": [
    "mean_vil.head()"
   ]
  },
  {
   "cell_type": "code",
   "execution_count": 33,
   "metadata": {},
   "outputs": [
    {
     "data": {
      "image/png": "[encoded data removed]",
      "text/plain": [
       "<Figure size 432x288 with 1 Axes>"
      ]
     },
     "metadata": {
      "needs_background": "light"
     },
     "output_type": "display_data"
    }
   ],
   "source": [
    "ax = plt.barh(data = mean_vil.sort_values(by='mean_gini_decrease').tail(15), \n",
    "         y='feature', \n",
    "         width = 'mean_gini_decrease'\n",
    "        )\n",
    "plt.show()"
   ]
  },
  {
   "cell_type": "markdown",
   "metadata": {},
   "source": [
    "### Comparison Between Diferent Machine Learning Models and Hyperparameters"
   ]
  },
  {
   "cell_type": "markdown",
   "metadata": {},
   "source": [
    "Selecting some machine learning training algorithms, training each one and using cross validation to retrieve their performance"
   ]
  },
  {
   "cell_type": "code",
   "execution_count": 34,
   "metadata": {},
   "outputs": [],
   "source": [
    "models = []\n",
    "\n",
    "models.append((\"LogisticRegression\",sklearn.linear_model.LogisticRegression()))\n",
    "models.append((\"SVC\",sklearn.svm.SVC()))\n",
    "models.append((\"RandomForest\",sklearn.ensemble.RandomForestClassifier()))\n",
    "models.append((\"KNeighbors\",sklearn.neighbors.KNeighborsClassifier()))\n",
    "models.append((\"MLPClassifier\",sklearn.neural_network.MLPClassifier()))\n",
    "models.append((\"XGBoost\",xgb.XGBClassifier()))\n",
    "models.append((\"DecisionTree\",sklearn.tree.DecisionTreeClassifier()))\n",
    "\n",
    "\n",
    "results = []\n",
    "names = []\n",
    "for name,model in models:\n",
    "    result = sklearn.model_selection.cross_val_score(model, \n",
    "                             features, \n",
    "                             labels_categorical,  \n",
    "                             cv=10, \n",
    "                             scoring='accuracy',\n",
    "                             n_jobs=-1\n",
    "                            )\n",
    "    names.append(name)\n",
    "    results.append(result)"
   ]
  },
  {
   "cell_type": "markdown",
   "metadata": {},
   "source": [
    "List of compared models along with their hyperparameters"
   ]
  },
  {
   "cell_type": "code",
   "execution_count": 35,
   "metadata": {},
   "outputs": [
    {
     "data": {
      "text/plain": [
       "[('LogisticRegression', LogisticRegression()),\n",
       " ('SVC', SVC()),\n",
       " ('RandomForest', RandomForestClassifier()),\n",
       " ('KNeighbors', KNeighborsClassifier()),\n",
       " ('MLPClassifier', MLPClassifier()),\n",
       " ('XGBoost',\n",
       "  XGBClassifier(base_score=None, booster=None, colsample_bylevel=None,\n",
       "                colsample_bynode=None, colsample_bytree=None, gamma=None,\n",
       "                gpu_id=None, importance_type='gain', interaction_constraints=None,\n",
       "                learning_rate=None, max_delta_step=None, max_depth=None,\n",
       "                min_child_weight=None, missing=nan, monotone_constraints=None,\n",
       "                n_estimators=100, n_jobs=None, num_parallel_tree=None,\n",
       "                random_state=None, reg_alpha=None, reg_lambda=None,\n",
       "                scale_pos_weight=None, subsample=None, tree_method=None,\n",
       "                validate_parameters=None, verbosity=None)),\n",
       " ('DecisionTree', DecisionTreeClassifier())]"
      ]
     },
     "execution_count": 35,
     "metadata": {},
     "output_type": "execute_result"
    }
   ],
   "source": [
    "models"
   ]
  },
  {
   "cell_type": "markdown",
   "metadata": {},
   "source": [
    "Box plot of the results of each model"
   ]
  },
  {
   "cell_type": "code",
   "execution_count": 36,
   "metadata": {},
   "outputs": [
    {
     "data": {
      "image/png": "[encoded data removed]",
      "text/plain": [
       "<Figure size 432x288 with 1 Axes>"
      ]
     },
     "metadata": {
      "needs_background": "light"
     },
     "output_type": "display_data"
    }
   ],
   "source": [
    "plt.boxplot(results,labels = names)\n",
    "plt.xticks(rotation=45)\n",
    "plt.show()"
   ]
  },
  {
   "cell_type": "code",
   "execution_count": 37,
   "metadata": {},
   "outputs": [],
   "source": [
    "##########\n",
    "\n",
    "#compare the models based on their f1-score, what is the problem?\n",
    "\n",
    "##########"
   ]
  },
  {
   "cell_type": "markdown",
   "metadata": {},
   "source": [
    "Grid search for selection of the best hyperparameters"
   ]
  },
  {
   "cell_type": "code",
   "execution_count": 38,
   "metadata": {},
   "outputs": [],
   "source": [
    "# HIGH PROCESSOR INTENSIVE TASK (~5 minutes calculations of a 12 cores machine)\n",
    "\n",
    "# parameters = {'n_estimators': list(range(260,360,20)),\n",
    "#               'max_features': ['auto', 'sqrt'],\n",
    "#               'max_depth': list(range(20,100,20))+[None],\n",
    "#               'min_samples_split': [2, 5, 10],\n",
    "#               'min_samples_leaf': [1, 2, 4],\n",
    "#               'bootstrap': [True, False]\n",
    "# }\n",
    "# grid_Search = sklearn.model_selection.GridSearchCV(sklearn.ensemble.RandomForestClassifier(), \n",
    "#                                                    parameters, \n",
    "#                                                    n_jobs=-1,\n",
    "#                                                    cv = 3\n",
    "#                                                   )\n",
    "\n",
    "# grid_Search.fit(features_train,labels_categorical_train)"
   ]
  },
  {
   "cell_type": "code",
   "execution_count": 39,
   "metadata": {},
   "outputs": [
    {
     "data": {
      "text/plain": [
       "GridSearchCV(cv=3, estimator=RandomForestClassifier(), n_jobs=-1,\n",
       "             param_grid={'n_estimators': [100, 150, 200]})"
      ]
     },
     "execution_count": 39,
     "metadata": {},
     "output_type": "execute_result"
    }
   ],
   "source": [
    "#low intensive grid search\n",
    "parameters = {'n_estimators': [100,150,200]\n",
    "}\n",
    "grid_Search = sklearn.model_selection.GridSearchCV(sklearn.ensemble.RandomForestClassifier(), \n",
    "                                                   parameters, \n",
    "                                                   n_jobs=-1,\n",
    "                                                   cv = 3\n",
    "                                                  )\n",
    "\n",
    "grid_Search.fit(features_train,labels_categorical_train)"
   ]
  },
  {
   "cell_type": "code",
   "execution_count": 40,
   "metadata": {},
   "outputs": [
    {
     "data": {
      "text/plain": [
       "{'n_estimators': 100}"
      ]
     },
     "execution_count": 40,
     "metadata": {},
     "output_type": "execute_result"
    }
   ],
   "source": [
    "grid_Search.best_params_"
   ]
  },
  {
   "cell_type": "code",
   "execution_count": 41,
   "metadata": {},
   "outputs": [
    {
     "data": {
      "text/html": [
       "<div>\n",
       "<style scoped>\n",
       "    .dataframe tbody tr th:only-of-type {\n",
       "        vertical-align: middle;\n",
       "    }\n",
       "\n",
       "    .dataframe tbody tr th {\n",
       "        vertical-align: top;\n",
       "    }\n",
       "\n",
       "    .dataframe thead th {\n",
       "        text-align: right;\n",
       "    }\n",
       "</style>\n",
       "<table border=\"1\" class=\"dataframe\">\n",
       "  <thead>\n",
       "    <tr style=\"text-align: right;\">\n",
       "      <th></th>\n",
       "      <th>mean_fit_time</th>\n",
       "      <th>std_fit_time</th>\n",
       "      <th>mean_score_time</th>\n",
       "      <th>std_score_time</th>\n",
       "      <th>param_n_estimators</th>\n",
       "      <th>params</th>\n",
       "      <th>split0_test_score</th>\n",
       "      <th>split1_test_score</th>\n",
       "      <th>split2_test_score</th>\n",
       "      <th>mean_test_score</th>\n",
       "      <th>std_test_score</th>\n",
       "      <th>rank_test_score</th>\n",
       "    </tr>\n",
       "  </thead>\n",
       "  <tbody>\n",
       "    <tr>\n",
       "      <th>0</th>\n",
       "      <td>0.150749</td>\n",
       "      <td>0.003705</td>\n",
       "      <td>0.010306</td>\n",
       "      <td>0.001244</td>\n",
       "      <td>100</td>\n",
       "      <td>{'n_estimators': 100}</td>\n",
       "      <td>0.578947</td>\n",
       "      <td>0.722222</td>\n",
       "      <td>0.611111</td>\n",
       "      <td>0.637427</td>\n",
       "      <td>0.061380</td>\n",
       "      <td>1</td>\n",
       "    </tr>\n",
       "    <tr>\n",
       "      <th>1</th>\n",
       "      <td>0.222168</td>\n",
       "      <td>0.004655</td>\n",
       "      <td>0.012233</td>\n",
       "      <td>0.000449</td>\n",
       "      <td>150</td>\n",
       "      <td>{'n_estimators': 150}</td>\n",
       "      <td>0.578947</td>\n",
       "      <td>0.777778</td>\n",
       "      <td>0.555556</td>\n",
       "      <td>0.637427</td>\n",
       "      <td>0.099701</td>\n",
       "      <td>1</td>\n",
       "    </tr>\n",
       "    <tr>\n",
       "      <th>2</th>\n",
       "      <td>0.271580</td>\n",
       "      <td>0.011731</td>\n",
       "      <td>0.012622</td>\n",
       "      <td>0.001242</td>\n",
       "      <td>200</td>\n",
       "      <td>{'n_estimators': 200}</td>\n",
       "      <td>0.578947</td>\n",
       "      <td>0.666667</td>\n",
       "      <td>0.555556</td>\n",
       "      <td>0.600390</td>\n",
       "      <td>0.047828</td>\n",
       "      <td>3</td>\n",
       "    </tr>\n",
       "  </tbody>\n",
       "</table>\n",
       "</div>"
      ],
      "text/plain": [
       "   mean_fit_time  std_fit_time  mean_score_time  std_score_time  \\\n",
       "0       0.150749      0.003705         0.010306        0.001244   \n",
       "1       0.222168      0.004655         0.012233        0.000449   \n",
       "2       0.271580      0.011731         0.012622        0.001242   \n",
       "\n",
       "  param_n_estimators                 params  split0_test_score  \\\n",
       "0                100  {'n_estimators': 100}           0.578947   \n",
       "1                150  {'n_estimators': 150}           0.578947   \n",
       "2                200  {'n_estimators': 200}           0.578947   \n",
       "\n",
       "   split1_test_score  split2_test_score  mean_test_score  std_test_score  \\\n",
       "0           0.722222           0.611111         0.637427        0.061380   \n",
       "1           0.777778           0.555556         0.637427        0.099701   \n",
       "2           0.666667           0.555556         0.600390        0.047828   \n",
       "\n",
       "   rank_test_score  \n",
       "0                1  \n",
       "1                1  \n",
       "2                3  "
      ]
     },
     "execution_count": 41,
     "metadata": {},
     "output_type": "execute_result"
    }
   ],
   "source": [
    "pd.DataFrame(grid_Search.cv_results_).head(10)"
   ]
  },
  {
   "cell_type": "markdown",
   "metadata": {},
   "source": [
    "One can apply predict to gridSearch and automatically calculates the given model with the best hyper-parameters. "
   ]
  },
  {
   "cell_type": "code",
   "execution_count": 42,
   "metadata": {},
   "outputs": [],
   "source": [
    "predictions = grid_Search.predict(features_test)"
   ]
  },
  {
   "cell_type": "code",
   "execution_count": 43,
   "metadata": {},
   "outputs": [
    {
     "name": "stdout",
     "output_type": "stream",
     "text": [
      "[[8 2 0]\n",
      " [0 4 3]\n",
      " [0 2 5]]\n"
     ]
    }
   ],
   "source": [
    "print(sklearn.metrics.confusion_matrix(predictions, labels_categorical_test))"
   ]
  },
  {
   "cell_type": "code",
   "execution_count": 44,
   "metadata": {},
   "outputs": [
    {
     "name": "stdout",
     "output_type": "stream",
     "text": [
      "              precision    recall  f1-score   support\n",
      "\n",
      "           1       1.00      0.80      0.89        10\n",
      "           2       0.50      0.57      0.53         7\n",
      "           3       0.62      0.71      0.67         7\n",
      "\n",
      "    accuracy                           0.71        24\n",
      "   macro avg       0.71      0.70      0.70        24\n",
      "weighted avg       0.74      0.71      0.72        24\n",
      "\n"
     ]
    }
   ],
   "source": [
    "print(sklearn.metrics.classification_report(predictions, labels_categorical_test))"
   ]
  },
  {
   "cell_type": "code",
   "execution_count": 45,
   "metadata": {},
   "outputs": [],
   "source": [
    "##########\n",
    "\n",
    "#make your own grid search for other training algorithm\n",
    "\n",
    "##########"
   ]
  }
 ],
 "metadata": {
  "kernelspec": {
   "display_name": "Python 3",
   "language": "python",
   "name": "python3"
  },
  "language_info": {
   "codemirror_mode": {
    "name": "ipython",
    "version": 3
   },
   "file_extension": ".py",
   "mimetype": "text/x-python",
   "name": "python",
   "nbconvert_exporter": "python",
   "pygments_lexer": "ipython3",
   "version": "3.7.6"
  }
 },
 "nbformat": 4,
 "nbformat_minor": 2
}
