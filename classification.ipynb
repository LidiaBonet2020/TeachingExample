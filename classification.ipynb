{
 "cells": [
  {
   "cell_type": "markdown",
   "metadata": {},
   "source": [
    "# Machine learning classification tasks"
   ]
  },
  {
   "cell_type": "markdown",
   "metadata": {},
   "source": [
    "Importing modules"
   ]
  },
  {
   "cell_type": "code",
   "execution_count": 89,
   "metadata": {},
   "outputs": [],
   "source": [
    "import numpy as np #linear algebra\n",
    "import pandas as pd #dataframes\n",
    "import sklearn.preprocessing #raw data preprocessing\n",
    "import sklearn.model_selection #grid search + cross validation\n",
    "import sklearn.ensemble #random forest\n",
    "import sklearn.tree #decision trees\n",
    "import sklearn.linear_model #logistic regression + perceptron\n",
    "import sklearn.svm #support vector machines\n",
    "import sklearn.neighbors #k-nearest neighbors\n",
    "import sklearn.neural_network #multilayer perceptron\n",
    "import matplotlib.pyplot as plt #visualization\n",
    "import xgboost as xgb #extreme gradient boosting"
   ]
  },
  {
   "cell_type": "markdown",
   "metadata": {},
   "source": [
    "Reading the data from a csv file and saving it into a dataframe"
   ]
  },
  {
   "cell_type": "code",
   "execution_count": 2,
   "metadata": {},
   "outputs": [],
   "source": [
    "data = pd.read_csv('exampleObesityClassReg.csv')"
   ]
  },
  {
   "cell_type": "markdown",
   "metadata": {},
   "source": [
    "Data exploration"
   ]
  },
  {
   "cell_type": "code",
   "execution_count": 3,
   "metadata": {},
   "outputs": [
    {
     "data": {
      "text/html": [
       "<div>\n",
       "<style scoped>\n",
       "    .dataframe tbody tr th:only-of-type {\n",
       "        vertical-align: middle;\n",
       "    }\n",
       "\n",
       "    .dataframe tbody tr th {\n",
       "        vertical-align: top;\n",
       "    }\n",
       "\n",
       "    .dataframe thead th {\n",
       "        text-align: right;\n",
       "    }\n",
       "</style>\n",
       "<table border=\"1\" class=\"dataframe\">\n",
       "  <thead>\n",
       "    <tr style=\"text-align: right;\">\n",
       "      <th></th>\n",
       "      <th>country_name</th>\n",
       "      <th>continent</th>\n",
       "      <th>prevalence</th>\n",
       "      <th>tertile</th>\n",
       "      <th>RTDs/High-Strength Premixes</th>\n",
       "      <th>Processed Fruit and Vegetables</th>\n",
       "      <th>Processed Meat and Seafood</th>\n",
       "      <th>Ready Meals</th>\n",
       "      <th>Rice, Pasta and Noodles</th>\n",
       "      <th>Sauces, Dressings and Condiments</th>\n",
       "      <th>...</th>\n",
       "      <th>Baby Food</th>\n",
       "      <th>Drinking Milk Products</th>\n",
       "      <th>Yoghurt and Sour Milk Products</th>\n",
       "      <th>Other Dairy</th>\n",
       "      <th>Ice Cream and Frozen Desserts</th>\n",
       "      <th>Cocoa Powder</th>\n",
       "      <th>Emulsifiers and Co-Emulsifiers</th>\n",
       "      <th>Fats and Oils</th>\n",
       "      <th>Flours</th>\n",
       "      <th>Milk</th>\n",
       "    </tr>\n",
       "  </thead>\n",
       "  <tbody>\n",
       "    <tr>\n",
       "      <th>65</th>\n",
       "      <td>Israel</td>\n",
       "      <td>Asia</td>\n",
       "      <td>0.254970</td>\n",
       "      <td>3</td>\n",
       "      <td>89.666667</td>\n",
       "      <td>10523.066670</td>\n",
       "      <td>8205.066667</td>\n",
       "      <td>1653.866667</td>\n",
       "      <td>12452.000000</td>\n",
       "      <td>14407.766670</td>\n",
       "      <td>...</td>\n",
       "      <td>972.133333</td>\n",
       "      <td>55765.76667</td>\n",
       "      <td>16551.666670</td>\n",
       "      <td>10085.100000</td>\n",
       "      <td>3724.933333</td>\n",
       "      <td>333.800000</td>\n",
       "      <td>351.466667</td>\n",
       "      <td>37119.366670</td>\n",
       "      <td>26631.73333</td>\n",
       "      <td>86646.10000</td>\n",
       "    </tr>\n",
       "    <tr>\n",
       "      <th>24</th>\n",
       "      <td>Netherlands</td>\n",
       "      <td>Europe</td>\n",
       "      <td>0.171413</td>\n",
       "      <td>1</td>\n",
       "      <td>906.333333</td>\n",
       "      <td>24005.733330</td>\n",
       "      <td>15575.700000</td>\n",
       "      <td>7125.166667</td>\n",
       "      <td>7408.566667</td>\n",
       "      <td>14069.700000</td>\n",
       "      <td>...</td>\n",
       "      <td>1580.533333</td>\n",
       "      <td>57248.03333</td>\n",
       "      <td>33144.333330</td>\n",
       "      <td>28622.433330</td>\n",
       "      <td>5828.233333</td>\n",
       "      <td>575.833333</td>\n",
       "      <td>937.133333</td>\n",
       "      <td>25961.800000</td>\n",
       "      <td>54165.83333</td>\n",
       "      <td>112733.20000</td>\n",
       "    </tr>\n",
       "    <tr>\n",
       "      <th>30</th>\n",
       "      <td>Bolivia</td>\n",
       "      <td>America</td>\n",
       "      <td>0.185507</td>\n",
       "      <td>2</td>\n",
       "      <td>319.766667</td>\n",
       "      <td>632.666667</td>\n",
       "      <td>1068.633333</td>\n",
       "      <td>61.900000</td>\n",
       "      <td>34137.833330</td>\n",
       "      <td>1854.233333</td>\n",
       "      <td>...</td>\n",
       "      <td>250.033333</td>\n",
       "      <td>12939.16667</td>\n",
       "      <td>2183.066667</td>\n",
       "      <td>2325.233333</td>\n",
       "      <td>822.166667</td>\n",
       "      <td>107.200000</td>\n",
       "      <td>144.900000</td>\n",
       "      <td>9391.333333</td>\n",
       "      <td>20680.86667</td>\n",
       "      <td>15803.93333</td>\n",
       "    </tr>\n",
       "    <tr>\n",
       "      <th>31</th>\n",
       "      <td>Belgium</td>\n",
       "      <td>Europe</td>\n",
       "      <td>0.186661</td>\n",
       "      <td>2</td>\n",
       "      <td>392.333333</td>\n",
       "      <td>30208.200000</td>\n",
       "      <td>19078.066670</td>\n",
       "      <td>9102.933333</td>\n",
       "      <td>9166.500000</td>\n",
       "      <td>10279.066670</td>\n",
       "      <td>...</td>\n",
       "      <td>2439.633333</td>\n",
       "      <td>68413.30000</td>\n",
       "      <td>15318.966670</td>\n",
       "      <td>13231.933330</td>\n",
       "      <td>5340.300000</td>\n",
       "      <td>654.500000</td>\n",
       "      <td>690.033333</td>\n",
       "      <td>28023.700000</td>\n",
       "      <td>51698.56667</td>\n",
       "      <td>106396.26670</td>\n",
       "    </tr>\n",
       "    <tr>\n",
       "      <th>33</th>\n",
       "      <td>Finland</td>\n",
       "      <td>Europe</td>\n",
       "      <td>0.195756</td>\n",
       "      <td>2</td>\n",
       "      <td>7385.633333</td>\n",
       "      <td>17362.366670</td>\n",
       "      <td>16173.166670</td>\n",
       "      <td>14705.133330</td>\n",
       "      <td>8026.600000</td>\n",
       "      <td>10011.333330</td>\n",
       "      <td>...</td>\n",
       "      <td>3898.500000</td>\n",
       "      <td>129027.53330</td>\n",
       "      <td>40846.666670</td>\n",
       "      <td>13417.700000</td>\n",
       "      <td>10903.100000</td>\n",
       "      <td>428.833333</td>\n",
       "      <td>714.933333</td>\n",
       "      <td>21864.000000</td>\n",
       "      <td>43986.50000</td>\n",
       "      <td>189444.00000</td>\n",
       "    </tr>\n",
       "    <tr>\n",
       "      <th>26</th>\n",
       "      <td>Algeria</td>\n",
       "      <td>Africa</td>\n",
       "      <td>0.172975</td>\n",
       "      <td>2</td>\n",
       "      <td>0.000000</td>\n",
       "      <td>376.533333</td>\n",
       "      <td>783.100000</td>\n",
       "      <td>2.866667</td>\n",
       "      <td>7185.566667</td>\n",
       "      <td>1388.600000</td>\n",
       "      <td>...</td>\n",
       "      <td>358.700000</td>\n",
       "      <td>46927.70000</td>\n",
       "      <td>7724.166667</td>\n",
       "      <td>1302.866667</td>\n",
       "      <td>1267.966667</td>\n",
       "      <td>40.566667</td>\n",
       "      <td>40.766667</td>\n",
       "      <td>11299.700000</td>\n",
       "      <td>87170.73333</td>\n",
       "      <td>55217.10000</td>\n",
       "    </tr>\n",
       "    <tr>\n",
       "      <th>55</th>\n",
       "      <td>Spain</td>\n",
       "      <td>Europe</td>\n",
       "      <td>0.238788</td>\n",
       "      <td>3</td>\n",
       "      <td>1059.766667</td>\n",
       "      <td>22400.933330</td>\n",
       "      <td>19507.166670</td>\n",
       "      <td>7940.333333</td>\n",
       "      <td>10296.900000</td>\n",
       "      <td>10982.000000</td>\n",
       "      <td>...</td>\n",
       "      <td>2468.533333</td>\n",
       "      <td>100433.76670</td>\n",
       "      <td>17605.966670</td>\n",
       "      <td>7247.466667</td>\n",
       "      <td>6880.866667</td>\n",
       "      <td>575.666667</td>\n",
       "      <td>508.600000</td>\n",
       "      <td>29654.266670</td>\n",
       "      <td>44410.63333</td>\n",
       "      <td>125719.66670</td>\n",
       "    </tr>\n",
       "    <tr>\n",
       "      <th>7</th>\n",
       "      <td>Singapore</td>\n",
       "      <td>Asia</td>\n",
       "      <td>0.063294</td>\n",
       "      <td>1</td>\n",
       "      <td>72.133333</td>\n",
       "      <td>6534.000000</td>\n",
       "      <td>5255.333333</td>\n",
       "      <td>889.400000</td>\n",
       "      <td>42256.300000</td>\n",
       "      <td>5492.866667</td>\n",
       "      <td>...</td>\n",
       "      <td>1150.800000</td>\n",
       "      <td>21579.50000</td>\n",
       "      <td>2841.200000</td>\n",
       "      <td>4714.166667</td>\n",
       "      <td>4760.966667</td>\n",
       "      <td>280.533333</td>\n",
       "      <td>134.433333</td>\n",
       "      <td>14444.633330</td>\n",
       "      <td>17122.06667</td>\n",
       "      <td>26384.00000</td>\n",
       "    </tr>\n",
       "    <tr>\n",
       "      <th>54</th>\n",
       "      <td>Lithuania</td>\n",
       "      <td>Europe</td>\n",
       "      <td>0.238105</td>\n",
       "      <td>3</td>\n",
       "      <td>3028.733333</td>\n",
       "      <td>5672.133333</td>\n",
       "      <td>16555.633330</td>\n",
       "      <td>5563.266667</td>\n",
       "      <td>7525.733333</td>\n",
       "      <td>15141.200000</td>\n",
       "      <td>...</td>\n",
       "      <td>432.400000</td>\n",
       "      <td>33318.33333</td>\n",
       "      <td>17423.033330</td>\n",
       "      <td>10396.733330</td>\n",
       "      <td>5230.166667</td>\n",
       "      <td>185.333333</td>\n",
       "      <td>563.300000</td>\n",
       "      <td>24033.700000</td>\n",
       "      <td>30114.23333</td>\n",
       "      <td>61049.93333</td>\n",
       "    </tr>\n",
       "    <tr>\n",
       "      <th>71</th>\n",
       "      <td>Argentina</td>\n",
       "      <td>America</td>\n",
       "      <td>0.291443</td>\n",
       "      <td>3</td>\n",
       "      <td>244.133333</td>\n",
       "      <td>6191.133333</td>\n",
       "      <td>7668.366667</td>\n",
       "      <td>107.366667</td>\n",
       "      <td>14493.133330</td>\n",
       "      <td>7684.366667</td>\n",
       "      <td>...</td>\n",
       "      <td>770.033333</td>\n",
       "      <td>37293.83333</td>\n",
       "      <td>9990.833333</td>\n",
       "      <td>4294.766667</td>\n",
       "      <td>1868.066667</td>\n",
       "      <td>325.600000</td>\n",
       "      <td>402.200000</td>\n",
       "      <td>16529.066670</td>\n",
       "      <td>53816.06667</td>\n",
       "      <td>60104.70000</td>\n",
       "    </tr>\n",
       "  </tbody>\n",
       "</table>\n",
       "<p>10 rows × 52 columns</p>\n",
       "</div>"
      ],
      "text/plain": [
       "   country_name continent  prevalence  tertile  RTDs/High-Strength Premixes  \\\n",
       "65       Israel      Asia    0.254970        3                    89.666667   \n",
       "24  Netherlands    Europe    0.171413        1                   906.333333   \n",
       "30      Bolivia   America    0.185507        2                   319.766667   \n",
       "31      Belgium    Europe    0.186661        2                   392.333333   \n",
       "33      Finland    Europe    0.195756        2                  7385.633333   \n",
       "26      Algeria    Africa    0.172975        2                     0.000000   \n",
       "55        Spain    Europe    0.238788        3                  1059.766667   \n",
       "7     Singapore      Asia    0.063294        1                    72.133333   \n",
       "54    Lithuania    Europe    0.238105        3                  3028.733333   \n",
       "71    Argentina   America    0.291443        3                   244.133333   \n",
       "\n",
       "    Processed Fruit and Vegetables  Processed Meat and Seafood   Ready Meals  \\\n",
       "65                    10523.066670                 8205.066667   1653.866667   \n",
       "24                    24005.733330                15575.700000   7125.166667   \n",
       "30                      632.666667                 1068.633333     61.900000   \n",
       "31                    30208.200000                19078.066670   9102.933333   \n",
       "33                    17362.366670                16173.166670  14705.133330   \n",
       "26                      376.533333                  783.100000      2.866667   \n",
       "55                    22400.933330                19507.166670   7940.333333   \n",
       "7                      6534.000000                 5255.333333    889.400000   \n",
       "54                     5672.133333                16555.633330   5563.266667   \n",
       "71                     6191.133333                 7668.366667    107.366667   \n",
       "\n",
       "    Rice, Pasta and Noodles  Sauces, Dressings and Condiments      ...       \\\n",
       "65             12452.000000                      14407.766670      ...        \n",
       "24              7408.566667                      14069.700000      ...        \n",
       "30             34137.833330                       1854.233333      ...        \n",
       "31              9166.500000                      10279.066670      ...        \n",
       "33              8026.600000                      10011.333330      ...        \n",
       "26              7185.566667                       1388.600000      ...        \n",
       "55             10296.900000                      10982.000000      ...        \n",
       "7              42256.300000                       5492.866667      ...        \n",
       "54              7525.733333                      15141.200000      ...        \n",
       "71             14493.133330                       7684.366667      ...        \n",
       "\n",
       "      Baby Food  Drinking Milk Products  Yoghurt and Sour Milk Products  \\\n",
       "65   972.133333             55765.76667                    16551.666670   \n",
       "24  1580.533333             57248.03333                    33144.333330   \n",
       "30   250.033333             12939.16667                     2183.066667   \n",
       "31  2439.633333             68413.30000                    15318.966670   \n",
       "33  3898.500000            129027.53330                    40846.666670   \n",
       "26   358.700000             46927.70000                     7724.166667   \n",
       "55  2468.533333            100433.76670                    17605.966670   \n",
       "7   1150.800000             21579.50000                     2841.200000   \n",
       "54   432.400000             33318.33333                    17423.033330   \n",
       "71   770.033333             37293.83333                     9990.833333   \n",
       "\n",
       "     Other Dairy  Ice Cream and Frozen Desserts  Cocoa Powder  \\\n",
       "65  10085.100000                    3724.933333    333.800000   \n",
       "24  28622.433330                    5828.233333    575.833333   \n",
       "30   2325.233333                     822.166667    107.200000   \n",
       "31  13231.933330                    5340.300000    654.500000   \n",
       "33  13417.700000                   10903.100000    428.833333   \n",
       "26   1302.866667                    1267.966667     40.566667   \n",
       "55   7247.466667                    6880.866667    575.666667   \n",
       "7    4714.166667                    4760.966667    280.533333   \n",
       "54  10396.733330                    5230.166667    185.333333   \n",
       "71   4294.766667                    1868.066667    325.600000   \n",
       "\n",
       "    Emulsifiers and Co-Emulsifiers  Fats and Oils       Flours          Milk  \n",
       "65                      351.466667   37119.366670  26631.73333   86646.10000  \n",
       "24                      937.133333   25961.800000  54165.83333  112733.20000  \n",
       "30                      144.900000    9391.333333  20680.86667   15803.93333  \n",
       "31                      690.033333   28023.700000  51698.56667  106396.26670  \n",
       "33                      714.933333   21864.000000  43986.50000  189444.00000  \n",
       "26                       40.766667   11299.700000  87170.73333   55217.10000  \n",
       "55                      508.600000   29654.266670  44410.63333  125719.66670  \n",
       "7                       134.433333   14444.633330  17122.06667   26384.00000  \n",
       "54                      563.300000   24033.700000  30114.23333   61049.93333  \n",
       "71                      402.200000   16529.066670  53816.06667   60104.70000  \n",
       "\n",
       "[10 rows x 52 columns]"
      ]
     },
     "execution_count": 3,
     "metadata": {},
     "output_type": "execute_result"
    }
   ],
   "source": [
    "data.sample(10)"
   ]
  },
  {
   "cell_type": "code",
   "execution_count": 4,
   "metadata": {},
   "outputs": [
    {
     "data": {
      "text/plain": [
       "3    28\n",
       "1    26\n",
       "2    25\n",
       "Name: tertile, dtype: int64"
      ]
     },
     "execution_count": 4,
     "metadata": {},
     "output_type": "execute_result"
    }
   ],
   "source": [
    "data.tertile.value_counts()"
   ]
  },
  {
   "cell_type": "code",
   "execution_count": 5,
   "metadata": {},
   "outputs": [
    {
     "data": {
      "text/plain": [
       "(79, 52)"
      ]
     },
     "execution_count": 5,
     "metadata": {},
     "output_type": "execute_result"
    }
   ],
   "source": [
    "data.shape"
   ]
  },
  {
   "cell_type": "code",
   "execution_count": 6,
   "metadata": {},
   "outputs": [],
   "source": [
    "features = data[data.columns.difference(['prevalence','tertile','country_name'])]"
   ]
  },
  {
   "cell_type": "code",
   "execution_count": 7,
   "metadata": {},
   "outputs": [],
   "source": [
    "feature_names = features.columns"
   ]
  },
  {
   "cell_type": "code",
   "execution_count": 8,
   "metadata": {},
   "outputs": [],
   "source": [
    "features = pd.get_dummies(features)"
   ]
  },
  {
   "cell_type": "code",
   "execution_count": 9,
   "metadata": {},
   "outputs": [],
   "source": [
    "labels_categorical = data.tertile"
   ]
  },
  {
   "cell_type": "code",
   "execution_count": 10,
   "metadata": {},
   "outputs": [],
   "source": [
    "minMaxScaler = sklearn.preprocessing.MinMaxScaler()\n",
    "features = minMaxScaler.fit_transform(features)"
   ]
  },
  {
   "cell_type": "code",
   "execution_count": 11,
   "metadata": {},
   "outputs": [
    {
     "data": {
      "text/plain": [
       "(79, 53)"
      ]
     },
     "execution_count": 11,
     "metadata": {},
     "output_type": "execute_result"
    }
   ],
   "source": [
    "features.shape"
   ]
  },
  {
   "cell_type": "code",
   "execution_count": 12,
   "metadata": {},
   "outputs": [],
   "source": [
    "features_train, features_test, labels_categorical_train, labels_categorical_test = sklearn.model_selection.train_test_split(\n",
    "    features,\n",
    "    labels_categorical,\n",
    "    test_size=0.30,\n",
    "    random_state = 55,\n",
    "    stratify = labels_categorical,)"
   ]
  },
  {
   "cell_type": "code",
   "execution_count": 13,
   "metadata": {},
   "outputs": [
    {
     "data": {
      "text/plain": [
       "3    20\n",
       "1    18\n",
       "2    17\n",
       "Name: tertile, dtype: int64"
      ]
     },
     "execution_count": 13,
     "metadata": {},
     "output_type": "execute_result"
    }
   ],
   "source": [
    "labels_categorical_train.value_counts()"
   ]
  },
  {
   "cell_type": "code",
   "execution_count": 14,
   "metadata": {},
   "outputs": [
    {
     "data": {
      "text/plain": [
       "DecisionTreeClassifier(class_weight=None, criterion='gini', max_depth=2,\n",
       "                       max_features=None, max_leaf_nodes=None,\n",
       "                       min_impurity_decrease=0.0, min_impurity_split=None,\n",
       "                       min_samples_leaf=1, min_samples_split=2,\n",
       "                       min_weight_fraction_leaf=0.0, presort=False,\n",
       "                       random_state=None, splitter='best')"
      ]
     },
     "execution_count": 14,
     "metadata": {},
     "output_type": "execute_result"
    }
   ],
   "source": [
    "decisionTree = sklearn.tree.DecisionTreeClassifier(max_features=None, max_depth=2)\n",
    "decisionTree.fit(features_train,labels_categorical_train)"
   ]
  },
  {
   "cell_type": "code",
   "execution_count": 87,
   "metadata": {},
   "outputs": [
    {
     "data": {
      "image/png": "[encoded data removed]",
      "text/plain": [
       "<Figure size 432x288 with 1 Axes>"
      ]
     },
     "metadata": {
      "needs_background": "light"
     },
     "output_type": "display_data"
    }
   ],
   "source": [
    "ax = sklearn.tree.plot_tree(decisionTree,\n",
    "                       feature_names = feature_names\n",
    "                      )"
   ]
  },
  {
   "cell_type": "code",
   "execution_count": 16,
   "metadata": {},
   "outputs": [
    {
     "data": {
      "text/plain": [
       "DecisionTreeClassifier(class_weight=None, criterion='gini', max_depth=None,\n",
       "                       max_features=None, max_leaf_nodes=None,\n",
       "                       min_impurity_decrease=0.0, min_impurity_split=None,\n",
       "                       min_samples_leaf=1, min_samples_split=2,\n",
       "                       min_weight_fraction_leaf=0.0, presort=False,\n",
       "                       random_state=None, splitter='best')"
      ]
     },
     "execution_count": 16,
     "metadata": {},
     "output_type": "execute_result"
    }
   ],
   "source": [
    "decisionTree_full = sklearn.tree.DecisionTreeClassifier(max_features=None)\n",
    "decisionTree_full.fit(features_train,labels_categorical_train)"
   ]
  },
  {
   "cell_type": "code",
   "execution_count": 83,
   "metadata": {},
   "outputs": [
    {
     "data": {
      "image/png": "[encoded data removed]",
      "text/plain": [
       "<Figure size 432x288 with 1 Axes>"
      ]
     },
     "metadata": {
      "needs_background": "light"
     },
     "output_type": "display_data"
    }
   ],
   "source": [
    "ax = sklearn.tree.plot_tree(decisionTree_full,\n",
    "                       feature_names = feature_names\n",
    "                      )\n",
    "plt.savefig('tree.pdf')"
   ]
  },
  {
   "cell_type": "code",
   "execution_count": 57,
   "metadata": {},
   "outputs": [],
   "source": [
    "classifier = sklearn.ensemble.RandomForestClassifier(n_estimators=100, random_state=15)"
   ]
  },
  {
   "cell_type": "code",
   "execution_count": 58,
   "metadata": {},
   "outputs": [
    {
     "data": {
      "text/plain": [
       "RandomForestClassifier(bootstrap=True, class_weight=None, criterion='gini',\n",
       "                       max_depth=None, max_features='auto', max_leaf_nodes=None,\n",
       "                       min_impurity_decrease=0.0, min_impurity_split=None,\n",
       "                       min_samples_leaf=1, min_samples_split=2,\n",
       "                       min_weight_fraction_leaf=0.0, n_estimators=100,\n",
       "                       n_jobs=None, oob_score=False, random_state=15, verbose=0,\n",
       "                       warm_start=False)"
      ]
     },
     "execution_count": 58,
     "metadata": {},
     "output_type": "execute_result"
    }
   ],
   "source": [
    "classifier.fit(features_train,labels_categorical_train)"
   ]
  },
  {
   "cell_type": "code",
   "execution_count": 59,
   "metadata": {},
   "outputs": [],
   "source": [
    "predictions = classifier.predict(features_test)"
   ]
  },
  {
   "cell_type": "code",
   "execution_count": 60,
   "metadata": {},
   "outputs": [
    {
     "name": "stdout",
     "output_type": "stream",
     "text": [
      "[[8 2 0]\n",
      " [0 2 3]\n",
      " [0 4 5]]\n"
     ]
    }
   ],
   "source": [
    "print(sklearn.metrics.confusion_matrix(predictions, labels_categorical_test))"
   ]
  },
  {
   "cell_type": "code",
   "execution_count": 61,
   "metadata": {},
   "outputs": [
    {
     "name": "stdout",
     "output_type": "stream",
     "text": [
      "              precision    recall  f1-score   support\n",
      "\n",
      "           1       1.00      0.80      0.89        10\n",
      "           2       0.25      0.40      0.31         5\n",
      "           3       0.62      0.56      0.59         9\n",
      "\n",
      "    accuracy                           0.62        24\n",
      "   macro avg       0.62      0.59      0.59        24\n",
      "weighted avg       0.70      0.62      0.66        24\n",
      "\n"
     ]
    }
   ],
   "source": [
    "print(sklearn.metrics.classification_report(predictions, labels_categorical_test))"
   ]
  },
  {
   "cell_type": "code",
   "execution_count": 62,
   "metadata": {},
   "outputs": [
    {
     "data": {
      "text/plain": [
       "array([0.03535245, 0.05917048, 0.01772211, 0.02282467, 0.01047904,\n",
       "       0.02279358, 0.01690349, 0.06316977, 0.01875286, 0.01146245,\n",
       "       0.01625101, 0.01876446, 0.01372079, 0.00640903, 0.01168312,\n",
       "       0.01479568, 0.02140981, 0.03541351, 0.02552112, 0.02293573,\n",
       "       0.02312079, 0.01141051, 0.00487104, 0.0126867 , 0.02119149,\n",
       "       0.02304077, 0.03041445, 0.0115778 , 0.01456755, 0.00818528,\n",
       "       0.02302183, 0.01016322, 0.00989758, 0.02795535, 0.01759997,\n",
       "       0.02086595, 0.01249648, 0.01221615, 0.01382274, 0.01562947,\n",
       "       0.03313182, 0.02585701, 0.04118129, 0.01848931, 0.038941  ,\n",
       "       0.00543278, 0.01558954, 0.01634814, 0.00175912, 0.00168798,\n",
       "       0.00568349, 0.00562822, 0.        ])"
      ]
     },
     "execution_count": 62,
     "metadata": {},
     "output_type": "execute_result"
    }
   ],
   "source": [
    "classifier.feature_importances_"
   ]
  },
  {
   "cell_type": "code",
   "execution_count": 63,
   "metadata": {},
   "outputs": [],
   "source": [
    "vil = pd.DataFrame(list(zip(feature_names,classifier.feature_importances_)),\n",
    "                   columns=['feature','mean_gini_decrease']\n",
    "                  ).sort_values(by='mean_gini_decrease', ascending=False)"
   ]
  },
  {
   "cell_type": "code",
   "execution_count": 64,
   "metadata": {},
   "outputs": [
    {
     "data": {
      "text/html": [
       "<div>\n",
       "<style scoped>\n",
       "    .dataframe tbody tr th:only-of-type {\n",
       "        vertical-align: middle;\n",
       "    }\n",
       "\n",
       "    .dataframe tbody tr th {\n",
       "        vertical-align: top;\n",
       "    }\n",
       "\n",
       "    .dataframe thead th {\n",
       "        text-align: right;\n",
       "    }\n",
       "</style>\n",
       "<table border=\"1\" class=\"dataframe\">\n",
       "  <thead>\n",
       "    <tr style=\"text-align: right;\">\n",
       "      <th></th>\n",
       "      <th>feature</th>\n",
       "      <th>mean_gini_decrease</th>\n",
       "    </tr>\n",
       "  </thead>\n",
       "  <tbody>\n",
       "    <tr>\n",
       "      <th>7</th>\n",
       "      <td>Cheese</td>\n",
       "      <td>0.063170</td>\n",
       "    </tr>\n",
       "    <tr>\n",
       "      <th>1</th>\n",
       "      <td>Baked Goods</td>\n",
       "      <td>0.059170</td>\n",
       "    </tr>\n",
       "    <tr>\n",
       "      <th>42</th>\n",
       "      <td>Sugar and Sweeteners</td>\n",
       "      <td>0.041181</td>\n",
       "    </tr>\n",
       "    <tr>\n",
       "      <th>44</th>\n",
       "      <td>Tea</td>\n",
       "      <td>0.038941</td>\n",
       "    </tr>\n",
       "    <tr>\n",
       "      <th>17</th>\n",
       "      <td>Fish and Seafood</td>\n",
       "      <td>0.035414</td>\n",
       "    </tr>\n",
       "  </tbody>\n",
       "</table>\n",
       "</div>"
      ],
      "text/plain": [
       "                 feature  mean_gini_decrease\n",
       "7                 Cheese            0.063170\n",
       "1            Baked Goods            0.059170\n",
       "42  Sugar and Sweeteners            0.041181\n",
       "44                   Tea            0.038941\n",
       "17      Fish and Seafood            0.035414"
      ]
     },
     "execution_count": 64,
     "metadata": {},
     "output_type": "execute_result"
    }
   ],
   "source": [
    "vil.head()"
   ]
  },
  {
   "cell_type": "code",
   "execution_count": 86,
   "metadata": {},
   "outputs": [
    {
     "data": {
      "image/png": "[encoded data removed]",
      "text/plain": [
       "<Figure size 432x288 with 1 Axes>"
      ]
     },
     "metadata": {
      "needs_background": "light"
     },
     "output_type": "display_data"
    }
   ],
   "source": [
    "ax = plt.barh(data = vil.sort_values(by='mean_gini_decrease').tail(15), \n",
    "         y='feature', \n",
    "         width = 'mean_gini_decrease'\n",
    "        )"
   ]
  },
  {
   "cell_type": "code",
   "execution_count": 66,
   "metadata": {},
   "outputs": [],
   "source": [
    "rf_vil  = []\n",
    "for i in range(50):\n",
    "    rf = sklearn.ensemble.RandomForestClassifier(n_estimators=100)\n",
    "    rf = rf.fit(features_train,labels_categorical_train)\n",
    "    rf_vil.append(rf.feature_importances_)\n",
    "mean_vil = np.mean(rf_vil, axis = 0)"
   ]
  },
  {
   "cell_type": "code",
   "execution_count": 67,
   "metadata": {},
   "outputs": [],
   "source": [
    "mean_vil = pd.DataFrame(list(zip(feature_names,mean_vil)),\n",
    "                   columns=['feature','mean_gini_decrease']\n",
    "                  ).sort_values(by='mean_gini_decrease', ascending=False)"
   ]
  },
  {
   "cell_type": "code",
   "execution_count": 68,
   "metadata": {},
   "outputs": [
    {
     "data": {
      "text/html": [
       "<div>\n",
       "<style scoped>\n",
       "    .dataframe tbody tr th:only-of-type {\n",
       "        vertical-align: middle;\n",
       "    }\n",
       "\n",
       "    .dataframe tbody tr th {\n",
       "        vertical-align: top;\n",
       "    }\n",
       "\n",
       "    .dataframe thead th {\n",
       "        text-align: right;\n",
       "    }\n",
       "</style>\n",
       "<table border=\"1\" class=\"dataframe\">\n",
       "  <thead>\n",
       "    <tr style=\"text-align: right;\">\n",
       "      <th></th>\n",
       "      <th>feature</th>\n",
       "      <th>mean_gini_decrease</th>\n",
       "    </tr>\n",
       "  </thead>\n",
       "  <tbody>\n",
       "    <tr>\n",
       "      <th>7</th>\n",
       "      <td>Cheese</td>\n",
       "      <td>0.052412</td>\n",
       "    </tr>\n",
       "    <tr>\n",
       "      <th>42</th>\n",
       "      <td>Sugar and Sweeteners</td>\n",
       "      <td>0.046706</td>\n",
       "    </tr>\n",
       "    <tr>\n",
       "      <th>1</th>\n",
       "      <td>Baked Goods</td>\n",
       "      <td>0.045241</td>\n",
       "    </tr>\n",
       "    <tr>\n",
       "      <th>17</th>\n",
       "      <td>Fish and Seafood</td>\n",
       "      <td>0.037781</td>\n",
       "    </tr>\n",
       "    <tr>\n",
       "      <th>40</th>\n",
       "      <td>Starchy Roots</td>\n",
       "      <td>0.036491</td>\n",
       "    </tr>\n",
       "  </tbody>\n",
       "</table>\n",
       "</div>"
      ],
      "text/plain": [
       "                 feature  mean_gini_decrease\n",
       "7                 Cheese            0.052412\n",
       "42  Sugar and Sweeteners            0.046706\n",
       "1            Baked Goods            0.045241\n",
       "17      Fish and Seafood            0.037781\n",
       "40         Starchy Roots            0.036491"
      ]
     },
     "execution_count": 68,
     "metadata": {},
     "output_type": "execute_result"
    }
   ],
   "source": [
    "mean_vil.head()"
   ]
  },
  {
   "cell_type": "code",
   "execution_count": 85,
   "metadata": {},
   "outputs": [
    {
     "data": {
      "image/png": "[encoded data removed]",
      "text/plain": [
       "<Figure size 432x288 with 1 Axes>"
      ]
     },
     "metadata": {
      "needs_background": "light"
     },
     "output_type": "display_data"
    }
   ],
   "source": [
    "ax = plt.barh(data = mean_vil.sort_values(by='mean_gini_decrease').tail(15), \n",
    "         y='feature', \n",
    "         width = 'mean_gini_decrease'\n",
    "        )"
   ]
  },
  {
   "cell_type": "code",
   "execution_count": 105,
   "metadata": {},
   "outputs": [],
   "source": [
    "models = []\n",
    "\n",
    "models.append((\"LogisticRegression\",sklearn.linear_model.LogisticRegression()))\n",
    "models.append((\"SVC\",sklearn.svm.SVC()))\n",
    "models.append((\"RandomForest\",sklearn.ensemble.RandomForestClassifier()))\n",
    "models.append((\"KNeighbors\",sklearn.neighbors.KNeighborsClassifier()))\n",
    "models.append((\"MLPClassifier\",sklearn.neural_network.MLPClassifier()))\n",
    "models.append((\"XGBoost\",xgb.XGBClassifier()))\n",
    "models.append((\"DecisionTree\",sklearn.tree.DecisionTreeClassifier()))\n",
    "\n",
    "\n",
    "results = []\n",
    "names = []\n",
    "for name,model in models:\n",
    "    result = sklearn.model_selection.cross_val_score(model, \n",
    "                             features, \n",
    "                             labels_categorical,  \n",
    "                             cv=10, \n",
    "                             scoring='accuracy',\n",
    "                             n_jobs=-1\n",
    "                            )\n",
    "    names.append(name)\n",
    "    results.append(result)"
   ]
  },
  {
   "cell_type": "code",
   "execution_count": 106,
   "metadata": {},
   "outputs": [
    {
     "data": {
      "text/plain": [
       "[('LogisticRegression',\n",
       "  LogisticRegression(C=1.0, class_weight=None, dual=False, fit_intercept=True,\n",
       "                     intercept_scaling=1, l1_ratio=None, max_iter=100,\n",
       "                     multi_class='warn', n_jobs=None, penalty='l2',\n",
       "                     random_state=None, solver='warn', tol=0.0001, verbose=0,\n",
       "                     warm_start=False)),\n",
       " ('SVC', SVC(C=1.0, cache_size=200, class_weight=None, coef0=0.0,\n",
       "      decision_function_shape='ovr', degree=3, gamma='auto_deprecated',\n",
       "      kernel='rbf', max_iter=-1, probability=False, random_state=None,\n",
       "      shrinking=True, tol=0.001, verbose=False)),\n",
       " ('RandomForest',\n",
       "  RandomForestClassifier(bootstrap=True, class_weight=None, criterion='gini',\n",
       "                         max_depth=None, max_features='auto', max_leaf_nodes=None,\n",
       "                         min_impurity_decrease=0.0, min_impurity_split=None,\n",
       "                         min_samples_leaf=1, min_samples_split=2,\n",
       "                         min_weight_fraction_leaf=0.0, n_estimators='warn',\n",
       "                         n_jobs=None, oob_score=False, random_state=None,\n",
       "                         verbose=0, warm_start=False)),\n",
       " ('KNeighbors',\n",
       "  KNeighborsClassifier(algorithm='auto', leaf_size=30, metric='minkowski',\n",
       "                       metric_params=None, n_jobs=None, n_neighbors=5, p=2,\n",
       "                       weights='uniform')),\n",
       " ('MLPClassifier',\n",
       "  MLPClassifier(activation='relu', alpha=0.0001, batch_size='auto', beta_1=0.9,\n",
       "                beta_2=0.999, early_stopping=False, epsilon=1e-08,\n",
       "                hidden_layer_sizes=(100,), learning_rate='constant',\n",
       "                learning_rate_init=0.001, max_iter=200, momentum=0.9,\n",
       "                n_iter_no_change=10, nesterovs_momentum=True, power_t=0.5,\n",
       "                random_state=None, shuffle=True, solver='adam', tol=0.0001,\n",
       "                validation_fraction=0.1, verbose=False, warm_start=False)),\n",
       " ('XGBoost',\n",
       "  XGBClassifier(base_score=0.5, booster='gbtree', colsample_bylevel=1,\n",
       "                colsample_bynode=1, colsample_bytree=1, gamma=0,\n",
       "                learning_rate=0.1, max_delta_step=0, max_depth=3,\n",
       "                min_child_weight=1, missing=None, n_estimators=100, n_jobs=1,\n",
       "                nthread=None, objective='binary:logistic', random_state=0,\n",
       "                reg_alpha=0, reg_lambda=1, scale_pos_weight=1, seed=None,\n",
       "                silent=None, subsample=1, verbosity=1)),\n",
       " ('DecisionTree',\n",
       "  DecisionTreeClassifier(class_weight=None, criterion='gini', max_depth=None,\n",
       "                         max_features=None, max_leaf_nodes=None,\n",
       "                         min_impurity_decrease=0.0, min_impurity_split=None,\n",
       "                         min_samples_leaf=1, min_samples_split=2,\n",
       "                         min_weight_fraction_leaf=0.0, presort=False,\n",
       "                         random_state=None, splitter='best'))]"
      ]
     },
     "execution_count": 106,
     "metadata": {},
     "output_type": "execute_result"
    }
   ],
   "source": [
    "models"
   ]
  },
  {
   "cell_type": "code",
   "execution_count": 110,
   "metadata": {},
   "outputs": [
    {
     "data": {
      "text/plain": [
       "(array([1, 2, 3, 4, 5, 6, 7]), <a list of 7 Text xticklabel objects>)"
      ]
     },
     "execution_count": 110,
     "metadata": {},
     "output_type": "execute_result"
    },
    {
     "data": {
      "image/png": "[encoded data removed]",
      "text/plain": [
       "<Figure size 432x288 with 1 Axes>"
      ]
     },
     "metadata": {
      "needs_background": "light"
     },
     "output_type": "display_data"
    }
   ],
   "source": [
    "plt.boxplot(results,labels = names)\n",
    "plt.xticks(rotation=45)"
   ]
  },
  {
   "cell_type": "code",
   "execution_count": null,
   "metadata": {},
   "outputs": [],
   "source": [
    "#compare the models based on their f1-score, what is the problem?"
   ]
  },
  {
   "cell_type": "code",
   "execution_count": 73,
   "metadata": {},
   "outputs": [
    {
     "name": "stderr",
     "output_type": "stream",
     "text": [
      "C:\\ProgramData\\Anaconda3\\lib\\site-packages\\sklearn\\model_selection\\_search.py:813: DeprecationWarning: The default of the `iid` parameter will change from True to False in version 0.22 and will be removed in 0.24. This will change numeric results when test-set sizes are unequal.\n",
      "  DeprecationWarning)\n"
     ]
    },
    {
     "data": {
      "text/plain": [
       "GridSearchCV(cv=3, error_score='raise-deprecating',\n",
       "             estimator=RandomForestClassifier(bootstrap=True, class_weight=None,\n",
       "                                              criterion='gini', max_depth=None,\n",
       "                                              max_features='auto',\n",
       "                                              max_leaf_nodes=None,\n",
       "                                              min_impurity_decrease=0.0,\n",
       "                                              min_impurity_split=None,\n",
       "                                              min_samples_leaf=1,\n",
       "                                              min_samples_split=2,\n",
       "                                              min_weight_fraction_leaf=0.0,\n",
       "                                              n_estimators='warn', n_jobs=None,\n",
       "                                              oob_score=False,\n",
       "                                              random_state=None, verbose=0,\n",
       "                                              warm_start=False),\n",
       "             iid='warn', n_jobs=-1,\n",
       "             param_grid={'bootstrap': [True, False],\n",
       "                         'max_depth': [20, 40, 60, 80, None],\n",
       "                         'max_features': ['auto', 'sqrt'],\n",
       "                         'min_samples_leaf': [1, 2, 4],\n",
       "                         'min_samples_split': [2, 5, 10],\n",
       "                         'n_estimators': [260, 280, 300, 320, 340]},\n",
       "             pre_dispatch='2*n_jobs', refit=True, return_train_score=False,\n",
       "             scoring=None, verbose=0)"
      ]
     },
     "execution_count": 73,
     "metadata": {},
     "output_type": "execute_result"
    }
   ],
   "source": [
    "parameters = {'n_estimators': list(range(260,360,20)),\n",
    "              'max_features': ['auto', 'sqrt'],\n",
    "              'max_depth': list(range(20,100,20))+[None],\n",
    "              'min_samples_split': [2, 5, 10],\n",
    "              'min_samples_leaf': [1, 2, 4],\n",
    "              'bootstrap': [True, False]\n",
    "}\n",
    "grid_Search = sklearn.model_selection.GridSearchCV(sklearn.ensemble.RandomForestClassifier(), \n",
    "                                                   parameters, \n",
    "                                                   n_jobs=-1,\n",
    "                                                   cv = 3\n",
    "                                                  )\n",
    "\n",
    "grid_Search.fit(features_train,labels_categorical_train)"
   ]
  },
  {
   "cell_type": "code",
   "execution_count": 74,
   "metadata": {},
   "outputs": [
    {
     "data": {
      "text/plain": [
       "{'bootstrap': True,\n",
       " 'max_depth': 40,\n",
       " 'max_features': 'auto',\n",
       " 'min_samples_leaf': 2,\n",
       " 'min_samples_split': 10,\n",
       " 'n_estimators': 320}"
      ]
     },
     "execution_count": 74,
     "metadata": {},
     "output_type": "execute_result"
    }
   ],
   "source": [
    "grid_Search.best_params_"
   ]
  },
  {
   "cell_type": "code",
   "execution_count": 75,
   "metadata": {},
   "outputs": [
    {
     "data": {
      "text/html": [
       "<div>\n",
       "<style scoped>\n",
       "    .dataframe tbody tr th:only-of-type {\n",
       "        vertical-align: middle;\n",
       "    }\n",
       "\n",
       "    .dataframe tbody tr th {\n",
       "        vertical-align: top;\n",
       "    }\n",
       "\n",
       "    .dataframe thead th {\n",
       "        text-align: right;\n",
       "    }\n",
       "</style>\n",
       "<table border=\"1\" class=\"dataframe\">\n",
       "  <thead>\n",
       "    <tr style=\"text-align: right;\">\n",
       "      <th></th>\n",
       "      <th>mean_fit_time</th>\n",
       "      <th>std_fit_time</th>\n",
       "      <th>mean_score_time</th>\n",
       "      <th>std_score_time</th>\n",
       "      <th>param_bootstrap</th>\n",
       "      <th>param_max_depth</th>\n",
       "      <th>param_max_features</th>\n",
       "      <th>param_min_samples_leaf</th>\n",
       "      <th>param_min_samples_split</th>\n",
       "      <th>param_n_estimators</th>\n",
       "      <th>params</th>\n",
       "      <th>split0_test_score</th>\n",
       "      <th>split1_test_score</th>\n",
       "      <th>split2_test_score</th>\n",
       "      <th>mean_test_score</th>\n",
       "      <th>std_test_score</th>\n",
       "      <th>rank_test_score</th>\n",
       "    </tr>\n",
       "  </thead>\n",
       "  <tbody>\n",
       "    <tr>\n",
       "      <th>0</th>\n",
       "      <td>0.177183</td>\n",
       "      <td>0.003279</td>\n",
       "      <td>0.015957</td>\n",
       "      <td>8.144908e-04</td>\n",
       "      <td>True</td>\n",
       "      <td>20</td>\n",
       "      <td>auto</td>\n",
       "      <td>1</td>\n",
       "      <td>2</td>\n",
       "      <td>260</td>\n",
       "      <td>{'bootstrap': True, 'max_depth': 20, 'max_feat...</td>\n",
       "      <td>0.578947</td>\n",
       "      <td>0.684211</td>\n",
       "      <td>0.588235</td>\n",
       "      <td>0.618182</td>\n",
       "      <td>0.048115</td>\n",
       "      <td>327</td>\n",
       "    </tr>\n",
       "    <tr>\n",
       "      <th>1</th>\n",
       "      <td>0.194480</td>\n",
       "      <td>0.004953</td>\n",
       "      <td>0.018949</td>\n",
       "      <td>1.410627e-03</td>\n",
       "      <td>True</td>\n",
       "      <td>20</td>\n",
       "      <td>auto</td>\n",
       "      <td>1</td>\n",
       "      <td>2</td>\n",
       "      <td>280</td>\n",
       "      <td>{'bootstrap': True, 'max_depth': 20, 'max_feat...</td>\n",
       "      <td>0.473684</td>\n",
       "      <td>0.684211</td>\n",
       "      <td>0.529412</td>\n",
       "      <td>0.563636</td>\n",
       "      <td>0.090441</td>\n",
       "      <td>892</td>\n",
       "    </tr>\n",
       "    <tr>\n",
       "      <th>2</th>\n",
       "      <td>0.208110</td>\n",
       "      <td>0.001695</td>\n",
       "      <td>0.017951</td>\n",
       "      <td>8.143934e-04</td>\n",
       "      <td>True</td>\n",
       "      <td>20</td>\n",
       "      <td>auto</td>\n",
       "      <td>1</td>\n",
       "      <td>2</td>\n",
       "      <td>300</td>\n",
       "      <td>{'bootstrap': True, 'max_depth': 20, 'max_feat...</td>\n",
       "      <td>0.631579</td>\n",
       "      <td>0.631579</td>\n",
       "      <td>0.529412</td>\n",
       "      <td>0.600000</td>\n",
       "      <td>0.047213</td>\n",
       "      <td>630</td>\n",
       "    </tr>\n",
       "    <tr>\n",
       "      <th>3</th>\n",
       "      <td>0.232046</td>\n",
       "      <td>0.009080</td>\n",
       "      <td>0.019282</td>\n",
       "      <td>4.701340e-04</td>\n",
       "      <td>True</td>\n",
       "      <td>20</td>\n",
       "      <td>auto</td>\n",
       "      <td>1</td>\n",
       "      <td>2</td>\n",
       "      <td>320</td>\n",
       "      <td>{'bootstrap': True, 'max_depth': 20, 'max_feat...</td>\n",
       "      <td>0.631579</td>\n",
       "      <td>0.736842</td>\n",
       "      <td>0.588235</td>\n",
       "      <td>0.654545</td>\n",
       "      <td>0.062297</td>\n",
       "      <td>5</td>\n",
       "    </tr>\n",
       "    <tr>\n",
       "      <th>4</th>\n",
       "      <td>0.250331</td>\n",
       "      <td>0.016629</td>\n",
       "      <td>0.020944</td>\n",
       "      <td>4.495664e-07</td>\n",
       "      <td>True</td>\n",
       "      <td>20</td>\n",
       "      <td>auto</td>\n",
       "      <td>1</td>\n",
       "      <td>2</td>\n",
       "      <td>340</td>\n",
       "      <td>{'bootstrap': True, 'max_depth': 20, 'max_feat...</td>\n",
       "      <td>0.631579</td>\n",
       "      <td>0.684211</td>\n",
       "      <td>0.529412</td>\n",
       "      <td>0.618182</td>\n",
       "      <td>0.063275</td>\n",
       "      <td>327</td>\n",
       "    </tr>\n",
       "    <tr>\n",
       "      <th>5</th>\n",
       "      <td>0.213762</td>\n",
       "      <td>0.015023</td>\n",
       "      <td>0.017287</td>\n",
       "      <td>1.243879e-03</td>\n",
       "      <td>True</td>\n",
       "      <td>20</td>\n",
       "      <td>auto</td>\n",
       "      <td>1</td>\n",
       "      <td>5</td>\n",
       "      <td>260</td>\n",
       "      <td>{'bootstrap': True, 'max_depth': 20, 'max_feat...</td>\n",
       "      <td>0.578947</td>\n",
       "      <td>0.684211</td>\n",
       "      <td>0.529412</td>\n",
       "      <td>0.600000</td>\n",
       "      <td>0.064366</td>\n",
       "      <td>630</td>\n",
       "    </tr>\n",
       "    <tr>\n",
       "      <th>6</th>\n",
       "      <td>0.212765</td>\n",
       "      <td>0.019379</td>\n",
       "      <td>0.023936</td>\n",
       "      <td>1.058615e-02</td>\n",
       "      <td>True</td>\n",
       "      <td>20</td>\n",
       "      <td>auto</td>\n",
       "      <td>1</td>\n",
       "      <td>5</td>\n",
       "      <td>280</td>\n",
       "      <td>{'bootstrap': True, 'max_depth': 20, 'max_feat...</td>\n",
       "      <td>0.578947</td>\n",
       "      <td>0.684211</td>\n",
       "      <td>0.529412</td>\n",
       "      <td>0.600000</td>\n",
       "      <td>0.064366</td>\n",
       "      <td>630</td>\n",
       "    </tr>\n",
       "    <tr>\n",
       "      <th>7</th>\n",
       "      <td>0.233376</td>\n",
       "      <td>0.008264</td>\n",
       "      <td>0.018617</td>\n",
       "      <td>4.703026e-04</td>\n",
       "      <td>True</td>\n",
       "      <td>20</td>\n",
       "      <td>auto</td>\n",
       "      <td>1</td>\n",
       "      <td>5</td>\n",
       "      <td>300</td>\n",
       "      <td>{'bootstrap': True, 'max_depth': 20, 'max_feat...</td>\n",
       "      <td>0.526316</td>\n",
       "      <td>0.736842</td>\n",
       "      <td>0.529412</td>\n",
       "      <td>0.600000</td>\n",
       "      <td>0.099421</td>\n",
       "      <td>630</td>\n",
       "    </tr>\n",
       "    <tr>\n",
       "      <th>8</th>\n",
       "      <td>0.266952</td>\n",
       "      <td>0.016774</td>\n",
       "      <td>0.026263</td>\n",
       "      <td>6.165930e-03</td>\n",
       "      <td>True</td>\n",
       "      <td>20</td>\n",
       "      <td>auto</td>\n",
       "      <td>1</td>\n",
       "      <td>5</td>\n",
       "      <td>320</td>\n",
       "      <td>{'bootstrap': True, 'max_depth': 20, 'max_feat...</td>\n",
       "      <td>0.578947</td>\n",
       "      <td>0.736842</td>\n",
       "      <td>0.647059</td>\n",
       "      <td>0.654545</td>\n",
       "      <td>0.065813</td>\n",
       "      <td>5</td>\n",
       "    </tr>\n",
       "    <tr>\n",
       "      <th>9</th>\n",
       "      <td>0.284240</td>\n",
       "      <td>0.020777</td>\n",
       "      <td>0.028258</td>\n",
       "      <td>5.777035e-03</td>\n",
       "      <td>True</td>\n",
       "      <td>20</td>\n",
       "      <td>auto</td>\n",
       "      <td>1</td>\n",
       "      <td>5</td>\n",
       "      <td>340</td>\n",
       "      <td>{'bootstrap': True, 'max_depth': 20, 'max_feat...</td>\n",
       "      <td>0.631579</td>\n",
       "      <td>0.736842</td>\n",
       "      <td>0.529412</td>\n",
       "      <td>0.636364</td>\n",
       "      <td>0.083852</td>\n",
       "      <td>69</td>\n",
       "    </tr>\n",
       "  </tbody>\n",
       "</table>\n",
       "</div>"
      ],
      "text/plain": [
       "   mean_fit_time  std_fit_time  mean_score_time  std_score_time  \\\n",
       "0       0.177183      0.003279         0.015957    8.144908e-04   \n",
       "1       0.194480      0.004953         0.018949    1.410627e-03   \n",
       "2       0.208110      0.001695         0.017951    8.143934e-04   \n",
       "3       0.232046      0.009080         0.019282    4.701340e-04   \n",
       "4       0.250331      0.016629         0.020944    4.495664e-07   \n",
       "5       0.213762      0.015023         0.017287    1.243879e-03   \n",
       "6       0.212765      0.019379         0.023936    1.058615e-02   \n",
       "7       0.233376      0.008264         0.018617    4.703026e-04   \n",
       "8       0.266952      0.016774         0.026263    6.165930e-03   \n",
       "9       0.284240      0.020777         0.028258    5.777035e-03   \n",
       "\n",
       "  param_bootstrap param_max_depth param_max_features param_min_samples_leaf  \\\n",
       "0            True              20               auto                      1   \n",
       "1            True              20               auto                      1   \n",
       "2            True              20               auto                      1   \n",
       "3            True              20               auto                      1   \n",
       "4            True              20               auto                      1   \n",
       "5            True              20               auto                      1   \n",
       "6            True              20               auto                      1   \n",
       "7            True              20               auto                      1   \n",
       "8            True              20               auto                      1   \n",
       "9            True              20               auto                      1   \n",
       "\n",
       "  param_min_samples_split param_n_estimators  \\\n",
       "0                       2                260   \n",
       "1                       2                280   \n",
       "2                       2                300   \n",
       "3                       2                320   \n",
       "4                       2                340   \n",
       "5                       5                260   \n",
       "6                       5                280   \n",
       "7                       5                300   \n",
       "8                       5                320   \n",
       "9                       5                340   \n",
       "\n",
       "                                              params  split0_test_score  \\\n",
       "0  {'bootstrap': True, 'max_depth': 20, 'max_feat...           0.578947   \n",
       "1  {'bootstrap': True, 'max_depth': 20, 'max_feat...           0.473684   \n",
       "2  {'bootstrap': True, 'max_depth': 20, 'max_feat...           0.631579   \n",
       "3  {'bootstrap': True, 'max_depth': 20, 'max_feat...           0.631579   \n",
       "4  {'bootstrap': True, 'max_depth': 20, 'max_feat...           0.631579   \n",
       "5  {'bootstrap': True, 'max_depth': 20, 'max_feat...           0.578947   \n",
       "6  {'bootstrap': True, 'max_depth': 20, 'max_feat...           0.578947   \n",
       "7  {'bootstrap': True, 'max_depth': 20, 'max_feat...           0.526316   \n",
       "8  {'bootstrap': True, 'max_depth': 20, 'max_feat...           0.578947   \n",
       "9  {'bootstrap': True, 'max_depth': 20, 'max_feat...           0.631579   \n",
       "\n",
       "   split1_test_score  split2_test_score  mean_test_score  std_test_score  \\\n",
       "0           0.684211           0.588235         0.618182        0.048115   \n",
       "1           0.684211           0.529412         0.563636        0.090441   \n",
       "2           0.631579           0.529412         0.600000        0.047213   \n",
       "3           0.736842           0.588235         0.654545        0.062297   \n",
       "4           0.684211           0.529412         0.618182        0.063275   \n",
       "5           0.684211           0.529412         0.600000        0.064366   \n",
       "6           0.684211           0.529412         0.600000        0.064366   \n",
       "7           0.736842           0.529412         0.600000        0.099421   \n",
       "8           0.736842           0.647059         0.654545        0.065813   \n",
       "9           0.736842           0.529412         0.636364        0.083852   \n",
       "\n",
       "   rank_test_score  \n",
       "0              327  \n",
       "1              892  \n",
       "2              630  \n",
       "3                5  \n",
       "4              327  \n",
       "5              630  \n",
       "6              630  \n",
       "7              630  \n",
       "8                5  \n",
       "9               69  "
      ]
     },
     "execution_count": 75,
     "metadata": {},
     "output_type": "execute_result"
    }
   ],
   "source": [
    "pd.DataFrame(grid_Search.cv_results_).head(10)"
   ]
  },
  {
   "cell_type": "code",
   "execution_count": 76,
   "metadata": {},
   "outputs": [],
   "source": [
    "predictions = grid_Search.predict(features_test)"
   ]
  },
  {
   "cell_type": "code",
   "execution_count": 77,
   "metadata": {},
   "outputs": [
    {
     "name": "stdout",
     "output_type": "stream",
     "text": [
      "[[7 3 0]\n",
      " [0 2 3]\n",
      " [1 3 5]]\n"
     ]
    }
   ],
   "source": [
    "print(sklearn.metrics.confusion_matrix(predictions, labels_categorical_test))"
   ]
  },
  {
   "cell_type": "code",
   "execution_count": 78,
   "metadata": {},
   "outputs": [
    {
     "name": "stdout",
     "output_type": "stream",
     "text": [
      "              precision    recall  f1-score   support\n",
      "\n",
      "           1       0.88      0.70      0.78        10\n",
      "           2       0.25      0.40      0.31         5\n",
      "           3       0.62      0.56      0.59         9\n",
      "\n",
      "    accuracy                           0.58        24\n",
      "   macro avg       0.58      0.55      0.56        24\n",
      "weighted avg       0.65      0.58      0.61        24\n",
      "\n"
     ]
    }
   ],
   "source": [
    "print(sklearn.metrics.classification_report(predictions, labels_categorical_test))"
   ]
  },
  {
   "cell_type": "code",
   "execution_count": null,
   "metadata": {},
   "outputs": [],
   "source": [
    "#make your own grid search"
   ]
  }
 ],
 "metadata": {
  "kernelspec": {
   "display_name": "Python 3",
   "language": "python",
   "name": "python3"
  },
  "language_info": {
   "codemirror_mode": {
    "name": "ipython",
    "version": 3
   },
   "file_extension": ".py",
   "mimetype": "text/x-python",
   "name": "python",
   "nbconvert_exporter": "python",
   "pygments_lexer": "ipython3",
   "version": "3.7.1"
  }
 },
 "nbformat": 4,
 "nbformat_minor": 2
}
